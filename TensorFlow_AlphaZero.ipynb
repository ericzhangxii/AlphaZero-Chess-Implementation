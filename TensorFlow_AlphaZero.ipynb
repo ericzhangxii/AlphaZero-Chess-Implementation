{
  "nbformat": 4,
  "nbformat_minor": 0,
  "metadata": {
    "colab": {
      "provenance": [],
      "machine_shape": "hm",
      "gpuType": "A100",
      "authorship_tag": "ABX9TyPFgRaXbLjvALF31ZK9KKG/",
      "include_colab_link": true
    },
    "kernelspec": {
      "name": "python3",
      "display_name": "Python 3"
    },
    "language_info": {
      "name": "python"
    }
  },
  "cells": [
    {
      "cell_type": "markdown",
      "metadata": {
        "id": "view-in-github",
        "colab_type": "text"
      },
      "source": [
        "<a href=\"https://colab.research.google.com/github/ericzhangxii/AlphaZero-Chess-Implementation/blob/main/TensorFlow_AlphaZero.ipynb\" target=\"_parent\"><img src=\"https://colab.research.google.com/assets/colab-badge.svg\" alt=\"Open In Colab\"/></a>"
      ]
    },
    {
      "cell_type": "code",
      "source": [
        "!pip install tensorflow chess tqdm"
      ],
      "metadata": {
        "id": "KYv6m7LDeOpu"
      },
      "execution_count": null,
      "outputs": []
    },
    {
      "cell_type": "markdown",
      "source": [
        "OK so presumably the pseudocode is just a suggestion which you override later.\n",
        "\n",
        "Y'know what, the whole overpromotions/underpromotions thing is just super annoying. Just gonna ignore actually.\n",
        "\n",
        "Also note, you can just have empty planes if you want. It's fine, nothing bad actually happens.\n",
        "\n",
        "Another note: wow just coding the damn thing was a lot easier than debugging it!\n",
        "\n",
        "What's going on here?\n",
        "\n",
        "Observe a problem: wow it gets slow\n",
        "Hypothesis: is it the deepcopy thing?"
      ],
      "metadata": {
        "id": "3fHT3xZwfkhB"
      }
    },
    {
      "cell_type": "markdown",
      "source": [
        "# Network"
      ],
      "metadata": {
        "id": "MUddRDWg76BD"
      }
    },
    {
      "cell_type": "code",
      "source": [
        "import copy\n",
        "import numpy as np\n",
        "def get_moves_dict(tensor_mode=False): #New Helper\n",
        "  int_to_moves = {}\n",
        "  moves_to_int = {}\n",
        "  directions = [(0, 1), (1, 1), (1, 0), (1, -1), (0, -1), (-1, -1), (-1, 0), (-1, 1)]\n",
        "  knight_offsets = [(1, 2), (2, 1), (2, -1), (1, -2), (-1, -2), (-2, -1), (-2, 1), (-1, 2)]\n",
        "  idx = 0\n",
        "  for from_square in range(64):\n",
        "    from_rank, from_file = divmod(from_square, 8)\n",
        "    #Queen Moves\n",
        "    for (dx,dy) in directions:\n",
        "      for steps in range(1,8):\n",
        "        to_file = from_file + steps*dx\n",
        "        to_rank = from_rank + steps*dy\n",
        "        if(0<=to_file<8 and 0<= to_rank < 8):\n",
        "          to_square = to_rank * 8 + to_file\n",
        "          move = chess.Move(from_square, to_square)\n",
        "          int_to_moves[idx] = move\n",
        "          moves_to_int[move] = idx\n",
        "          idx += 1\n",
        "    #Knight Moves\n",
        "    for dx, dy in knight_offsets:\n",
        "      to_file = from_file + dx\n",
        "      to_rank = from_rank + dy\n",
        "      if(0<= to_file < 8 and 0<= to_rank <8):\n",
        "        to_square = to_rank*8 + to_file\n",
        "        move = chess.Move(from_square, to_square)\n",
        "        int_to_moves[idx] = move\n",
        "        moves_to_int[move] = idx\n",
        "        idx += 1\n",
        "    #Promotions\n",
        "    if(from_rank in [1,6]):\n",
        "      for promo_piece in [chess.QUEEN, chess.ROOK, chess.BISHOP, chess.KNIGHT]:\n",
        "        for dx in [-1, 0, 1]:\n",
        "          to_file = from_file + dx\n",
        "          to_rank = 0 if from_rank==1 else 7\n",
        "          if(0 <= to_file <8):\n",
        "            to_square = to_file + 8*to_rank\n",
        "            move = chess.Move(from_square, to_square, promotion=promo_piece)\n",
        "            int_to_moves[idx] = move\n",
        "            moves_to_int[move] = idx\n",
        "            idx += 1\n",
        "  return int_to_moves, moves_to_int\n",
        "int_to_moves, moves_to_int = get_moves_dict()"
      ],
      "metadata": {
        "id": "qITYBWeHY1N-"
      },
      "execution_count": null,
      "outputs": []
    },
    {
      "cell_type": "code",
      "source": [
        "import copy\n",
        "import chess\n",
        "import numpy as np\n",
        "import random\n",
        "import tqdm\n",
        "from tqdm import tqdm\n",
        "import os\n",
        "import time\n",
        "import chess.svg\n",
        "from IPython.display import SVG, display, clear_output\n",
        "import pickle\n",
        "\n",
        "def print_board(board):\n",
        "    # Clear previous console output\n",
        "    clear_output(wait=True)\n",
        "    # Display the board\n",
        "    display(SVG(chess.svg.board(board=board,size=300)))\n",
        "\n",
        "#ChessNet Model 2\n",
        "#Seems 33% faster for some reason?\n",
        "import tensorflow as tf\n",
        "from tensorflow.keras import layers\n",
        "\n",
        "from tensorflow.keras.layers import Conv2D, Dense, Flatten, Add, Input, BatchNormalization\n",
        "from tensorflow.keras.models import Model\n",
        "class ResidualBlock(tf.keras.layers.Layer):\n",
        "    def __init__(self, num_filters):\n",
        "        super(ResidualBlock, self).__init__()\n",
        "        self.conv1 = Conv2D(num_filters, kernel_size=3, padding='same')\n",
        "        self.bn1 = BatchNormalization()\n",
        "        self.conv2 = Conv2D(num_filters, kernel_size=3, padding='same')\n",
        "        self.bn2 = BatchNormalization()\n",
        "\n",
        "    def call(self, inputs):\n",
        "        x = self.bn1(self.conv1(inputs))\n",
        "        x = tf.nn.relu(x)\n",
        "        x = self.bn2(self.conv2(x))\n",
        "        x = Add()([inputs, x])\n",
        "        return tf.nn.relu(x)\n",
        "\n",
        "class ChessNet(Network):\n",
        "    def __init__(self, input_shape=(8,8,20), num_res_blocks=0, num_filters=1):\n",
        "        super().__init__()\n",
        "        inputs = Input(shape=input_shape)\n",
        "        x = Conv2D(num_filters, kernel_size=3, padding='same')(inputs)\n",
        "        x = BatchNormalization()(x)\n",
        "        x = tf.nn.relu(x)\n",
        "\n",
        "        for _ in range(num_res_blocks):\n",
        "            x = ResidualBlock(num_filters)(x)\n",
        "\n",
        "        # Policy head\n",
        "        policy_conv = Conv2D(2, kernel_size=1, padding='same')(x)\n",
        "        policy_conv = BatchNormalization()(policy_conv)\n",
        "        policy_conv = tf.nn.relu(policy_conv)\n",
        "        policy_flatten = Flatten()(policy_conv)\n",
        "        policy_output = Dense(1986, activation='softmax')(policy_flatten)\n",
        "\n",
        "        # Value head\n",
        "        value_conv = Conv2D(1, kernel_size=1, padding='same')(x)\n",
        "        value_conv = BatchNormalization()(value_conv)\n",
        "        value_conv = tf.nn.relu(value_conv)\n",
        "        value_flatten = Flatten()(value_conv)\n",
        "        value_hidden = Dense(256, activation='relu')(value_flatten)\n",
        "        value_output = Dense(1, activation='tanh')(value_hidden)\n",
        "        self.model = Model(inputs=inputs, outputs=[value_output, policy_output])\n",
        "\n",
        "    def get_weights(self):\n",
        "        return self.model.get_weights()\n",
        "\n",
        "    def inference(self, image):\n",
        "        value_output, policy_output = self.model.predict(tf.expand_dims(image,axis=0),verbose=False)\n",
        "        value = value_output[0][0]\n",
        "        policy = {i:val for i,val in enumerate(policy_output[0])}\n",
        "        return value, policy\n",
        "\n",
        "\"\"\"Pseudocode description of the AlphaZero algorithm.\"\"\"\n",
        "\n",
        "import math\n",
        "import numpy\n",
        "import tensorflow as tf\n",
        "from typing import List\n",
        "\n",
        "##########################\n",
        "####### Helpers ##########\n",
        "\n",
        "\n",
        "class AlphaZeroConfig(object):\n",
        "\n",
        "  def __init__(self):\n",
        "    ### Self-Play\n",
        "    self.num_actors = 1\n",
        "\n",
        "    self.num_sampling_moves = 30\n",
        "    self.max_moves = 1000  # for chess and shogi, 722 for Go.\n",
        "    self.num_simulations = 1\n",
        "    self.max_games = 100\n",
        "\n",
        "    # Root prior exploration noise.\n",
        "    self.root_dirichlet_alpha = 0.3  # for chess, 0.03 for Go and 0.15 for shogi.\n",
        "    self.root_exploration_fraction = 0.25\n",
        "\n",
        "    # UCB formula\n",
        "    self.pb_c_base = 19652\n",
        "    self.pb_c_init = 1.25\n",
        "\n",
        "    ### Training\n",
        "    self.training_steps = int(700e3)\n",
        "    self.checkpoint_interval = int(1e3)\n",
        "    self.window_size = int(1e6)\n",
        "    self.batch_size = 4096\n",
        "\n",
        "    self.weight_decay = 1e-4\n",
        "    self.momentum = 0.9\n",
        "    # Schedule for chess and shogi, Go starts at 2e-2 immediately.\n",
        "    self.learning_rate_schedule = {\n",
        "        0: 2e-1,\n",
        "        100e3: 2e-2,\n",
        "        300e3: 2e-3,\n",
        "        500e3: 2e-4\n",
        "    }\n",
        "\n",
        "    self.random_setting = 2\n",
        "\n",
        "\n",
        "class Node(object):\n",
        "\n",
        "  def __init__(self, prior: float):\n",
        "    self.visit_count = 0\n",
        "    self.to_play = -1\n",
        "    self.prior = prior\n",
        "    self.value_sum = 0\n",
        "    self.children = {}\n",
        "\n",
        "  def expanded(self):\n",
        "    return len(self.children) > 0\n",
        "\n",
        "  def value(self):\n",
        "    if self.visit_count == 0:\n",
        "      return 0\n",
        "    return self.value_sum / self.visit_count\n",
        "\n",
        "class ChessGame(object):\n",
        "  def __init__(self, history=None, state_history=None):\n",
        "    self.history = history or []\n",
        "    self.state_history = state_history or [chess.Board()]\n",
        "    self.child_visits = []\n",
        "    self.num_actions = 1968\n",
        "\n",
        "  def terminal(self):\n",
        "    if(self.state_history[-1].is_game_over()):\n",
        "      return True\n",
        "    else:\n",
        "      return False\n",
        "\n",
        "  def terminal_value(self, to_play):\n",
        "    if(self.terminal()):\n",
        "      if(self.state_history[-1].is_checkmate()):\n",
        "        if(to_play==self.to_play()):\n",
        "          return -1\n",
        "        else:\n",
        "          return 1\n",
        "      else:\n",
        "        return 0\n",
        "    else:\n",
        "      raise Exception(\"Not Terminal\")\n",
        "\n",
        "\n",
        "  def legal_actions(self):\n",
        "    movesList = list(self.state_history[-1].legal_moves)\n",
        "    actionsList = [moves_to_int[move] for move in movesList]\n",
        "    return actionsList\n",
        "\n",
        "\n",
        "  def clone(self):\n",
        "    return ChessGame([],list(self.state_history))\n",
        "\n",
        "  def apply(self, action):\n",
        "    self.history.append(action)\n",
        "    boardcopy = copy.deepcopy(self.state_history[-1])\n",
        "    move = int_to_moves[action]\n",
        "    boardcopy.push(move)\n",
        "    self.state_history.append(boardcopy)\n",
        "\n",
        "  def store_search_statistics(self, root):\n",
        "    sum_visits = sum(child.visit_count for child in root.children.values())\n",
        "    self.child_visits.append([\n",
        "        root.children[a].visit_count / sum_visits if a in root.children else 0\n",
        "        for a in range(self.num_actions)\n",
        "    ])\n",
        "\n",
        "  def make_image(self, state_index):\n",
        "    board = self.state_history[state_index]\n",
        "    image = create_tensor(board)\n",
        "    return image\n",
        "\n",
        "  def random_move(self):\n",
        "    random_action = random.choice(self.legal_actions())\n",
        "    return random_action\n",
        "\n",
        "  def to_play(self):\n",
        "    return self.state_history[-1].turn\n",
        "\n",
        "  def make_target(self, state_index: int):\n",
        "    #print(\"Making Target\")\n",
        "    #print(\"state_index = \" + str(state_index))\n",
        "    #print(\"self.child_visits = \" + str(len(self.child_visits)))\n",
        "    return (self.terminal_value(state_index % 2),\n",
        "            self.child_visits[state_index])\n",
        "\n",
        "class ReplayBuffer(object):\n",
        "  def __init__(self, config: AlphaZeroConfig):\n",
        "    self.window_size = config.window_size\n",
        "    self.batch_size = config.batch_size\n",
        "    self.buffer = []\n",
        "    try:\n",
        "      with open('replay_buffer.pkl','rb') as f:\n",
        "        self.buffer = pickle.load(f)\n",
        "    except:\n",
        "      pass\n",
        "\n",
        "  def save_game(self, game):\n",
        "    if len(self.buffer) > self.window_size:\n",
        "      self.buffer.pop(0)\n",
        "    self.buffer.append(game)\n",
        "    if(len(self.buffer)%1 == 0):\n",
        "      with open('replay_buffer.pkl','wb') as f:\n",
        "        pickle.dump(self.buffer,f)\n",
        "\n",
        "  def sample_batch(self):\n",
        "    # Sample uniformly across positions.\n",
        "    move_sum = float(sum(len(g.history) for g in self.buffer))\n",
        "    games = numpy.random.choice(\n",
        "        self.buffer,\n",
        "        size=self.batch_size,\n",
        "        p=[len(g.history) / move_sum for g in self.buffer])\n",
        "    game_pos = [(g, numpy.random.randint(len(g.history))) for g in games]\n",
        "    return [(g.make_image(i), g.make_target(i)) for (g, i) in game_pos]\n",
        "\n",
        "\n",
        "class Network(object):\n",
        "\n",
        "  def inference(self, image):\n",
        "    return (-1, {})  # Value, Policy\n",
        "\n",
        "  def get_weights(self):\n",
        "    # Returns the weights of this network.\n",
        "    return []\n",
        "\n",
        "\n",
        "class SharedStorage(object):\n",
        "\n",
        "  def __init__(self):\n",
        "    self._networks = {}\n",
        "\n",
        "  def latest_network(self) -> Network:\n",
        "    if self._networks:\n",
        "      return self._networks[max(self._networks.keys())]\n",
        "    else:\n",
        "      return ChessNet()  # policy -> uniform, value -> 0.5\n",
        "\n",
        "  def save_network(self, step: int, network: Network):\n",
        "    print(\"Saving Network!\")\n",
        "    self._networks[step] = network\n",
        "\n",
        "\n",
        "def save_object(myObject, object_name):\n",
        "  with open(f'{object_name}.pkl','wb') as f:\n",
        "    pickle.dump(myObject,f)\n",
        "\n",
        "##### End Helpers ########\n",
        "##########################\n",
        "\n",
        "\n",
        "# AlphaZero training is split into two independent parts: Network training and\n",
        "# self-play data generation.\n",
        "# These two parts only communicate by transferring the latest network checkpoint\n",
        "# from the training to the self-play, and the finished games from the self-play\n",
        "# to the training.\n",
        "def alphazero(config: AlphaZeroConfig):\n",
        "  storage = SharedStorage()\n",
        "  replay_buffer = ReplayBuffer(config)\n",
        "\n",
        "  for i in range(config.num_actors):\n",
        "    launch_job(run_selfplay, config, storage, replay_buffer)\n",
        "\n",
        "  train_network(config, storage, replay_buffer)\n",
        "\n",
        "  return storage.latest_network()\n",
        "\n",
        "\n",
        "##################################\n",
        "####### Part 1: Self-Play ########\n",
        "\n",
        "\n",
        "# Each self-play job is independent of all others; it takes the latest network\n",
        "# snapshot, produces a game and makes it available to the training job by\n",
        "# writing it to a shared replay buffer.\n",
        "def run_selfplay(config: AlphaZeroConfig, storage: SharedStorage,\n",
        "                 replay_buffer: ReplayBuffer):\n",
        "  while (len(replay_buffer.buffer)<config.max_games):\n",
        "    network = storage.latest_network()\n",
        "    game = play_game(config, network,replay_buffer.buffer)\n",
        "    replay_buffer.save_game(game)\n",
        "\n",
        "\n",
        "# Each game is produced by starting at the initial board position, then\n",
        "# repeatedly executing a Monte Carlo Tree Search to generate moves until the end\n",
        "# of the game is reached.\n",
        "\n",
        "def play_game(config: AlphaZeroConfig, network: Network, buffer=None):\n",
        "  game = ChessGame()\n",
        "  while not game.terminal() and len(game.state_history) < config.max_moves:\n",
        "    action, root = run_mcts(config, game, network)\n",
        "    game.apply(action)\n",
        "    board = game.state_history[-1]\n",
        "    clear_output(wait=True)\n",
        "    display(SVG(chess.svg.board(board=board,size=300)))\n",
        "    if(buffer):\n",
        "      print(\"Game Number: \" + str(len(buffer)))\n",
        "      print(\"Checkmates: \" + str(sum([game.state_history[-1].is_checkmate() for game in buffer])))\n",
        "    print(\"Action: \" + str(action))\n",
        "    print(\"Move: \" + str(len(game.state_history)))\n",
        "    print(\"To Move: \" + str(board.turn))\n",
        "    game.store_search_statistics(root)\n",
        "  return game\n",
        "\n",
        "\n",
        "# Core Monte Carlo Tree Search algorithm.\n",
        "# To decide on an action, we run N simulations, always starting at the root of\n",
        "# the search tree and traversing the tree according to the UCB formula until we\n",
        "# reach a leaf node.\n",
        "def run_mcts(config: AlphaZeroConfig, game: ChessGame, network: Network):\n",
        "  root = Node(0)\n",
        "  evaluate(root, game, network)\n",
        "  add_exploration_noise(config, root)\n",
        "\n",
        "  for _ in range(config.num_simulations):\n",
        "    node = root\n",
        "    scratch_game = game.clone()\n",
        "    search_path = [node]\n",
        "\n",
        "    while node.expanded():\n",
        "      action, node = select_child(config, node)\n",
        "      scratch_game.apply(action)\n",
        "      search_path.append(node)\n",
        "\n",
        "    value = evaluate(node, scratch_game, network)\n",
        "    backpropagate(search_path, value, scratch_game.to_play())\n",
        "  return select_action(config, game, root), root\n",
        "\n",
        "\n",
        "def select_action(config: AlphaZeroConfig, game: ChessGame, root: Node):\n",
        "  visit_counts = [(child.visit_count, action)\n",
        "                  for action, child in root.children.items()]\n",
        "  if len(game.history) < config.num_sampling_moves:\n",
        "    _, action = softmax_sample(visit_counts)\n",
        "  else:\n",
        "    _, action = max(visit_counts, key=lambda item:item[0])\n",
        "  return action\n",
        "\n",
        "\n",
        "# Select the child with the highest UCB score.\n",
        "def select_child(config: AlphaZeroConfig, node: Node):\n",
        "  childlist = [(ucb_score(config, node, child), action, child)\n",
        "                         for action, child in node.children.items()]\n",
        "  _, action, child = max(childlist, key=lambda item:item[0])\n",
        "  return action, child\n",
        "\n",
        "\n",
        "# The score for a node is based on its value, plus an exploration bonus based on\n",
        "# the prior.\n",
        "def ucb_score(config: AlphaZeroConfig, parent: Node, child: Node):\n",
        "  pb_c = math.log((parent.visit_count + config.pb_c_base + 1) /\n",
        "                  config.pb_c_base) + config.pb_c_init\n",
        "  pb_c *= math.sqrt(parent.visit_count) / (child.visit_count + 1)\n",
        "\n",
        "  prior_score = pb_c * child.prior\n",
        "  value_score = child.value()\n",
        "  return prior_score + value_score\n",
        "\n",
        "\n",
        "# We use the neural network to obtain a value and policy prediction.\n",
        "def evaluate(node: Node, game: ChessGame, network: Network):\n",
        "  value, policy_logits = network.inference(game.make_image(-1))\n",
        "\n",
        "  # Expand the node.\n",
        "  node.to_play = game.to_play()\n",
        "  policy = {a: math.exp(policy_logits[a]) for a in game.legal_actions()}\n",
        "  policy_sum = sum(policy.values())\n",
        "  for action, p in policy.items():\n",
        "    node.children[action] = Node(p / policy_sum)\n",
        "  return value\n",
        "\n",
        "\n",
        "# At the end of a simulation, we propagate the evaluation all the way up the\n",
        "# tree to the root.\n",
        "def backpropagate(search_path: List[Node], value: float, to_play):\n",
        "  for node in search_path:\n",
        "    node.value_sum += value if node.to_play == to_play else (1 - value)\n",
        "    node.visit_count += 1\n",
        "\n",
        "\n",
        "# At the start of each search, we add dirichlet noise to the prior of the root\n",
        "# to encourage the search to explore new actions.\n",
        "def add_exploration_noise(config: AlphaZeroConfig, node: Node):\n",
        "  actions = node.children.keys()\n",
        "  noise = numpy.random.gamma(config.root_dirichlet_alpha, 1, len(actions))\n",
        "  frac = config.root_exploration_fraction\n",
        "  for a, n in zip(actions, noise):\n",
        "    node.children[a].prior = node.children[a].prior * (1 - frac) + n * frac\n",
        "\n",
        "\n",
        "######### End Self-Play ##########\n",
        "##################################\n",
        "\n",
        "##################################\n",
        "####### Part 2: Training #########\n",
        "\n",
        "\n",
        "def train_network(config: AlphaZeroConfig, storage: SharedStorage,\n",
        "                  replay_buffer: ReplayBuffer):\n",
        "  network = ChessNet()\n",
        "  optimizer = tf.compat.v1.train.MomentumOptimizer(config.learning_rate_schedule,\n",
        "                                         config.momentum)\n",
        "  print(\"Training Network\")\n",
        "  for i in range(config.training_steps):\n",
        "    if i % config.checkpoint_interval == 0:\n",
        "      storage.save_network(i, network)\n",
        "    batch = replay_buffer.sample_batch()\n",
        "    update_weights(optimizer, network, batch, config.weight_decay)\n",
        "  print(\"Network Saved\")\n",
        "  storage.save_network(config.training_steps, network)\n",
        "\n",
        "\n",
        "def update_weights(optimizer: tf.compat.v1.train.Optimizer, network: Network, batch,\n",
        "                   weight_decay: float):\n",
        "  loss = 0\n",
        "  for image, (target_value, target_policy) in tqdm(batch):\n",
        "    value, policy_logits = network.inference(image)\n",
        "    logits = [policy_logits[i] for i in range(1968)]\n",
        "    mse_loss = tf.losses.mean_squared_error([value], [target_value])\n",
        "    ce_loss = tf.nn.softmax_cross_entropy_with_logits(\n",
        "            logits=logits, labels=target_policy)\n",
        "    loss += tf.cast(mse_loss,tf.float32)\n",
        "    loss += ce_loss\n",
        "\n",
        "  for weights in network.get_weights():\n",
        "    loss += weight_decay * tf.nn.l2_loss(weights)\n",
        "\n",
        "  optimizer.minimize(loss)\n",
        "\n",
        "\n",
        "######### End Training ###########\n",
        "##################################\n",
        "\n",
        "################################################################################\n",
        "############################# End of pseudocode ################################\n",
        "################################################################################\n",
        "\n",
        "\n",
        "# Stubs to make the typechecker happy, should not be included in pseudocode\n",
        "# for the paper.\n",
        "\n",
        "\n",
        "def softmax_sample(visit_counts):\n",
        "    # Separate the visit counts and actions\n",
        "    counts, actions = zip(*visit_counts)\n",
        "    # Convert counts to float\n",
        "    counts = tf.constant(counts, dtype=tf.float32)\n",
        "    # Convert counts to probabilities using softmax\n",
        "    probabilities = tf.nn.softmax(counts).numpy()\n",
        "    # Select an index according to these probabilities\n",
        "    selected_index = np.random.choice(len(actions), p=probabilities)\n",
        "    # Return the corresponding visit count and action\n",
        "    return visit_counts[selected_index]\n",
        "\n",
        "\n",
        "\n",
        "def launch_job(f, *args):\n",
        "  f(*args)\n",
        "\n",
        "\n",
        "def make_uniform_network():\n",
        "  return Network()\n",
        "\n",
        "\n",
        "\n",
        "import chess\n",
        "import numpy as np\n",
        "\n",
        "def board_to_planes(board):\n",
        "    planes = np.zeros((8, 8, 14), dtype=float)\n",
        "\n",
        "    for i in range(64):\n",
        "        pp = board.piece_at(i)\n",
        "        if pp is not None:\n",
        "            color = int(pp.color)\n",
        "            piece_type = pp.piece_type\n",
        "            row = i // 8\n",
        "            col = i % 8\n",
        "            planes[row][col][(piece_type - 1) + color * 7] = 1\n",
        "    return planes\n",
        "\n",
        "def create_tensor0(board_history):\n",
        "    tensor = np.zeros((8, 8, 14*8+7), dtype=float)\n",
        "    reverse_hist = board_history[::-1]\n",
        "\n",
        "    for i in range(8):\n",
        "      if(i<len(reverse_hist)):\n",
        "        board = reverse_hist[i]\n",
        "        tensor[:, :, (i*14):(i*14+14)] = board_to_planes(board)\n",
        "\n",
        "    board = board_history[-1]  # Most recent board state\n",
        "    tensor[:, :, 112] = int(board.turn)\n",
        "    tensor[:, :, 113] = board.fullmove_number\n",
        "    tensor[:, :, 114] = int(board.has_kingside_castling_rights(chess.WHITE))\n",
        "    tensor[:, :, 115] = int(board.has_queenside_castling_rights(chess.WHITE))\n",
        "    tensor[:, :, 116] = int(board.has_kingside_castling_rights(chess.BLACK))\n",
        "    tensor[:, :, 117] = int(board.has_queenside_castling_rights(chess.BLACK))\n",
        "    tensor[:, :, 118] = board.halfmove_clock\n",
        "    return tensor\n",
        "\n",
        "def create_tensor(board):\n",
        "  tensor = np.zeros((8,8,20),dtype=float)\n",
        "  for i in range(64):\n",
        "    pp = board.piece_at(i)\n",
        "    if(pp is not None):\n",
        "      color = int(pp.color)\n",
        "      piece_type = pp.piece_type\n",
        "      row = i // 8\n",
        "      col = i % 8\n",
        "      tensor[row][col][(piece_type - 1) + color*6] = 1\n",
        "  tensor[:,:,12] = int(board.turn)\n",
        "  tensor[:,:,13] = board.fullmove_number\n",
        "  tensor[:,:,14] = int(board.has_kingside_castling_rights(chess.WHITE))\n",
        "  tensor[:,:,15] = int(board.has_queenside_castling_rights(chess.WHITE))\n",
        "  tensor[:,:,16] = int(board.has_kingside_castling_rights(chess.BLACK))\n",
        "  tensor[:,:,17] = int(board.has_queenside_castling_rights(chess.BLACK))\n",
        "  tensor[:,:,18] = board.halfmove_clock\n",
        "  tensor[:,:,19] = board.is_repetition()\n",
        "  return tensor\n",
        "\n",
        "def get_items_up_to_index(lst, index):\n",
        "    if index < 0:\n",
        "        index = len(lst) + index\n",
        "    return lst[:index+1]\n",
        "\n",
        "import numpy as np\n",
        "\n",
        "def tensor_to_moves_dict(tensor):\n",
        "  moves_dict = {}\n",
        "  directions = [(0, 1), (1, 1), (1, 0), (1, -1), (0, -1), (-1, -1), (-1, 0), (-1, 1)]\n",
        "  knight_offsets = [(1, 2), (2, 1), (2, -1), (1, -2), (-1, -2), (-2, -1), (-2, 1), (-1, 2)]\n",
        "  for from_square in range(64):\n",
        "    idx = 0\n",
        "    from_rank, from_file = divmod(from_square, 8)\n",
        "\n",
        "    #Queen Moves\n",
        "    for (dx,dy) in directions:\n",
        "      for steps in range(1,8):\n",
        "        to_file = from_file + steps*dx\n",
        "        to_rank = from_rank + steps*dy\n",
        "        if(0<=to_file<8 and 0<= to_rank < 8):\n",
        "          to_square = to_rank * 8 + to_file\n",
        "          move = chess.Move(from_square, to_square)\n",
        "          moves_dict[move] = tensor[from_file, from_rank, idx]\n",
        "          idx += 1\n",
        "    #Knight Moves\n",
        "    for dx, dy in knight_offsets:\n",
        "      to_file = from_file + dx\n",
        "      to_rank = from_rank + dy\n",
        "      if(0<= to_file < 8 and 0<= to_rank <8):\n",
        "        to_square = to_rank*8 + to_file\n",
        "        move = chess.Move(from_square, to_square)\n",
        "        moves_dict[move] = tensor[from_rank, from_file, idx]\n",
        "        idx += 1\n",
        "    #Promotions\n",
        "    if(from_rank in [1,6]):\n",
        "      for promo_piece in [chess.QUEEN, chess.ROOK, chess.BISHOP, chess.KNIGHT]:\n",
        "        for dx in [-1, 0, 1]:\n",
        "          to_file = from_file + dx\n",
        "          to_rank = 0 if from_rank==1 else 7\n",
        "          if(0 <= to_file <8):\n",
        "            to_square = to_file + 8*to_rank\n",
        "            move = chess.Move(from_square, to_square, promotion=promo_piece)\n",
        "            moves_dict[move] = tensor[from_file, from_rank, idx]\n",
        "            idx += 1\n",
        "  return moves_dict\n"
      ],
      "metadata": {
        "id": "tfZGUBVpF_ZE"
      },
      "execution_count": 89,
      "outputs": []
    },
    {
      "cell_type": "code",
      "source": [
        "net = ChessNet()\n",
        "net.model.summary()"
      ],
      "metadata": {
        "id": "1GQToSeYh9EM"
      },
      "execution_count": null,
      "outputs": []
    },
    {
      "cell_type": "code",
      "source": [
        "print(moves_to_int)"
      ],
      "metadata": {
        "colab": {
          "base_uri": "https://localhost:8080/"
        },
        "id": "flOQPVbMcoJ2",
        "outputId": "9a8f3941-ebe0-4268-e140-c6ce5b323044"
      },
      "execution_count": null,
      "outputs": [
        {
          "output_type": "stream",
          "name": "stdout",
          "text": [
            "{Move.from_uci('a1a2'): 0, Move.from_uci('a1a3'): 1, Move.from_uci('a1a4'): 2, Move.from_uci('a1a5'): 3, Move.from_uci('a1a6'): 4, Move.from_uci('a1a7'): 5, Move.from_uci('a1a8'): 6, Move.from_uci('a1b2'): 7, Move.from_uci('a1c3'): 8, Move.from_uci('a1d4'): 9, Move.from_uci('a1e5'): 10, Move.from_uci('a1f6'): 11, Move.from_uci('a1g7'): 12, Move.from_uci('a1h8'): 13, Move.from_uci('a1b1'): 14, Move.from_uci('a1c1'): 15, Move.from_uci('a1d1'): 16, Move.from_uci('a1e1'): 17, Move.from_uci('a1f1'): 18, Move.from_uci('a1g1'): 19, Move.from_uci('a1h1'): 20, Move.from_uci('a1b3'): 21, Move.from_uci('a1c2'): 22, Move.from_uci('b1b2'): 23, Move.from_uci('b1b3'): 24, Move.from_uci('b1b4'): 25, Move.from_uci('b1b5'): 26, Move.from_uci('b1b6'): 27, Move.from_uci('b1b7'): 28, Move.from_uci('b1b8'): 29, Move.from_uci('b1c2'): 30, Move.from_uci('b1d3'): 31, Move.from_uci('b1e4'): 32, Move.from_uci('b1f5'): 33, Move.from_uci('b1g6'): 34, Move.from_uci('b1h7'): 35, Move.from_uci('b1c1'): 36, Move.from_uci('b1d1'): 37, Move.from_uci('b1e1'): 38, Move.from_uci('b1f1'): 39, Move.from_uci('b1g1'): 40, Move.from_uci('b1h1'): 41, Move.from_uci('b1a1'): 42, Move.from_uci('b1a2'): 43, Move.from_uci('b1c3'): 44, Move.from_uci('b1d2'): 45, Move.from_uci('b1a3'): 46, Move.from_uci('c1c2'): 47, Move.from_uci('c1c3'): 48, Move.from_uci('c1c4'): 49, Move.from_uci('c1c5'): 50, Move.from_uci('c1c6'): 51, Move.from_uci('c1c7'): 52, Move.from_uci('c1c8'): 53, Move.from_uci('c1d2'): 54, Move.from_uci('c1e3'): 55, Move.from_uci('c1f4'): 56, Move.from_uci('c1g5'): 57, Move.from_uci('c1h6'): 58, Move.from_uci('c1d1'): 59, Move.from_uci('c1e1'): 60, Move.from_uci('c1f1'): 61, Move.from_uci('c1g1'): 62, Move.from_uci('c1h1'): 63, Move.from_uci('c1b1'): 64, Move.from_uci('c1a1'): 65, Move.from_uci('c1b2'): 66, Move.from_uci('c1a3'): 67, Move.from_uci('c1d3'): 68, Move.from_uci('c1e2'): 69, Move.from_uci('c1a2'): 70, Move.from_uci('c1b3'): 71, Move.from_uci('d1d2'): 72, Move.from_uci('d1d3'): 73, Move.from_uci('d1d4'): 74, Move.from_uci('d1d5'): 75, Move.from_uci('d1d6'): 76, Move.from_uci('d1d7'): 77, Move.from_uci('d1d8'): 78, Move.from_uci('d1e2'): 79, Move.from_uci('d1f3'): 80, Move.from_uci('d1g4'): 81, Move.from_uci('d1h5'): 82, Move.from_uci('d1e1'): 83, Move.from_uci('d1f1'): 84, Move.from_uci('d1g1'): 85, Move.from_uci('d1h1'): 86, Move.from_uci('d1c1'): 87, Move.from_uci('d1b1'): 88, Move.from_uci('d1a1'): 89, Move.from_uci('d1c2'): 90, Move.from_uci('d1b3'): 91, Move.from_uci('d1a4'): 92, Move.from_uci('d1e3'): 93, Move.from_uci('d1f2'): 94, Move.from_uci('d1b2'): 95, Move.from_uci('d1c3'): 96, Move.from_uci('e1e2'): 97, Move.from_uci('e1e3'): 98, Move.from_uci('e1e4'): 99, Move.from_uci('e1e5'): 100, Move.from_uci('e1e6'): 101, Move.from_uci('e1e7'): 102, Move.from_uci('e1e8'): 103, Move.from_uci('e1f2'): 104, Move.from_uci('e1g3'): 105, Move.from_uci('e1h4'): 106, Move.from_uci('e1f1'): 107, Move.from_uci('e1g1'): 108, Move.from_uci('e1h1'): 109, Move.from_uci('e1d1'): 110, Move.from_uci('e1c1'): 111, Move.from_uci('e1b1'): 112, Move.from_uci('e1a1'): 113, Move.from_uci('e1d2'): 114, Move.from_uci('e1c3'): 115, Move.from_uci('e1b4'): 116, Move.from_uci('e1a5'): 117, Move.from_uci('e1f3'): 118, Move.from_uci('e1g2'): 119, Move.from_uci('e1c2'): 120, Move.from_uci('e1d3'): 121, Move.from_uci('f1f2'): 122, Move.from_uci('f1f3'): 123, Move.from_uci('f1f4'): 124, Move.from_uci('f1f5'): 125, Move.from_uci('f1f6'): 126, Move.from_uci('f1f7'): 127, Move.from_uci('f1f8'): 128, Move.from_uci('f1g2'): 129, Move.from_uci('f1h3'): 130, Move.from_uci('f1g1'): 131, Move.from_uci('f1h1'): 132, Move.from_uci('f1e1'): 133, Move.from_uci('f1d1'): 134, Move.from_uci('f1c1'): 135, Move.from_uci('f1b1'): 136, Move.from_uci('f1a1'): 137, Move.from_uci('f1e2'): 138, Move.from_uci('f1d3'): 139, Move.from_uci('f1c4'): 140, Move.from_uci('f1b5'): 141, Move.from_uci('f1a6'): 142, Move.from_uci('f1g3'): 143, Move.from_uci('f1h2'): 144, Move.from_uci('f1d2'): 145, Move.from_uci('f1e3'): 146, Move.from_uci('g1g2'): 147, Move.from_uci('g1g3'): 148, Move.from_uci('g1g4'): 149, Move.from_uci('g1g5'): 150, Move.from_uci('g1g6'): 151, Move.from_uci('g1g7'): 152, Move.from_uci('g1g8'): 153, Move.from_uci('g1h2'): 154, Move.from_uci('g1h1'): 155, Move.from_uci('g1f1'): 156, Move.from_uci('g1e1'): 157, Move.from_uci('g1d1'): 158, Move.from_uci('g1c1'): 159, Move.from_uci('g1b1'): 160, Move.from_uci('g1a1'): 161, Move.from_uci('g1f2'): 162, Move.from_uci('g1e3'): 163, Move.from_uci('g1d4'): 164, Move.from_uci('g1c5'): 165, Move.from_uci('g1b6'): 166, Move.from_uci('g1a7'): 167, Move.from_uci('g1h3'): 168, Move.from_uci('g1e2'): 169, Move.from_uci('g1f3'): 170, Move.from_uci('h1h2'): 171, Move.from_uci('h1h3'): 172, Move.from_uci('h1h4'): 173, Move.from_uci('h1h5'): 174, Move.from_uci('h1h6'): 175, Move.from_uci('h1h7'): 176, Move.from_uci('h1h8'): 177, Move.from_uci('h1g1'): 178, Move.from_uci('h1f1'): 179, Move.from_uci('h1e1'): 180, Move.from_uci('h1d1'): 181, Move.from_uci('h1c1'): 182, Move.from_uci('h1b1'): 183, Move.from_uci('h1a1'): 184, Move.from_uci('h1g2'): 185, Move.from_uci('h1f3'): 186, Move.from_uci('h1e4'): 187, Move.from_uci('h1d5'): 188, Move.from_uci('h1c6'): 189, Move.from_uci('h1b7'): 190, Move.from_uci('h1a8'): 191, Move.from_uci('h1f2'): 192, Move.from_uci('h1g3'): 193, Move.from_uci('a2a3'): 194, Move.from_uci('a2a4'): 195, Move.from_uci('a2a5'): 196, Move.from_uci('a2a6'): 197, Move.from_uci('a2a7'): 198, Move.from_uci('a2a8'): 199, Move.from_uci('a2b3'): 200, Move.from_uci('a2c4'): 201, Move.from_uci('a2d5'): 202, Move.from_uci('a2e6'): 203, Move.from_uci('a2f7'): 204, Move.from_uci('a2g8'): 205, Move.from_uci('a2b2'): 206, Move.from_uci('a2c2'): 207, Move.from_uci('a2d2'): 208, Move.from_uci('a2e2'): 209, Move.from_uci('a2f2'): 210, Move.from_uci('a2g2'): 211, Move.from_uci('a2h2'): 212, Move.from_uci('a2b1'): 213, Move.from_uci('a2a1'): 214, Move.from_uci('a2b4'): 215, Move.from_uci('a2c3'): 216, Move.from_uci('a2c1'): 217, Move.from_uci('a2a1q'): 218, Move.from_uci('a2b1q'): 219, Move.from_uci('a2a1r'): 220, Move.from_uci('a2b1r'): 221, Move.from_uci('a2a1b'): 222, Move.from_uci('a2b1b'): 223, Move.from_uci('a2a1n'): 224, Move.from_uci('a2b1n'): 225, Move.from_uci('b2b3'): 226, Move.from_uci('b2b4'): 227, Move.from_uci('b2b5'): 228, Move.from_uci('b2b6'): 229, Move.from_uci('b2b7'): 230, Move.from_uci('b2b8'): 231, Move.from_uci('b2c3'): 232, Move.from_uci('b2d4'): 233, Move.from_uci('b2e5'): 234, Move.from_uci('b2f6'): 235, Move.from_uci('b2g7'): 236, Move.from_uci('b2h8'): 237, Move.from_uci('b2c2'): 238, Move.from_uci('b2d2'): 239, Move.from_uci('b2e2'): 240, Move.from_uci('b2f2'): 241, Move.from_uci('b2g2'): 242, Move.from_uci('b2h2'): 243, Move.from_uci('b2c1'): 244, Move.from_uci('b2b1'): 245, Move.from_uci('b2a1'): 246, Move.from_uci('b2a2'): 247, Move.from_uci('b2a3'): 248, Move.from_uci('b2c4'): 249, Move.from_uci('b2d3'): 250, Move.from_uci('b2d1'): 251, Move.from_uci('b2a4'): 252, Move.from_uci('b2a1q'): 253, Move.from_uci('b2b1q'): 254, Move.from_uci('b2c1q'): 255, Move.from_uci('b2a1r'): 256, Move.from_uci('b2b1r'): 257, Move.from_uci('b2c1r'): 258, Move.from_uci('b2a1b'): 259, Move.from_uci('b2b1b'): 260, Move.from_uci('b2c1b'): 261, Move.from_uci('b2a1n'): 262, Move.from_uci('b2b1n'): 263, Move.from_uci('b2c1n'): 264, Move.from_uci('c2c3'): 265, Move.from_uci('c2c4'): 266, Move.from_uci('c2c5'): 267, Move.from_uci('c2c6'): 268, Move.from_uci('c2c7'): 269, Move.from_uci('c2c8'): 270, Move.from_uci('c2d3'): 271, Move.from_uci('c2e4'): 272, Move.from_uci('c2f5'): 273, Move.from_uci('c2g6'): 274, Move.from_uci('c2h7'): 275, Move.from_uci('c2d2'): 276, Move.from_uci('c2e2'): 277, Move.from_uci('c2f2'): 278, Move.from_uci('c2g2'): 279, Move.from_uci('c2h2'): 280, Move.from_uci('c2d1'): 281, Move.from_uci('c2c1'): 282, Move.from_uci('c2b1'): 283, Move.from_uci('c2b2'): 284, Move.from_uci('c2a2'): 285, Move.from_uci('c2b3'): 286, Move.from_uci('c2a4'): 287, Move.from_uci('c2d4'): 288, Move.from_uci('c2e3'): 289, Move.from_uci('c2e1'): 290, Move.from_uci('c2a1'): 291, Move.from_uci('c2a3'): 292, Move.from_uci('c2b4'): 293, Move.from_uci('c2b1q'): 294, Move.from_uci('c2c1q'): 295, Move.from_uci('c2d1q'): 296, Move.from_uci('c2b1r'): 297, Move.from_uci('c2c1r'): 298, Move.from_uci('c2d1r'): 299, Move.from_uci('c2b1b'): 300, Move.from_uci('c2c1b'): 301, Move.from_uci('c2d1b'): 302, Move.from_uci('c2b1n'): 303, Move.from_uci('c2c1n'): 304, Move.from_uci('c2d1n'): 305, Move.from_uci('d2d3'): 306, Move.from_uci('d2d4'): 307, Move.from_uci('d2d5'): 308, Move.from_uci('d2d6'): 309, Move.from_uci('d2d7'): 310, Move.from_uci('d2d8'): 311, Move.from_uci('d2e3'): 312, Move.from_uci('d2f4'): 313, Move.from_uci('d2g5'): 314, Move.from_uci('d2h6'): 315, Move.from_uci('d2e2'): 316, Move.from_uci('d2f2'): 317, Move.from_uci('d2g2'): 318, Move.from_uci('d2h2'): 319, Move.from_uci('d2e1'): 320, Move.from_uci('d2d1'): 321, Move.from_uci('d2c1'): 322, Move.from_uci('d2c2'): 323, Move.from_uci('d2b2'): 324, Move.from_uci('d2a2'): 325, Move.from_uci('d2c3'): 326, Move.from_uci('d2b4'): 327, Move.from_uci('d2a5'): 328, Move.from_uci('d2e4'): 329, Move.from_uci('d2f3'): 330, Move.from_uci('d2f1'): 331, Move.from_uci('d2b1'): 332, Move.from_uci('d2b3'): 333, Move.from_uci('d2c4'): 334, Move.from_uci('d2c1q'): 335, Move.from_uci('d2d1q'): 336, Move.from_uci('d2e1q'): 337, Move.from_uci('d2c1r'): 338, Move.from_uci('d2d1r'): 339, Move.from_uci('d2e1r'): 340, Move.from_uci('d2c1b'): 341, Move.from_uci('d2d1b'): 342, Move.from_uci('d2e1b'): 343, Move.from_uci('d2c1n'): 344, Move.from_uci('d2d1n'): 345, Move.from_uci('d2e1n'): 346, Move.from_uci('e2e3'): 347, Move.from_uci('e2e4'): 348, Move.from_uci('e2e5'): 349, Move.from_uci('e2e6'): 350, Move.from_uci('e2e7'): 351, Move.from_uci('e2e8'): 352, Move.from_uci('e2f3'): 353, Move.from_uci('e2g4'): 354, Move.from_uci('e2h5'): 355, Move.from_uci('e2f2'): 356, Move.from_uci('e2g2'): 357, Move.from_uci('e2h2'): 358, Move.from_uci('e2f1'): 359, Move.from_uci('e2e1'): 360, Move.from_uci('e2d1'): 361, Move.from_uci('e2d2'): 362, Move.from_uci('e2c2'): 363, Move.from_uci('e2b2'): 364, Move.from_uci('e2a2'): 365, Move.from_uci('e2d3'): 366, Move.from_uci('e2c4'): 367, Move.from_uci('e2b5'): 368, Move.from_uci('e2a6'): 369, Move.from_uci('e2f4'): 370, Move.from_uci('e2g3'): 371, Move.from_uci('e2g1'): 372, Move.from_uci('e2c1'): 373, Move.from_uci('e2c3'): 374, Move.from_uci('e2d4'): 375, Move.from_uci('e2d1q'): 376, Move.from_uci('e2e1q'): 377, Move.from_uci('e2f1q'): 378, Move.from_uci('e2d1r'): 379, Move.from_uci('e2e1r'): 380, Move.from_uci('e2f1r'): 381, Move.from_uci('e2d1b'): 382, Move.from_uci('e2e1b'): 383, Move.from_uci('e2f1b'): 384, Move.from_uci('e2d1n'): 385, Move.from_uci('e2e1n'): 386, Move.from_uci('e2f1n'): 387, Move.from_uci('f2f3'): 388, Move.from_uci('f2f4'): 389, Move.from_uci('f2f5'): 390, Move.from_uci('f2f6'): 391, Move.from_uci('f2f7'): 392, Move.from_uci('f2f8'): 393, Move.from_uci('f2g3'): 394, Move.from_uci('f2h4'): 395, Move.from_uci('f2g2'): 396, Move.from_uci('f2h2'): 397, Move.from_uci('f2g1'): 398, Move.from_uci('f2f1'): 399, Move.from_uci('f2e1'): 400, Move.from_uci('f2e2'): 401, Move.from_uci('f2d2'): 402, Move.from_uci('f2c2'): 403, Move.from_uci('f2b2'): 404, Move.from_uci('f2a2'): 405, Move.from_uci('f2e3'): 406, Move.from_uci('f2d4'): 407, Move.from_uci('f2c5'): 408, Move.from_uci('f2b6'): 409, Move.from_uci('f2a7'): 410, Move.from_uci('f2g4'): 411, Move.from_uci('f2h3'): 412, Move.from_uci('f2h1'): 413, Move.from_uci('f2d1'): 414, Move.from_uci('f2d3'): 415, Move.from_uci('f2e4'): 416, Move.from_uci('f2e1q'): 417, Move.from_uci('f2f1q'): 418, Move.from_uci('f2g1q'): 419, Move.from_uci('f2e1r'): 420, Move.from_uci('f2f1r'): 421, Move.from_uci('f2g1r'): 422, Move.from_uci('f2e1b'): 423, Move.from_uci('f2f1b'): 424, Move.from_uci('f2g1b'): 425, Move.from_uci('f2e1n'): 426, Move.from_uci('f2f1n'): 427, Move.from_uci('f2g1n'): 428, Move.from_uci('g2g3'): 429, Move.from_uci('g2g4'): 430, Move.from_uci('g2g5'): 431, Move.from_uci('g2g6'): 432, Move.from_uci('g2g7'): 433, Move.from_uci('g2g8'): 434, Move.from_uci('g2h3'): 435, Move.from_uci('g2h2'): 436, Move.from_uci('g2h1'): 437, Move.from_uci('g2g1'): 438, Move.from_uci('g2f1'): 439, Move.from_uci('g2f2'): 440, Move.from_uci('g2e2'): 441, Move.from_uci('g2d2'): 442, Move.from_uci('g2c2'): 443, Move.from_uci('g2b2'): 444, Move.from_uci('g2a2'): 445, Move.from_uci('g2f3'): 446, Move.from_uci('g2e4'): 447, Move.from_uci('g2d5'): 448, Move.from_uci('g2c6'): 449, Move.from_uci('g2b7'): 450, Move.from_uci('g2a8'): 451, Move.from_uci('g2h4'): 452, Move.from_uci('g2e1'): 453, Move.from_uci('g2e3'): 454, Move.from_uci('g2f4'): 455, Move.from_uci('g2f1q'): 456, Move.from_uci('g2g1q'): 457, Move.from_uci('g2h1q'): 458, Move.from_uci('g2f1r'): 459, Move.from_uci('g2g1r'): 460, Move.from_uci('g2h1r'): 461, Move.from_uci('g2f1b'): 462, Move.from_uci('g2g1b'): 463, Move.from_uci('g2h1b'): 464, Move.from_uci('g2f1n'): 465, Move.from_uci('g2g1n'): 466, Move.from_uci('g2h1n'): 467, Move.from_uci('h2h3'): 468, Move.from_uci('h2h4'): 469, Move.from_uci('h2h5'): 470, Move.from_uci('h2h6'): 471, Move.from_uci('h2h7'): 472, Move.from_uci('h2h8'): 473, Move.from_uci('h2h1'): 474, Move.from_uci('h2g1'): 475, Move.from_uci('h2g2'): 476, Move.from_uci('h2f2'): 477, Move.from_uci('h2e2'): 478, Move.from_uci('h2d2'): 479, Move.from_uci('h2c2'): 480, Move.from_uci('h2b2'): 481, Move.from_uci('h2a2'): 482, Move.from_uci('h2g3'): 483, Move.from_uci('h2f4'): 484, Move.from_uci('h2e5'): 485, Move.from_uci('h2d6'): 486, Move.from_uci('h2c7'): 487, Move.from_uci('h2b8'): 488, Move.from_uci('h2f1'): 489, Move.from_uci('h2f3'): 490, Move.from_uci('h2g4'): 491, Move.from_uci('h2g1q'): 492, Move.from_uci('h2h1q'): 493, Move.from_uci('h2g1r'): 494, Move.from_uci('h2h1r'): 495, Move.from_uci('h2g1b'): 496, Move.from_uci('h2h1b'): 497, Move.from_uci('h2g1n'): 498, Move.from_uci('h2h1n'): 499, Move.from_uci('a3a4'): 500, Move.from_uci('a3a5'): 501, Move.from_uci('a3a6'): 502, Move.from_uci('a3a7'): 503, Move.from_uci('a3a8'): 504, Move.from_uci('a3b4'): 505, Move.from_uci('a3c5'): 506, Move.from_uci('a3d6'): 507, Move.from_uci('a3e7'): 508, Move.from_uci('a3f8'): 509, Move.from_uci('a3b3'): 510, Move.from_uci('a3c3'): 511, Move.from_uci('a3d3'): 512, Move.from_uci('a3e3'): 513, Move.from_uci('a3f3'): 514, Move.from_uci('a3g3'): 515, Move.from_uci('a3h3'): 516, Move.from_uci('a3b2'): 517, Move.from_uci('a3c1'): 518, Move.from_uci('a3a2'): 519, Move.from_uci('a3a1'): 520, Move.from_uci('a3b5'): 521, Move.from_uci('a3c4'): 522, Move.from_uci('a3c2'): 523, Move.from_uci('a3b1'): 524, Move.from_uci('b3b4'): 525, Move.from_uci('b3b5'): 526, Move.from_uci('b3b6'): 527, Move.from_uci('b3b7'): 528, Move.from_uci('b3b8'): 529, Move.from_uci('b3c4'): 530, Move.from_uci('b3d5'): 531, Move.from_uci('b3e6'): 532, Move.from_uci('b3f7'): 533, Move.from_uci('b3g8'): 534, Move.from_uci('b3c3'): 535, Move.from_uci('b3d3'): 536, Move.from_uci('b3e3'): 537, Move.from_uci('b3f3'): 538, Move.from_uci('b3g3'): 539, Move.from_uci('b3h3'): 540, Move.from_uci('b3c2'): 541, Move.from_uci('b3d1'): 542, Move.from_uci('b3b2'): 543, Move.from_uci('b3b1'): 544, Move.from_uci('b3a2'): 545, Move.from_uci('b3a3'): 546, Move.from_uci('b3a4'): 547, Move.from_uci('b3c5'): 548, Move.from_uci('b3d4'): 549, Move.from_uci('b3d2'): 550, Move.from_uci('b3c1'): 551, Move.from_uci('b3a1'): 552, Move.from_uci('b3a5'): 553, Move.from_uci('c3c4'): 554, Move.from_uci('c3c5'): 555, Move.from_uci('c3c6'): 556, Move.from_uci('c3c7'): 557, Move.from_uci('c3c8'): 558, Move.from_uci('c3d4'): 559, Move.from_uci('c3e5'): 560, Move.from_uci('c3f6'): 561, Move.from_uci('c3g7'): 562, Move.from_uci('c3h8'): 563, Move.from_uci('c3d3'): 564, Move.from_uci('c3e3'): 565, Move.from_uci('c3f3'): 566, Move.from_uci('c3g3'): 567, Move.from_uci('c3h3'): 568, Move.from_uci('c3d2'): 569, Move.from_uci('c3e1'): 570, Move.from_uci('c3c2'): 571, Move.from_uci('c3c1'): 572, Move.from_uci('c3b2'): 573, Move.from_uci('c3a1'): 574, Move.from_uci('c3b3'): 575, Move.from_uci('c3a3'): 576, Move.from_uci('c3b4'): 577, Move.from_uci('c3a5'): 578, Move.from_uci('c3d5'): 579, Move.from_uci('c3e4'): 580, Move.from_uci('c3e2'): 581, Move.from_uci('c3d1'): 582, Move.from_uci('c3b1'): 583, Move.from_uci('c3a2'): 584, Move.from_uci('c3a4'): 585, Move.from_uci('c3b5'): 586, Move.from_uci('d3d4'): 587, Move.from_uci('d3d5'): 588, Move.from_uci('d3d6'): 589, Move.from_uci('d3d7'): 590, Move.from_uci('d3d8'): 591, Move.from_uci('d3e4'): 592, Move.from_uci('d3f5'): 593, Move.from_uci('d3g6'): 594, Move.from_uci('d3h7'): 595, Move.from_uci('d3e3'): 596, Move.from_uci('d3f3'): 597, Move.from_uci('d3g3'): 598, Move.from_uci('d3h3'): 599, Move.from_uci('d3e2'): 600, Move.from_uci('d3f1'): 601, Move.from_uci('d3d2'): 602, Move.from_uci('d3d1'): 603, Move.from_uci('d3c2'): 604, Move.from_uci('d3b1'): 605, Move.from_uci('d3c3'): 606, Move.from_uci('d3b3'): 607, Move.from_uci('d3a3'): 608, Move.from_uci('d3c4'): 609, Move.from_uci('d3b5'): 610, Move.from_uci('d3a6'): 611, Move.from_uci('d3e5'): 612, Move.from_uci('d3f4'): 613, Move.from_uci('d3f2'): 614, Move.from_uci('d3e1'): 615, Move.from_uci('d3c1'): 616, Move.from_uci('d3b2'): 617, Move.from_uci('d3b4'): 618, Move.from_uci('d3c5'): 619, Move.from_uci('e3e4'): 620, Move.from_uci('e3e5'): 621, Move.from_uci('e3e6'): 622, Move.from_uci('e3e7'): 623, Move.from_uci('e3e8'): 624, Move.from_uci('e3f4'): 625, Move.from_uci('e3g5'): 626, Move.from_uci('e3h6'): 627, Move.from_uci('e3f3'): 628, Move.from_uci('e3g3'): 629, Move.from_uci('e3h3'): 630, Move.from_uci('e3f2'): 631, Move.from_uci('e3g1'): 632, Move.from_uci('e3e2'): 633, Move.from_uci('e3e1'): 634, Move.from_uci('e3d2'): 635, Move.from_uci('e3c1'): 636, Move.from_uci('e3d3'): 637, Move.from_uci('e3c3'): 638, Move.from_uci('e3b3'): 639, Move.from_uci('e3a3'): 640, Move.from_uci('e3d4'): 641, Move.from_uci('e3c5'): 642, Move.from_uci('e3b6'): 643, Move.from_uci('e3a7'): 644, Move.from_uci('e3f5'): 645, Move.from_uci('e3g4'): 646, Move.from_uci('e3g2'): 647, Move.from_uci('e3f1'): 648, Move.from_uci('e3d1'): 649, Move.from_uci('e3c2'): 650, Move.from_uci('e3c4'): 651, Move.from_uci('e3d5'): 652, Move.from_uci('f3f4'): 653, Move.from_uci('f3f5'): 654, Move.from_uci('f3f6'): 655, Move.from_uci('f3f7'): 656, Move.from_uci('f3f8'): 657, Move.from_uci('f3g4'): 658, Move.from_uci('f3h5'): 659, Move.from_uci('f3g3'): 660, Move.from_uci('f3h3'): 661, Move.from_uci('f3g2'): 662, Move.from_uci('f3h1'): 663, Move.from_uci('f3f2'): 664, Move.from_uci('f3f1'): 665, Move.from_uci('f3e2'): 666, Move.from_uci('f3d1'): 667, Move.from_uci('f3e3'): 668, Move.from_uci('f3d3'): 669, Move.from_uci('f3c3'): 670, Move.from_uci('f3b3'): 671, Move.from_uci('f3a3'): 672, Move.from_uci('f3e4'): 673, Move.from_uci('f3d5'): 674, Move.from_uci('f3c6'): 675, Move.from_uci('f3b7'): 676, Move.from_uci('f3a8'): 677, Move.from_uci('f3g5'): 678, Move.from_uci('f3h4'): 679, Move.from_uci('f3h2'): 680, Move.from_uci('f3g1'): 681, Move.from_uci('f3e1'): 682, Move.from_uci('f3d2'): 683, Move.from_uci('f3d4'): 684, Move.from_uci('f3e5'): 685, Move.from_uci('g3g4'): 686, Move.from_uci('g3g5'): 687, Move.from_uci('g3g6'): 688, Move.from_uci('g3g7'): 689, Move.from_uci('g3g8'): 690, Move.from_uci('g3h4'): 691, Move.from_uci('g3h3'): 692, Move.from_uci('g3h2'): 693, Move.from_uci('g3g2'): 694, Move.from_uci('g3g1'): 695, Move.from_uci('g3f2'): 696, Move.from_uci('g3e1'): 697, Move.from_uci('g3f3'): 698, Move.from_uci('g3e3'): 699, Move.from_uci('g3d3'): 700, Move.from_uci('g3c3'): 701, Move.from_uci('g3b3'): 702, Move.from_uci('g3a3'): 703, Move.from_uci('g3f4'): 704, Move.from_uci('g3e5'): 705, Move.from_uci('g3d6'): 706, Move.from_uci('g3c7'): 707, Move.from_uci('g3b8'): 708, Move.from_uci('g3h5'): 709, Move.from_uci('g3h1'): 710, Move.from_uci('g3f1'): 711, Move.from_uci('g3e2'): 712, Move.from_uci('g3e4'): 713, Move.from_uci('g3f5'): 714, Move.from_uci('h3h4'): 715, Move.from_uci('h3h5'): 716, Move.from_uci('h3h6'): 717, Move.from_uci('h3h7'): 718, Move.from_uci('h3h8'): 719, Move.from_uci('h3h2'): 720, Move.from_uci('h3h1'): 721, Move.from_uci('h3g2'): 722, Move.from_uci('h3f1'): 723, Move.from_uci('h3g3'): 724, Move.from_uci('h3f3'): 725, Move.from_uci('h3e3'): 726, Move.from_uci('h3d3'): 727, Move.from_uci('h3c3'): 728, Move.from_uci('h3b3'): 729, Move.from_uci('h3a3'): 730, Move.from_uci('h3g4'): 731, Move.from_uci('h3f5'): 732, Move.from_uci('h3e6'): 733, Move.from_uci('h3d7'): 734, Move.from_uci('h3c8'): 735, Move.from_uci('h3g1'): 736, Move.from_uci('h3f2'): 737, Move.from_uci('h3f4'): 738, Move.from_uci('h3g5'): 739, Move.from_uci('a4a5'): 740, Move.from_uci('a4a6'): 741, Move.from_uci('a4a7'): 742, Move.from_uci('a4a8'): 743, Move.from_uci('a4b5'): 744, Move.from_uci('a4c6'): 745, Move.from_uci('a4d7'): 746, Move.from_uci('a4e8'): 747, Move.from_uci('a4b4'): 748, Move.from_uci('a4c4'): 749, Move.from_uci('a4d4'): 750, Move.from_uci('a4e4'): 751, Move.from_uci('a4f4'): 752, Move.from_uci('a4g4'): 753, Move.from_uci('a4h4'): 754, Move.from_uci('a4b3'): 755, Move.from_uci('a4c2'): 756, Move.from_uci('a4d1'): 757, Move.from_uci('a4a3'): 758, Move.from_uci('a4a2'): 759, Move.from_uci('a4a1'): 760, Move.from_uci('a4b6'): 761, Move.from_uci('a4c5'): 762, Move.from_uci('a4c3'): 763, Move.from_uci('a4b2'): 764, Move.from_uci('b4b5'): 765, Move.from_uci('b4b6'): 766, Move.from_uci('b4b7'): 767, Move.from_uci('b4b8'): 768, Move.from_uci('b4c5'): 769, Move.from_uci('b4d6'): 770, Move.from_uci('b4e7'): 771, Move.from_uci('b4f8'): 772, Move.from_uci('b4c4'): 773, Move.from_uci('b4d4'): 774, Move.from_uci('b4e4'): 775, Move.from_uci('b4f4'): 776, Move.from_uci('b4g4'): 777, Move.from_uci('b4h4'): 778, Move.from_uci('b4c3'): 779, Move.from_uci('b4d2'): 780, Move.from_uci('b4e1'): 781, Move.from_uci('b4b3'): 782, Move.from_uci('b4b2'): 783, Move.from_uci('b4b1'): 784, Move.from_uci('b4a3'): 785, Move.from_uci('b4a4'): 786, Move.from_uci('b4a5'): 787, Move.from_uci('b4c6'): 788, Move.from_uci('b4d5'): 789, Move.from_uci('b4d3'): 790, Move.from_uci('b4c2'): 791, Move.from_uci('b4a2'): 792, Move.from_uci('b4a6'): 793, Move.from_uci('c4c5'): 794, Move.from_uci('c4c6'): 795, Move.from_uci('c4c7'): 796, Move.from_uci('c4c8'): 797, Move.from_uci('c4d5'): 798, Move.from_uci('c4e6'): 799, Move.from_uci('c4f7'): 800, Move.from_uci('c4g8'): 801, Move.from_uci('c4d4'): 802, Move.from_uci('c4e4'): 803, Move.from_uci('c4f4'): 804, Move.from_uci('c4g4'): 805, Move.from_uci('c4h4'): 806, Move.from_uci('c4d3'): 807, Move.from_uci('c4e2'): 808, Move.from_uci('c4f1'): 809, Move.from_uci('c4c3'): 810, Move.from_uci('c4c2'): 811, Move.from_uci('c4c1'): 812, Move.from_uci('c4b3'): 813, Move.from_uci('c4a2'): 814, Move.from_uci('c4b4'): 815, Move.from_uci('c4a4'): 816, Move.from_uci('c4b5'): 817, Move.from_uci('c4a6'): 818, Move.from_uci('c4d6'): 819, Move.from_uci('c4e5'): 820, Move.from_uci('c4e3'): 821, Move.from_uci('c4d2'): 822, Move.from_uci('c4b2'): 823, Move.from_uci('c4a3'): 824, Move.from_uci('c4a5'): 825, Move.from_uci('c4b6'): 826, Move.from_uci('d4d5'): 827, Move.from_uci('d4d6'): 828, Move.from_uci('d4d7'): 829, Move.from_uci('d4d8'): 830, Move.from_uci('d4e5'): 831, Move.from_uci('d4f6'): 832, Move.from_uci('d4g7'): 833, Move.from_uci('d4h8'): 834, Move.from_uci('d4e4'): 835, Move.from_uci('d4f4'): 836, Move.from_uci('d4g4'): 837, Move.from_uci('d4h4'): 838, Move.from_uci('d4e3'): 839, Move.from_uci('d4f2'): 840, Move.from_uci('d4g1'): 841, Move.from_uci('d4d3'): 842, Move.from_uci('d4d2'): 843, Move.from_uci('d4d1'): 844, Move.from_uci('d4c3'): 845, Move.from_uci('d4b2'): 846, Move.from_uci('d4a1'): 847, Move.from_uci('d4c4'): 848, Move.from_uci('d4b4'): 849, Move.from_uci('d4a4'): 850, Move.from_uci('d4c5'): 851, Move.from_uci('d4b6'): 852, Move.from_uci('d4a7'): 853, Move.from_uci('d4e6'): 854, Move.from_uci('d4f5'): 855, Move.from_uci('d4f3'): 856, Move.from_uci('d4e2'): 857, Move.from_uci('d4c2'): 858, Move.from_uci('d4b3'): 859, Move.from_uci('d4b5'): 860, Move.from_uci('d4c6'): 861, Move.from_uci('e4e5'): 862, Move.from_uci('e4e6'): 863, Move.from_uci('e4e7'): 864, Move.from_uci('e4e8'): 865, Move.from_uci('e4f5'): 866, Move.from_uci('e4g6'): 867, Move.from_uci('e4h7'): 868, Move.from_uci('e4f4'): 869, Move.from_uci('e4g4'): 870, Move.from_uci('e4h4'): 871, Move.from_uci('e4f3'): 872, Move.from_uci('e4g2'): 873, Move.from_uci('e4h1'): 874, Move.from_uci('e4e3'): 875, Move.from_uci('e4e2'): 876, Move.from_uci('e4e1'): 877, Move.from_uci('e4d3'): 878, Move.from_uci('e4c2'): 879, Move.from_uci('e4b1'): 880, Move.from_uci('e4d4'): 881, Move.from_uci('e4c4'): 882, Move.from_uci('e4b4'): 883, Move.from_uci('e4a4'): 884, Move.from_uci('e4d5'): 885, Move.from_uci('e4c6'): 886, Move.from_uci('e4b7'): 887, Move.from_uci('e4a8'): 888, Move.from_uci('e4f6'): 889, Move.from_uci('e4g5'): 890, Move.from_uci('e4g3'): 891, Move.from_uci('e4f2'): 892, Move.from_uci('e4d2'): 893, Move.from_uci('e4c3'): 894, Move.from_uci('e4c5'): 895, Move.from_uci('e4d6'): 896, Move.from_uci('f4f5'): 897, Move.from_uci('f4f6'): 898, Move.from_uci('f4f7'): 899, Move.from_uci('f4f8'): 900, Move.from_uci('f4g5'): 901, Move.from_uci('f4h6'): 902, Move.from_uci('f4g4'): 903, Move.from_uci('f4h4'): 904, Move.from_uci('f4g3'): 905, Move.from_uci('f4h2'): 906, Move.from_uci('f4f3'): 907, Move.from_uci('f4f2'): 908, Move.from_uci('f4f1'): 909, Move.from_uci('f4e3'): 910, Move.from_uci('f4d2'): 911, Move.from_uci('f4c1'): 912, Move.from_uci('f4e4'): 913, Move.from_uci('f4d4'): 914, Move.from_uci('f4c4'): 915, Move.from_uci('f4b4'): 916, Move.from_uci('f4a4'): 917, Move.from_uci('f4e5'): 918, Move.from_uci('f4d6'): 919, Move.from_uci('f4c7'): 920, Move.from_uci('f4b8'): 921, Move.from_uci('f4g6'): 922, Move.from_uci('f4h5'): 923, Move.from_uci('f4h3'): 924, Move.from_uci('f4g2'): 925, Move.from_uci('f4e2'): 926, Move.from_uci('f4d3'): 927, Move.from_uci('f4d5'): 928, Move.from_uci('f4e6'): 929, Move.from_uci('g4g5'): 930, Move.from_uci('g4g6'): 931, Move.from_uci('g4g7'): 932, Move.from_uci('g4g8'): 933, Move.from_uci('g4h5'): 934, Move.from_uci('g4h4'): 935, Move.from_uci('g4h3'): 936, Move.from_uci('g4g3'): 937, Move.from_uci('g4g2'): 938, Move.from_uci('g4g1'): 939, Move.from_uci('g4f3'): 940, Move.from_uci('g4e2'): 941, Move.from_uci('g4d1'): 942, Move.from_uci('g4f4'): 943, Move.from_uci('g4e4'): 944, Move.from_uci('g4d4'): 945, Move.from_uci('g4c4'): 946, Move.from_uci('g4b4'): 947, Move.from_uci('g4a4'): 948, Move.from_uci('g4f5'): 949, Move.from_uci('g4e6'): 950, Move.from_uci('g4d7'): 951, Move.from_uci('g4c8'): 952, Move.from_uci('g4h6'): 953, Move.from_uci('g4h2'): 954, Move.from_uci('g4f2'): 955, Move.from_uci('g4e3'): 956, Move.from_uci('g4e5'): 957, Move.from_uci('g4f6'): 958, Move.from_uci('h4h5'): 959, Move.from_uci('h4h6'): 960, Move.from_uci('h4h7'): 961, Move.from_uci('h4h8'): 962, Move.from_uci('h4h3'): 963, Move.from_uci('h4h2'): 964, Move.from_uci('h4h1'): 965, Move.from_uci('h4g3'): 966, Move.from_uci('h4f2'): 967, Move.from_uci('h4e1'): 968, Move.from_uci('h4g4'): 969, Move.from_uci('h4f4'): 970, Move.from_uci('h4e4'): 971, Move.from_uci('h4d4'): 972, Move.from_uci('h4c4'): 973, Move.from_uci('h4b4'): 974, Move.from_uci('h4a4'): 975, Move.from_uci('h4g5'): 976, Move.from_uci('h4f6'): 977, Move.from_uci('h4e7'): 978, Move.from_uci('h4d8'): 979, Move.from_uci('h4g2'): 980, Move.from_uci('h4f3'): 981, Move.from_uci('h4f5'): 982, Move.from_uci('h4g6'): 983, Move.from_uci('a5a6'): 984, Move.from_uci('a5a7'): 985, Move.from_uci('a5a8'): 986, Move.from_uci('a5b6'): 987, Move.from_uci('a5c7'): 988, Move.from_uci('a5d8'): 989, Move.from_uci('a5b5'): 990, Move.from_uci('a5c5'): 991, Move.from_uci('a5d5'): 992, Move.from_uci('a5e5'): 993, Move.from_uci('a5f5'): 994, Move.from_uci('a5g5'): 995, Move.from_uci('a5h5'): 996, Move.from_uci('a5b4'): 997, Move.from_uci('a5c3'): 998, Move.from_uci('a5d2'): 999, Move.from_uci('a5e1'): 1000, Move.from_uci('a5a4'): 1001, Move.from_uci('a5a3'): 1002, Move.from_uci('a5a2'): 1003, Move.from_uci('a5a1'): 1004, Move.from_uci('a5b7'): 1005, Move.from_uci('a5c6'): 1006, Move.from_uci('a5c4'): 1007, Move.from_uci('a5b3'): 1008, Move.from_uci('b5b6'): 1009, Move.from_uci('b5b7'): 1010, Move.from_uci('b5b8'): 1011, Move.from_uci('b5c6'): 1012, Move.from_uci('b5d7'): 1013, Move.from_uci('b5e8'): 1014, Move.from_uci('b5c5'): 1015, Move.from_uci('b5d5'): 1016, Move.from_uci('b5e5'): 1017, Move.from_uci('b5f5'): 1018, Move.from_uci('b5g5'): 1019, Move.from_uci('b5h5'): 1020, Move.from_uci('b5c4'): 1021, Move.from_uci('b5d3'): 1022, Move.from_uci('b5e2'): 1023, Move.from_uci('b5f1'): 1024, Move.from_uci('b5b4'): 1025, Move.from_uci('b5b3'): 1026, Move.from_uci('b5b2'): 1027, Move.from_uci('b5b1'): 1028, Move.from_uci('b5a4'): 1029, Move.from_uci('b5a5'): 1030, Move.from_uci('b5a6'): 1031, Move.from_uci('b5c7'): 1032, Move.from_uci('b5d6'): 1033, Move.from_uci('b5d4'): 1034, Move.from_uci('b5c3'): 1035, Move.from_uci('b5a3'): 1036, Move.from_uci('b5a7'): 1037, Move.from_uci('c5c6'): 1038, Move.from_uci('c5c7'): 1039, Move.from_uci('c5c8'): 1040, Move.from_uci('c5d6'): 1041, Move.from_uci('c5e7'): 1042, Move.from_uci('c5f8'): 1043, Move.from_uci('c5d5'): 1044, Move.from_uci('c5e5'): 1045, Move.from_uci('c5f5'): 1046, Move.from_uci('c5g5'): 1047, Move.from_uci('c5h5'): 1048, Move.from_uci('c5d4'): 1049, Move.from_uci('c5e3'): 1050, Move.from_uci('c5f2'): 1051, Move.from_uci('c5g1'): 1052, Move.from_uci('c5c4'): 1053, Move.from_uci('c5c3'): 1054, Move.from_uci('c5c2'): 1055, Move.from_uci('c5c1'): 1056, Move.from_uci('c5b4'): 1057, Move.from_uci('c5a3'): 1058, Move.from_uci('c5b5'): 1059, Move.from_uci('c5a5'): 1060, Move.from_uci('c5b6'): 1061, Move.from_uci('c5a7'): 1062, Move.from_uci('c5d7'): 1063, Move.from_uci('c5e6'): 1064, Move.from_uci('c5e4'): 1065, Move.from_uci('c5d3'): 1066, Move.from_uci('c5b3'): 1067, Move.from_uci('c5a4'): 1068, Move.from_uci('c5a6'): 1069, Move.from_uci('c5b7'): 1070, Move.from_uci('d5d6'): 1071, Move.from_uci('d5d7'): 1072, Move.from_uci('d5d8'): 1073, Move.from_uci('d5e6'): 1074, Move.from_uci('d5f7'): 1075, Move.from_uci('d5g8'): 1076, Move.from_uci('d5e5'): 1077, Move.from_uci('d5f5'): 1078, Move.from_uci('d5g5'): 1079, Move.from_uci('d5h5'): 1080, Move.from_uci('d5e4'): 1081, Move.from_uci('d5f3'): 1082, Move.from_uci('d5g2'): 1083, Move.from_uci('d5h1'): 1084, Move.from_uci('d5d4'): 1085, Move.from_uci('d5d3'): 1086, Move.from_uci('d5d2'): 1087, Move.from_uci('d5d1'): 1088, Move.from_uci('d5c4'): 1089, Move.from_uci('d5b3'): 1090, Move.from_uci('d5a2'): 1091, Move.from_uci('d5c5'): 1092, Move.from_uci('d5b5'): 1093, Move.from_uci('d5a5'): 1094, Move.from_uci('d5c6'): 1095, Move.from_uci('d5b7'): 1096, Move.from_uci('d5a8'): 1097, Move.from_uci('d5e7'): 1098, Move.from_uci('d5f6'): 1099, Move.from_uci('d5f4'): 1100, Move.from_uci('d5e3'): 1101, Move.from_uci('d5c3'): 1102, Move.from_uci('d5b4'): 1103, Move.from_uci('d5b6'): 1104, Move.from_uci('d5c7'): 1105, Move.from_uci('e5e6'): 1106, Move.from_uci('e5e7'): 1107, Move.from_uci('e5e8'): 1108, Move.from_uci('e5f6'): 1109, Move.from_uci('e5g7'): 1110, Move.from_uci('e5h8'): 1111, Move.from_uci('e5f5'): 1112, Move.from_uci('e5g5'): 1113, Move.from_uci('e5h5'): 1114, Move.from_uci('e5f4'): 1115, Move.from_uci('e5g3'): 1116, Move.from_uci('e5h2'): 1117, Move.from_uci('e5e4'): 1118, Move.from_uci('e5e3'): 1119, Move.from_uci('e5e2'): 1120, Move.from_uci('e5e1'): 1121, Move.from_uci('e5d4'): 1122, Move.from_uci('e5c3'): 1123, Move.from_uci('e5b2'): 1124, Move.from_uci('e5a1'): 1125, Move.from_uci('e5d5'): 1126, Move.from_uci('e5c5'): 1127, Move.from_uci('e5b5'): 1128, Move.from_uci('e5a5'): 1129, Move.from_uci('e5d6'): 1130, Move.from_uci('e5c7'): 1131, Move.from_uci('e5b8'): 1132, Move.from_uci('e5f7'): 1133, Move.from_uci('e5g6'): 1134, Move.from_uci('e5g4'): 1135, Move.from_uci('e5f3'): 1136, Move.from_uci('e5d3'): 1137, Move.from_uci('e5c4'): 1138, Move.from_uci('e5c6'): 1139, Move.from_uci('e5d7'): 1140, Move.from_uci('f5f6'): 1141, Move.from_uci('f5f7'): 1142, Move.from_uci('f5f8'): 1143, Move.from_uci('f5g6'): 1144, Move.from_uci('f5h7'): 1145, Move.from_uci('f5g5'): 1146, Move.from_uci('f5h5'): 1147, Move.from_uci('f5g4'): 1148, Move.from_uci('f5h3'): 1149, Move.from_uci('f5f4'): 1150, Move.from_uci('f5f3'): 1151, Move.from_uci('f5f2'): 1152, Move.from_uci('f5f1'): 1153, Move.from_uci('f5e4'): 1154, Move.from_uci('f5d3'): 1155, Move.from_uci('f5c2'): 1156, Move.from_uci('f5b1'): 1157, Move.from_uci('f5e5'): 1158, Move.from_uci('f5d5'): 1159, Move.from_uci('f5c5'): 1160, Move.from_uci('f5b5'): 1161, Move.from_uci('f5a5'): 1162, Move.from_uci('f5e6'): 1163, Move.from_uci('f5d7'): 1164, Move.from_uci('f5c8'): 1165, Move.from_uci('f5g7'): 1166, Move.from_uci('f5h6'): 1167, Move.from_uci('f5h4'): 1168, Move.from_uci('f5g3'): 1169, Move.from_uci('f5e3'): 1170, Move.from_uci('f5d4'): 1171, Move.from_uci('f5d6'): 1172, Move.from_uci('f5e7'): 1173, Move.from_uci('g5g6'): 1174, Move.from_uci('g5g7'): 1175, Move.from_uci('g5g8'): 1176, Move.from_uci('g5h6'): 1177, Move.from_uci('g5h5'): 1178, Move.from_uci('g5h4'): 1179, Move.from_uci('g5g4'): 1180, Move.from_uci('g5g3'): 1181, Move.from_uci('g5g2'): 1182, Move.from_uci('g5g1'): 1183, Move.from_uci('g5f4'): 1184, Move.from_uci('g5e3'): 1185, Move.from_uci('g5d2'): 1186, Move.from_uci('g5c1'): 1187, Move.from_uci('g5f5'): 1188, Move.from_uci('g5e5'): 1189, Move.from_uci('g5d5'): 1190, Move.from_uci('g5c5'): 1191, Move.from_uci('g5b5'): 1192, Move.from_uci('g5a5'): 1193, Move.from_uci('g5f6'): 1194, Move.from_uci('g5e7'): 1195, Move.from_uci('g5d8'): 1196, Move.from_uci('g5h7'): 1197, Move.from_uci('g5h3'): 1198, Move.from_uci('g5f3'): 1199, Move.from_uci('g5e4'): 1200, Move.from_uci('g5e6'): 1201, Move.from_uci('g5f7'): 1202, Move.from_uci('h5h6'): 1203, Move.from_uci('h5h7'): 1204, Move.from_uci('h5h8'): 1205, Move.from_uci('h5h4'): 1206, Move.from_uci('h5h3'): 1207, Move.from_uci('h5h2'): 1208, Move.from_uci('h5h1'): 1209, Move.from_uci('h5g4'): 1210, Move.from_uci('h5f3'): 1211, Move.from_uci('h5e2'): 1212, Move.from_uci('h5d1'): 1213, Move.from_uci('h5g5'): 1214, Move.from_uci('h5f5'): 1215, Move.from_uci('h5e5'): 1216, Move.from_uci('h5d5'): 1217, Move.from_uci('h5c5'): 1218, Move.from_uci('h5b5'): 1219, Move.from_uci('h5a5'): 1220, Move.from_uci('h5g6'): 1221, Move.from_uci('h5f7'): 1222, Move.from_uci('h5e8'): 1223, Move.from_uci('h5g3'): 1224, Move.from_uci('h5f4'): 1225, Move.from_uci('h5f6'): 1226, Move.from_uci('h5g7'): 1227, Move.from_uci('a6a7'): 1228, Move.from_uci('a6a8'): 1229, Move.from_uci('a6b7'): 1230, Move.from_uci('a6c8'): 1231, Move.from_uci('a6b6'): 1232, Move.from_uci('a6c6'): 1233, Move.from_uci('a6d6'): 1234, Move.from_uci('a6e6'): 1235, Move.from_uci('a6f6'): 1236, Move.from_uci('a6g6'): 1237, Move.from_uci('a6h6'): 1238, Move.from_uci('a6b5'): 1239, Move.from_uci('a6c4'): 1240, Move.from_uci('a6d3'): 1241, Move.from_uci('a6e2'): 1242, Move.from_uci('a6f1'): 1243, Move.from_uci('a6a5'): 1244, Move.from_uci('a6a4'): 1245, Move.from_uci('a6a3'): 1246, Move.from_uci('a6a2'): 1247, Move.from_uci('a6a1'): 1248, Move.from_uci('a6b8'): 1249, Move.from_uci('a6c7'): 1250, Move.from_uci('a6c5'): 1251, Move.from_uci('a6b4'): 1252, Move.from_uci('b6b7'): 1253, Move.from_uci('b6b8'): 1254, Move.from_uci('b6c7'): 1255, Move.from_uci('b6d8'): 1256, Move.from_uci('b6c6'): 1257, Move.from_uci('b6d6'): 1258, Move.from_uci('b6e6'): 1259, Move.from_uci('b6f6'): 1260, Move.from_uci('b6g6'): 1261, Move.from_uci('b6h6'): 1262, Move.from_uci('b6c5'): 1263, Move.from_uci('b6d4'): 1264, Move.from_uci('b6e3'): 1265, Move.from_uci('b6f2'): 1266, Move.from_uci('b6g1'): 1267, Move.from_uci('b6b5'): 1268, Move.from_uci('b6b4'): 1269, Move.from_uci('b6b3'): 1270, Move.from_uci('b6b2'): 1271, Move.from_uci('b6b1'): 1272, Move.from_uci('b6a5'): 1273, Move.from_uci('b6a6'): 1274, Move.from_uci('b6a7'): 1275, Move.from_uci('b6c8'): 1276, Move.from_uci('b6d7'): 1277, Move.from_uci('b6d5'): 1278, Move.from_uci('b6c4'): 1279, Move.from_uci('b6a4'): 1280, Move.from_uci('b6a8'): 1281, Move.from_uci('c6c7'): 1282, Move.from_uci('c6c8'): 1283, Move.from_uci('c6d7'): 1284, Move.from_uci('c6e8'): 1285, Move.from_uci('c6d6'): 1286, Move.from_uci('c6e6'): 1287, Move.from_uci('c6f6'): 1288, Move.from_uci('c6g6'): 1289, Move.from_uci('c6h6'): 1290, Move.from_uci('c6d5'): 1291, Move.from_uci('c6e4'): 1292, Move.from_uci('c6f3'): 1293, Move.from_uci('c6g2'): 1294, Move.from_uci('c6h1'): 1295, Move.from_uci('c6c5'): 1296, Move.from_uci('c6c4'): 1297, Move.from_uci('c6c3'): 1298, Move.from_uci('c6c2'): 1299, Move.from_uci('c6c1'): 1300, Move.from_uci('c6b5'): 1301, Move.from_uci('c6a4'): 1302, Move.from_uci('c6b6'): 1303, Move.from_uci('c6a6'): 1304, Move.from_uci('c6b7'): 1305, Move.from_uci('c6a8'): 1306, Move.from_uci('c6d8'): 1307, Move.from_uci('c6e7'): 1308, Move.from_uci('c6e5'): 1309, Move.from_uci('c6d4'): 1310, Move.from_uci('c6b4'): 1311, Move.from_uci('c6a5'): 1312, Move.from_uci('c6a7'): 1313, Move.from_uci('c6b8'): 1314, Move.from_uci('d6d7'): 1315, Move.from_uci('d6d8'): 1316, Move.from_uci('d6e7'): 1317, Move.from_uci('d6f8'): 1318, Move.from_uci('d6e6'): 1319, Move.from_uci('d6f6'): 1320, Move.from_uci('d6g6'): 1321, Move.from_uci('d6h6'): 1322, Move.from_uci('d6e5'): 1323, Move.from_uci('d6f4'): 1324, Move.from_uci('d6g3'): 1325, Move.from_uci('d6h2'): 1326, Move.from_uci('d6d5'): 1327, Move.from_uci('d6d4'): 1328, Move.from_uci('d6d3'): 1329, Move.from_uci('d6d2'): 1330, Move.from_uci('d6d1'): 1331, Move.from_uci('d6c5'): 1332, Move.from_uci('d6b4'): 1333, Move.from_uci('d6a3'): 1334, Move.from_uci('d6c6'): 1335, Move.from_uci('d6b6'): 1336, Move.from_uci('d6a6'): 1337, Move.from_uci('d6c7'): 1338, Move.from_uci('d6b8'): 1339, Move.from_uci('d6e8'): 1340, Move.from_uci('d6f7'): 1341, Move.from_uci('d6f5'): 1342, Move.from_uci('d6e4'): 1343, Move.from_uci('d6c4'): 1344, Move.from_uci('d6b5'): 1345, Move.from_uci('d6b7'): 1346, Move.from_uci('d6c8'): 1347, Move.from_uci('e6e7'): 1348, Move.from_uci('e6e8'): 1349, Move.from_uci('e6f7'): 1350, Move.from_uci('e6g8'): 1351, Move.from_uci('e6f6'): 1352, Move.from_uci('e6g6'): 1353, Move.from_uci('e6h6'): 1354, Move.from_uci('e6f5'): 1355, Move.from_uci('e6g4'): 1356, Move.from_uci('e6h3'): 1357, Move.from_uci('e6e5'): 1358, Move.from_uci('e6e4'): 1359, Move.from_uci('e6e3'): 1360, Move.from_uci('e6e2'): 1361, Move.from_uci('e6e1'): 1362, Move.from_uci('e6d5'): 1363, Move.from_uci('e6c4'): 1364, Move.from_uci('e6b3'): 1365, Move.from_uci('e6a2'): 1366, Move.from_uci('e6d6'): 1367, Move.from_uci('e6c6'): 1368, Move.from_uci('e6b6'): 1369, Move.from_uci('e6a6'): 1370, Move.from_uci('e6d7'): 1371, Move.from_uci('e6c8'): 1372, Move.from_uci('e6f8'): 1373, Move.from_uci('e6g7'): 1374, Move.from_uci('e6g5'): 1375, Move.from_uci('e6f4'): 1376, Move.from_uci('e6d4'): 1377, Move.from_uci('e6c5'): 1378, Move.from_uci('e6c7'): 1379, Move.from_uci('e6d8'): 1380, Move.from_uci('f6f7'): 1381, Move.from_uci('f6f8'): 1382, Move.from_uci('f6g7'): 1383, Move.from_uci('f6h8'): 1384, Move.from_uci('f6g6'): 1385, Move.from_uci('f6h6'): 1386, Move.from_uci('f6g5'): 1387, Move.from_uci('f6h4'): 1388, Move.from_uci('f6f5'): 1389, Move.from_uci('f6f4'): 1390, Move.from_uci('f6f3'): 1391, Move.from_uci('f6f2'): 1392, Move.from_uci('f6f1'): 1393, Move.from_uci('f6e5'): 1394, Move.from_uci('f6d4'): 1395, Move.from_uci('f6c3'): 1396, Move.from_uci('f6b2'): 1397, Move.from_uci('f6a1'): 1398, Move.from_uci('f6e6'): 1399, Move.from_uci('f6d6'): 1400, Move.from_uci('f6c6'): 1401, Move.from_uci('f6b6'): 1402, Move.from_uci('f6a6'): 1403, Move.from_uci('f6e7'): 1404, Move.from_uci('f6d8'): 1405, Move.from_uci('f6g8'): 1406, Move.from_uci('f6h7'): 1407, Move.from_uci('f6h5'): 1408, Move.from_uci('f6g4'): 1409, Move.from_uci('f6e4'): 1410, Move.from_uci('f6d5'): 1411, Move.from_uci('f6d7'): 1412, Move.from_uci('f6e8'): 1413, Move.from_uci('g6g7'): 1414, Move.from_uci('g6g8'): 1415, Move.from_uci('g6h7'): 1416, Move.from_uci('g6h6'): 1417, Move.from_uci('g6h5'): 1418, Move.from_uci('g6g5'): 1419, Move.from_uci('g6g4'): 1420, Move.from_uci('g6g3'): 1421, Move.from_uci('g6g2'): 1422, Move.from_uci('g6g1'): 1423, Move.from_uci('g6f5'): 1424, Move.from_uci('g6e4'): 1425, Move.from_uci('g6d3'): 1426, Move.from_uci('g6c2'): 1427, Move.from_uci('g6b1'): 1428, Move.from_uci('g6f6'): 1429, Move.from_uci('g6e6'): 1430, Move.from_uci('g6d6'): 1431, Move.from_uci('g6c6'): 1432, Move.from_uci('g6b6'): 1433, Move.from_uci('g6a6'): 1434, Move.from_uci('g6f7'): 1435, Move.from_uci('g6e8'): 1436, Move.from_uci('g6h8'): 1437, Move.from_uci('g6h4'): 1438, Move.from_uci('g6f4'): 1439, Move.from_uci('g6e5'): 1440, Move.from_uci('g6e7'): 1441, Move.from_uci('g6f8'): 1442, Move.from_uci('h6h7'): 1443, Move.from_uci('h6h8'): 1444, Move.from_uci('h6h5'): 1445, Move.from_uci('h6h4'): 1446, Move.from_uci('h6h3'): 1447, Move.from_uci('h6h2'): 1448, Move.from_uci('h6h1'): 1449, Move.from_uci('h6g5'): 1450, Move.from_uci('h6f4'): 1451, Move.from_uci('h6e3'): 1452, Move.from_uci('h6d2'): 1453, Move.from_uci('h6c1'): 1454, Move.from_uci('h6g6'): 1455, Move.from_uci('h6f6'): 1456, Move.from_uci('h6e6'): 1457, Move.from_uci('h6d6'): 1458, Move.from_uci('h6c6'): 1459, Move.from_uci('h6b6'): 1460, Move.from_uci('h6a6'): 1461, Move.from_uci('h6g7'): 1462, Move.from_uci('h6f8'): 1463, Move.from_uci('h6g4'): 1464, Move.from_uci('h6f5'): 1465, Move.from_uci('h6f7'): 1466, Move.from_uci('h6g8'): 1467, Move.from_uci('a7a8'): 1468, Move.from_uci('a7b8'): 1469, Move.from_uci('a7b7'): 1470, Move.from_uci('a7c7'): 1471, Move.from_uci('a7d7'): 1472, Move.from_uci('a7e7'): 1473, Move.from_uci('a7f7'): 1474, Move.from_uci('a7g7'): 1475, Move.from_uci('a7h7'): 1476, Move.from_uci('a7b6'): 1477, Move.from_uci('a7c5'): 1478, Move.from_uci('a7d4'): 1479, Move.from_uci('a7e3'): 1480, Move.from_uci('a7f2'): 1481, Move.from_uci('a7g1'): 1482, Move.from_uci('a7a6'): 1483, Move.from_uci('a7a5'): 1484, Move.from_uci('a7a4'): 1485, Move.from_uci('a7a3'): 1486, Move.from_uci('a7a2'): 1487, Move.from_uci('a7a1'): 1488, Move.from_uci('a7c8'): 1489, Move.from_uci('a7c6'): 1490, Move.from_uci('a7b5'): 1491, Move.from_uci('a7a8q'): 1492, Move.from_uci('a7b8q'): 1493, Move.from_uci('a7a8r'): 1494, Move.from_uci('a7b8r'): 1495, Move.from_uci('a7a8b'): 1496, Move.from_uci('a7b8b'): 1497, Move.from_uci('a7a8n'): 1498, Move.from_uci('a7b8n'): 1499, Move.from_uci('b7b8'): 1500, Move.from_uci('b7c8'): 1501, Move.from_uci('b7c7'): 1502, Move.from_uci('b7d7'): 1503, Move.from_uci('b7e7'): 1504, Move.from_uci('b7f7'): 1505, Move.from_uci('b7g7'): 1506, Move.from_uci('b7h7'): 1507, Move.from_uci('b7c6'): 1508, Move.from_uci('b7d5'): 1509, Move.from_uci('b7e4'): 1510, Move.from_uci('b7f3'): 1511, Move.from_uci('b7g2'): 1512, Move.from_uci('b7h1'): 1513, Move.from_uci('b7b6'): 1514, Move.from_uci('b7b5'): 1515, Move.from_uci('b7b4'): 1516, Move.from_uci('b7b3'): 1517, Move.from_uci('b7b2'): 1518, Move.from_uci('b7b1'): 1519, Move.from_uci('b7a6'): 1520, Move.from_uci('b7a7'): 1521, Move.from_uci('b7a8'): 1522, Move.from_uci('b7d8'): 1523, Move.from_uci('b7d6'): 1524, Move.from_uci('b7c5'): 1525, Move.from_uci('b7a5'): 1526, Move.from_uci('b7a8q'): 1527, Move.from_uci('b7b8q'): 1528, Move.from_uci('b7c8q'): 1529, Move.from_uci('b7a8r'): 1530, Move.from_uci('b7b8r'): 1531, Move.from_uci('b7c8r'): 1532, Move.from_uci('b7a8b'): 1533, Move.from_uci('b7b8b'): 1534, Move.from_uci('b7c8b'): 1535, Move.from_uci('b7a8n'): 1536, Move.from_uci('b7b8n'): 1537, Move.from_uci('b7c8n'): 1538, Move.from_uci('c7c8'): 1539, Move.from_uci('c7d8'): 1540, Move.from_uci('c7d7'): 1541, Move.from_uci('c7e7'): 1542, Move.from_uci('c7f7'): 1543, Move.from_uci('c7g7'): 1544, Move.from_uci('c7h7'): 1545, Move.from_uci('c7d6'): 1546, Move.from_uci('c7e5'): 1547, Move.from_uci('c7f4'): 1548, Move.from_uci('c7g3'): 1549, Move.from_uci('c7h2'): 1550, Move.from_uci('c7c6'): 1551, Move.from_uci('c7c5'): 1552, Move.from_uci('c7c4'): 1553, Move.from_uci('c7c3'): 1554, Move.from_uci('c7c2'): 1555, Move.from_uci('c7c1'): 1556, Move.from_uci('c7b6'): 1557, Move.from_uci('c7a5'): 1558, Move.from_uci('c7b7'): 1559, Move.from_uci('c7a7'): 1560, Move.from_uci('c7b8'): 1561, Move.from_uci('c7e8'): 1562, Move.from_uci('c7e6'): 1563, Move.from_uci('c7d5'): 1564, Move.from_uci('c7b5'): 1565, Move.from_uci('c7a6'): 1566, Move.from_uci('c7a8'): 1567, Move.from_uci('c7b8q'): 1568, Move.from_uci('c7c8q'): 1569, Move.from_uci('c7d8q'): 1570, Move.from_uci('c7b8r'): 1571, Move.from_uci('c7c8r'): 1572, Move.from_uci('c7d8r'): 1573, Move.from_uci('c7b8b'): 1574, Move.from_uci('c7c8b'): 1575, Move.from_uci('c7d8b'): 1576, Move.from_uci('c7b8n'): 1577, Move.from_uci('c7c8n'): 1578, Move.from_uci('c7d8n'): 1579, Move.from_uci('d7d8'): 1580, Move.from_uci('d7e8'): 1581, Move.from_uci('d7e7'): 1582, Move.from_uci('d7f7'): 1583, Move.from_uci('d7g7'): 1584, Move.from_uci('d7h7'): 1585, Move.from_uci('d7e6'): 1586, Move.from_uci('d7f5'): 1587, Move.from_uci('d7g4'): 1588, Move.from_uci('d7h3'): 1589, Move.from_uci('d7d6'): 1590, Move.from_uci('d7d5'): 1591, Move.from_uci('d7d4'): 1592, Move.from_uci('d7d3'): 1593, Move.from_uci('d7d2'): 1594, Move.from_uci('d7d1'): 1595, Move.from_uci('d7c6'): 1596, Move.from_uci('d7b5'): 1597, Move.from_uci('d7a4'): 1598, Move.from_uci('d7c7'): 1599, Move.from_uci('d7b7'): 1600, Move.from_uci('d7a7'): 1601, Move.from_uci('d7c8'): 1602, Move.from_uci('d7f8'): 1603, Move.from_uci('d7f6'): 1604, Move.from_uci('d7e5'): 1605, Move.from_uci('d7c5'): 1606, Move.from_uci('d7b6'): 1607, Move.from_uci('d7b8'): 1608, Move.from_uci('d7c8q'): 1609, Move.from_uci('d7d8q'): 1610, Move.from_uci('d7e8q'): 1611, Move.from_uci('d7c8r'): 1612, Move.from_uci('d7d8r'): 1613, Move.from_uci('d7e8r'): 1614, Move.from_uci('d7c8b'): 1615, Move.from_uci('d7d8b'): 1616, Move.from_uci('d7e8b'): 1617, Move.from_uci('d7c8n'): 1618, Move.from_uci('d7d8n'): 1619, Move.from_uci('d7e8n'): 1620, Move.from_uci('e7e8'): 1621, Move.from_uci('e7f8'): 1622, Move.from_uci('e7f7'): 1623, Move.from_uci('e7g7'): 1624, Move.from_uci('e7h7'): 1625, Move.from_uci('e7f6'): 1626, Move.from_uci('e7g5'): 1627, Move.from_uci('e7h4'): 1628, Move.from_uci('e7e6'): 1629, Move.from_uci('e7e5'): 1630, Move.from_uci('e7e4'): 1631, Move.from_uci('e7e3'): 1632, Move.from_uci('e7e2'): 1633, Move.from_uci('e7e1'): 1634, Move.from_uci('e7d6'): 1635, Move.from_uci('e7c5'): 1636, Move.from_uci('e7b4'): 1637, Move.from_uci('e7a3'): 1638, Move.from_uci('e7d7'): 1639, Move.from_uci('e7c7'): 1640, Move.from_uci('e7b7'): 1641, Move.from_uci('e7a7'): 1642, Move.from_uci('e7d8'): 1643, Move.from_uci('e7g8'): 1644, Move.from_uci('e7g6'): 1645, Move.from_uci('e7f5'): 1646, Move.from_uci('e7d5'): 1647, Move.from_uci('e7c6'): 1648, Move.from_uci('e7c8'): 1649, Move.from_uci('e7d8q'): 1650, Move.from_uci('e7e8q'): 1651, Move.from_uci('e7f8q'): 1652, Move.from_uci('e7d8r'): 1653, Move.from_uci('e7e8r'): 1654, Move.from_uci('e7f8r'): 1655, Move.from_uci('e7d8b'): 1656, Move.from_uci('e7e8b'): 1657, Move.from_uci('e7f8b'): 1658, Move.from_uci('e7d8n'): 1659, Move.from_uci('e7e8n'): 1660, Move.from_uci('e7f8n'): 1661, Move.from_uci('f7f8'): 1662, Move.from_uci('f7g8'): 1663, Move.from_uci('f7g7'): 1664, Move.from_uci('f7h7'): 1665, Move.from_uci('f7g6'): 1666, Move.from_uci('f7h5'): 1667, Move.from_uci('f7f6'): 1668, Move.from_uci('f7f5'): 1669, Move.from_uci('f7f4'): 1670, Move.from_uci('f7f3'): 1671, Move.from_uci('f7f2'): 1672, Move.from_uci('f7f1'): 1673, Move.from_uci('f7e6'): 1674, Move.from_uci('f7d5'): 1675, Move.from_uci('f7c4'): 1676, Move.from_uci('f7b3'): 1677, Move.from_uci('f7a2'): 1678, Move.from_uci('f7e7'): 1679, Move.from_uci('f7d7'): 1680, Move.from_uci('f7c7'): 1681, Move.from_uci('f7b7'): 1682, Move.from_uci('f7a7'): 1683, Move.from_uci('f7e8'): 1684, Move.from_uci('f7h8'): 1685, Move.from_uci('f7h6'): 1686, Move.from_uci('f7g5'): 1687, Move.from_uci('f7e5'): 1688, Move.from_uci('f7d6'): 1689, Move.from_uci('f7d8'): 1690, Move.from_uci('f7e8q'): 1691, Move.from_uci('f7f8q'): 1692, Move.from_uci('f7g8q'): 1693, Move.from_uci('f7e8r'): 1694, Move.from_uci('f7f8r'): 1695, Move.from_uci('f7g8r'): 1696, Move.from_uci('f7e8b'): 1697, Move.from_uci('f7f8b'): 1698, Move.from_uci('f7g8b'): 1699, Move.from_uci('f7e8n'): 1700, Move.from_uci('f7f8n'): 1701, Move.from_uci('f7g8n'): 1702, Move.from_uci('g7g8'): 1703, Move.from_uci('g7h8'): 1704, Move.from_uci('g7h7'): 1705, Move.from_uci('g7h6'): 1706, Move.from_uci('g7g6'): 1707, Move.from_uci('g7g5'): 1708, Move.from_uci('g7g4'): 1709, Move.from_uci('g7g3'): 1710, Move.from_uci('g7g2'): 1711, Move.from_uci('g7g1'): 1712, Move.from_uci('g7f6'): 1713, Move.from_uci('g7e5'): 1714, Move.from_uci('g7d4'): 1715, Move.from_uci('g7c3'): 1716, Move.from_uci('g7b2'): 1717, Move.from_uci('g7a1'): 1718, Move.from_uci('g7f7'): 1719, Move.from_uci('g7e7'): 1720, Move.from_uci('g7d7'): 1721, Move.from_uci('g7c7'): 1722, Move.from_uci('g7b7'): 1723, Move.from_uci('g7a7'): 1724, Move.from_uci('g7f8'): 1725, Move.from_uci('g7h5'): 1726, Move.from_uci('g7f5'): 1727, Move.from_uci('g7e6'): 1728, Move.from_uci('g7e8'): 1729, Move.from_uci('g7f8q'): 1730, Move.from_uci('g7g8q'): 1731, Move.from_uci('g7h8q'): 1732, Move.from_uci('g7f8r'): 1733, Move.from_uci('g7g8r'): 1734, Move.from_uci('g7h8r'): 1735, Move.from_uci('g7f8b'): 1736, Move.from_uci('g7g8b'): 1737, Move.from_uci('g7h8b'): 1738, Move.from_uci('g7f8n'): 1739, Move.from_uci('g7g8n'): 1740, Move.from_uci('g7h8n'): 1741, Move.from_uci('h7h8'): 1742, Move.from_uci('h7h6'): 1743, Move.from_uci('h7h5'): 1744, Move.from_uci('h7h4'): 1745, Move.from_uci('h7h3'): 1746, Move.from_uci('h7h2'): 1747, Move.from_uci('h7h1'): 1748, Move.from_uci('h7g6'): 1749, Move.from_uci('h7f5'): 1750, Move.from_uci('h7e4'): 1751, Move.from_uci('h7d3'): 1752, Move.from_uci('h7c2'): 1753, Move.from_uci('h7b1'): 1754, Move.from_uci('h7g7'): 1755, Move.from_uci('h7f7'): 1756, Move.from_uci('h7e7'): 1757, Move.from_uci('h7d7'): 1758, Move.from_uci('h7c7'): 1759, Move.from_uci('h7b7'): 1760, Move.from_uci('h7a7'): 1761, Move.from_uci('h7g8'): 1762, Move.from_uci('h7g5'): 1763, Move.from_uci('h7f6'): 1764, Move.from_uci('h7f8'): 1765, Move.from_uci('h7g8q'): 1766, Move.from_uci('h7h8q'): 1767, Move.from_uci('h7g8r'): 1768, Move.from_uci('h7h8r'): 1769, Move.from_uci('h7g8b'): 1770, Move.from_uci('h7h8b'): 1771, Move.from_uci('h7g8n'): 1772, Move.from_uci('h7h8n'): 1773, Move.from_uci('a8b8'): 1774, Move.from_uci('a8c8'): 1775, Move.from_uci('a8d8'): 1776, Move.from_uci('a8e8'): 1777, Move.from_uci('a8f8'): 1778, Move.from_uci('a8g8'): 1779, Move.from_uci('a8h8'): 1780, Move.from_uci('a8b7'): 1781, Move.from_uci('a8c6'): 1782, Move.from_uci('a8d5'): 1783, Move.from_uci('a8e4'): 1784, Move.from_uci('a8f3'): 1785, Move.from_uci('a8g2'): 1786, Move.from_uci('a8h1'): 1787, Move.from_uci('a8a7'): 1788, Move.from_uci('a8a6'): 1789, Move.from_uci('a8a5'): 1790, Move.from_uci('a8a4'): 1791, Move.from_uci('a8a3'): 1792, Move.from_uci('a8a2'): 1793, Move.from_uci('a8a1'): 1794, Move.from_uci('a8c7'): 1795, Move.from_uci('a8b6'): 1796, Move.from_uci('b8c8'): 1797, Move.from_uci('b8d8'): 1798, Move.from_uci('b8e8'): 1799, Move.from_uci('b8f8'): 1800, Move.from_uci('b8g8'): 1801, Move.from_uci('b8h8'): 1802, Move.from_uci('b8c7'): 1803, Move.from_uci('b8d6'): 1804, Move.from_uci('b8e5'): 1805, Move.from_uci('b8f4'): 1806, Move.from_uci('b8g3'): 1807, Move.from_uci('b8h2'): 1808, Move.from_uci('b8b7'): 1809, Move.from_uci('b8b6'): 1810, Move.from_uci('b8b5'): 1811, Move.from_uci('b8b4'): 1812, Move.from_uci('b8b3'): 1813, Move.from_uci('b8b2'): 1814, Move.from_uci('b8b1'): 1815, Move.from_uci('b8a7'): 1816, Move.from_uci('b8a8'): 1817, Move.from_uci('b8d7'): 1818, Move.from_uci('b8c6'): 1819, Move.from_uci('b8a6'): 1820, Move.from_uci('c8d8'): 1821, Move.from_uci('c8e8'): 1822, Move.from_uci('c8f8'): 1823, Move.from_uci('c8g8'): 1824, Move.from_uci('c8h8'): 1825, Move.from_uci('c8d7'): 1826, Move.from_uci('c8e6'): 1827, Move.from_uci('c8f5'): 1828, Move.from_uci('c8g4'): 1829, Move.from_uci('c8h3'): 1830, Move.from_uci('c8c7'): 1831, Move.from_uci('c8c6'): 1832, Move.from_uci('c8c5'): 1833, Move.from_uci('c8c4'): 1834, Move.from_uci('c8c3'): 1835, Move.from_uci('c8c2'): 1836, Move.from_uci('c8c1'): 1837, Move.from_uci('c8b7'): 1838, Move.from_uci('c8a6'): 1839, Move.from_uci('c8b8'): 1840, Move.from_uci('c8a8'): 1841, Move.from_uci('c8e7'): 1842, Move.from_uci('c8d6'): 1843, Move.from_uci('c8b6'): 1844, Move.from_uci('c8a7'): 1845, Move.from_uci('d8e8'): 1846, Move.from_uci('d8f8'): 1847, Move.from_uci('d8g8'): 1848, Move.from_uci('d8h8'): 1849, Move.from_uci('d8e7'): 1850, Move.from_uci('d8f6'): 1851, Move.from_uci('d8g5'): 1852, Move.from_uci('d8h4'): 1853, Move.from_uci('d8d7'): 1854, Move.from_uci('d8d6'): 1855, Move.from_uci('d8d5'): 1856, Move.from_uci('d8d4'): 1857, Move.from_uci('d8d3'): 1858, Move.from_uci('d8d2'): 1859, Move.from_uci('d8d1'): 1860, Move.from_uci('d8c7'): 1861, Move.from_uci('d8b6'): 1862, Move.from_uci('d8a5'): 1863, Move.from_uci('d8c8'): 1864, Move.from_uci('d8b8'): 1865, Move.from_uci('d8a8'): 1866, Move.from_uci('d8f7'): 1867, Move.from_uci('d8e6'): 1868, Move.from_uci('d8c6'): 1869, Move.from_uci('d8b7'): 1870, Move.from_uci('e8f8'): 1871, Move.from_uci('e8g8'): 1872, Move.from_uci('e8h8'): 1873, Move.from_uci('e8f7'): 1874, Move.from_uci('e8g6'): 1875, Move.from_uci('e8h5'): 1876, Move.from_uci('e8e7'): 1877, Move.from_uci('e8e6'): 1878, Move.from_uci('e8e5'): 1879, Move.from_uci('e8e4'): 1880, Move.from_uci('e8e3'): 1881, Move.from_uci('e8e2'): 1882, Move.from_uci('e8e1'): 1883, Move.from_uci('e8d7'): 1884, Move.from_uci('e8c6'): 1885, Move.from_uci('e8b5'): 1886, Move.from_uci('e8a4'): 1887, Move.from_uci('e8d8'): 1888, Move.from_uci('e8c8'): 1889, Move.from_uci('e8b8'): 1890, Move.from_uci('e8a8'): 1891, Move.from_uci('e8g7'): 1892, Move.from_uci('e8f6'): 1893, Move.from_uci('e8d6'): 1894, Move.from_uci('e8c7'): 1895, Move.from_uci('f8g8'): 1896, Move.from_uci('f8h8'): 1897, Move.from_uci('f8g7'): 1898, Move.from_uci('f8h6'): 1899, Move.from_uci('f8f7'): 1900, Move.from_uci('f8f6'): 1901, Move.from_uci('f8f5'): 1902, Move.from_uci('f8f4'): 1903, Move.from_uci('f8f3'): 1904, Move.from_uci('f8f2'): 1905, Move.from_uci('f8f1'): 1906, Move.from_uci('f8e7'): 1907, Move.from_uci('f8d6'): 1908, Move.from_uci('f8c5'): 1909, Move.from_uci('f8b4'): 1910, Move.from_uci('f8a3'): 1911, Move.from_uci('f8e8'): 1912, Move.from_uci('f8d8'): 1913, Move.from_uci('f8c8'): 1914, Move.from_uci('f8b8'): 1915, Move.from_uci('f8a8'): 1916, Move.from_uci('f8h7'): 1917, Move.from_uci('f8g6'): 1918, Move.from_uci('f8e6'): 1919, Move.from_uci('f8d7'): 1920, Move.from_uci('g8h8'): 1921, Move.from_uci('g8h7'): 1922, Move.from_uci('g8g7'): 1923, Move.from_uci('g8g6'): 1924, Move.from_uci('g8g5'): 1925, Move.from_uci('g8g4'): 1926, Move.from_uci('g8g3'): 1927, Move.from_uci('g8g2'): 1928, Move.from_uci('g8g1'): 1929, Move.from_uci('g8f7'): 1930, Move.from_uci('g8e6'): 1931, Move.from_uci('g8d5'): 1932, Move.from_uci('g8c4'): 1933, Move.from_uci('g8b3'): 1934, Move.from_uci('g8a2'): 1935, Move.from_uci('g8f8'): 1936, Move.from_uci('g8e8'): 1937, Move.from_uci('g8d8'): 1938, Move.from_uci('g8c8'): 1939, Move.from_uci('g8b8'): 1940, Move.from_uci('g8a8'): 1941, Move.from_uci('g8h6'): 1942, Move.from_uci('g8f6'): 1943, Move.from_uci('g8e7'): 1944, Move.from_uci('h8h7'): 1945, Move.from_uci('h8h6'): 1946, Move.from_uci('h8h5'): 1947, Move.from_uci('h8h4'): 1948, Move.from_uci('h8h3'): 1949, Move.from_uci('h8h2'): 1950, Move.from_uci('h8h1'): 1951, Move.from_uci('h8g7'): 1952, Move.from_uci('h8f6'): 1953, Move.from_uci('h8e5'): 1954, Move.from_uci('h8d4'): 1955, Move.from_uci('h8c3'): 1956, Move.from_uci('h8b2'): 1957, Move.from_uci('h8a1'): 1958, Move.from_uci('h8g8'): 1959, Move.from_uci('h8f8'): 1960, Move.from_uci('h8e8'): 1961, Move.from_uci('h8d8'): 1962, Move.from_uci('h8c8'): 1963, Move.from_uci('h8b8'): 1964, Move.from_uci('h8a8'): 1965, Move.from_uci('h8g6'): 1966, Move.from_uci('h8f7'): 1967}\n"
          ]
        }
      ]
    },
    {
      "cell_type": "code",
      "source": [
        "config = AlphaZeroConfig()\n",
        "config.max_games = 1\n",
        "config.num_simulations = 5\n",
        "config.num_actors = 1\n",
        "newnet = alphazero(config)\n",
        "end = time.time()"
      ],
      "metadata": {
        "colab": {
          "base_uri": "https://localhost:8080/",
          "height": 443
        },
        "id": "JLIzxJ7mGDhJ",
        "outputId": "3ea67ad3-484c-4b4d-80b0-1d89bb995ff8"
      },
      "execution_count": 90,
      "outputs": [
        {
          "output_type": "stream",
          "name": "stdout",
          "text": [
            "Training Network\n",
            "Saving Network!\n"
          ]
        },
        {
          "output_type": "stream",
          "name": "stderr",
          "text": [
            " 14%|█▍        | 575/4096 [00:44<04:33, 12.89it/s]\n"
          ]
        },
        {
          "output_type": "error",
          "ename": "KeyboardInterrupt",
          "evalue": "ignored",
          "traceback": [
            "\u001b[0;31m---------------------------------------------------------------------------\u001b[0m",
            "\u001b[0;31mKeyboardInterrupt\u001b[0m                         Traceback (most recent call last)",
            "\u001b[0;32m<ipython-input-90-bb8b4c4324f0>\u001b[0m in \u001b[0;36m<cell line: 5>\u001b[0;34m()\u001b[0m\n\u001b[1;32m      3\u001b[0m \u001b[0mconfig\u001b[0m\u001b[0;34m.\u001b[0m\u001b[0mnum_simulations\u001b[0m \u001b[0;34m=\u001b[0m \u001b[0;36m5\u001b[0m\u001b[0;34m\u001b[0m\u001b[0;34m\u001b[0m\u001b[0m\n\u001b[1;32m      4\u001b[0m \u001b[0mconfig\u001b[0m\u001b[0;34m.\u001b[0m\u001b[0mnum_actors\u001b[0m \u001b[0;34m=\u001b[0m \u001b[0;36m1\u001b[0m\u001b[0;34m\u001b[0m\u001b[0;34m\u001b[0m\u001b[0m\n\u001b[0;32m----> 5\u001b[0;31m \u001b[0mnewnet\u001b[0m \u001b[0;34m=\u001b[0m \u001b[0malphazero\u001b[0m\u001b[0;34m(\u001b[0m\u001b[0mconfig\u001b[0m\u001b[0;34m)\u001b[0m\u001b[0;34m\u001b[0m\u001b[0;34m\u001b[0m\u001b[0m\n\u001b[0m\u001b[1;32m      6\u001b[0m \u001b[0mend\u001b[0m \u001b[0;34m=\u001b[0m \u001b[0mtime\u001b[0m\u001b[0;34m.\u001b[0m\u001b[0mtime\u001b[0m\u001b[0;34m(\u001b[0m\u001b[0;34m)\u001b[0m\u001b[0;34m\u001b[0m\u001b[0;34m\u001b[0m\u001b[0m\n",
            "\u001b[0;32m<ipython-input-89-3143d0549a4d>\u001b[0m in \u001b[0;36malphazero\u001b[0;34m(config)\u001b[0m\n\u001b[1;32m    285\u001b[0m     \u001b[0mlaunch_job\u001b[0m\u001b[0;34m(\u001b[0m\u001b[0mrun_selfplay\u001b[0m\u001b[0;34m,\u001b[0m \u001b[0mconfig\u001b[0m\u001b[0;34m,\u001b[0m \u001b[0mstorage\u001b[0m\u001b[0;34m,\u001b[0m \u001b[0mreplay_buffer\u001b[0m\u001b[0;34m)\u001b[0m\u001b[0;34m\u001b[0m\u001b[0;34m\u001b[0m\u001b[0m\n\u001b[1;32m    286\u001b[0m \u001b[0;34m\u001b[0m\u001b[0m\n\u001b[0;32m--> 287\u001b[0;31m   \u001b[0mtrain_network\u001b[0m\u001b[0;34m(\u001b[0m\u001b[0mconfig\u001b[0m\u001b[0;34m,\u001b[0m \u001b[0mstorage\u001b[0m\u001b[0;34m,\u001b[0m \u001b[0mreplay_buffer\u001b[0m\u001b[0;34m)\u001b[0m\u001b[0;34m\u001b[0m\u001b[0;34m\u001b[0m\u001b[0m\n\u001b[0m\u001b[1;32m    288\u001b[0m \u001b[0;34m\u001b[0m\u001b[0m\n\u001b[1;32m    289\u001b[0m   \u001b[0;32mreturn\u001b[0m \u001b[0mstorage\u001b[0m\u001b[0;34m.\u001b[0m\u001b[0mlatest_network\u001b[0m\u001b[0;34m(\u001b[0m\u001b[0;34m)\u001b[0m\u001b[0;34m\u001b[0m\u001b[0;34m\u001b[0m\u001b[0m\n",
            "\u001b[0;32m<ipython-input-89-3143d0549a4d>\u001b[0m in \u001b[0;36mtrain_network\u001b[0;34m(config, storage, replay_buffer)\u001b[0m\n\u001b[1;32m    429\u001b[0m       \u001b[0mstorage\u001b[0m\u001b[0;34m.\u001b[0m\u001b[0msave_network\u001b[0m\u001b[0;34m(\u001b[0m\u001b[0mi\u001b[0m\u001b[0;34m,\u001b[0m \u001b[0mnetwork\u001b[0m\u001b[0;34m)\u001b[0m\u001b[0;34m\u001b[0m\u001b[0;34m\u001b[0m\u001b[0m\n\u001b[1;32m    430\u001b[0m     \u001b[0mbatch\u001b[0m \u001b[0;34m=\u001b[0m \u001b[0mreplay_buffer\u001b[0m\u001b[0;34m.\u001b[0m\u001b[0msample_batch\u001b[0m\u001b[0;34m(\u001b[0m\u001b[0;34m)\u001b[0m\u001b[0;34m\u001b[0m\u001b[0;34m\u001b[0m\u001b[0m\n\u001b[0;32m--> 431\u001b[0;31m     \u001b[0mupdate_weights\u001b[0m\u001b[0;34m(\u001b[0m\u001b[0moptimizer\u001b[0m\u001b[0;34m,\u001b[0m \u001b[0mnetwork\u001b[0m\u001b[0;34m,\u001b[0m \u001b[0mbatch\u001b[0m\u001b[0;34m,\u001b[0m \u001b[0mconfig\u001b[0m\u001b[0;34m.\u001b[0m\u001b[0mweight_decay\u001b[0m\u001b[0;34m)\u001b[0m\u001b[0;34m\u001b[0m\u001b[0;34m\u001b[0m\u001b[0m\n\u001b[0m\u001b[1;32m    432\u001b[0m   \u001b[0mprint\u001b[0m\u001b[0;34m(\u001b[0m\u001b[0;34m\"Network Saved\"\u001b[0m\u001b[0;34m)\u001b[0m\u001b[0;34m\u001b[0m\u001b[0;34m\u001b[0m\u001b[0m\n\u001b[1;32m    433\u001b[0m   \u001b[0mstorage\u001b[0m\u001b[0;34m.\u001b[0m\u001b[0msave_network\u001b[0m\u001b[0;34m(\u001b[0m\u001b[0mconfig\u001b[0m\u001b[0;34m.\u001b[0m\u001b[0mtraining_steps\u001b[0m\u001b[0;34m,\u001b[0m \u001b[0mnetwork\u001b[0m\u001b[0;34m)\u001b[0m\u001b[0;34m\u001b[0m\u001b[0;34m\u001b[0m\u001b[0m\n",
            "\u001b[0;32m<ipython-input-89-3143d0549a4d>\u001b[0m in \u001b[0;36mupdate_weights\u001b[0;34m(optimizer, network, batch, weight_decay)\u001b[0m\n\u001b[1;32m    438\u001b[0m   \u001b[0mloss\u001b[0m \u001b[0;34m=\u001b[0m \u001b[0;36m0\u001b[0m\u001b[0;34m\u001b[0m\u001b[0;34m\u001b[0m\u001b[0m\n\u001b[1;32m    439\u001b[0m   \u001b[0;32mfor\u001b[0m \u001b[0mimage\u001b[0m\u001b[0;34m,\u001b[0m \u001b[0;34m(\u001b[0m\u001b[0mtarget_value\u001b[0m\u001b[0;34m,\u001b[0m \u001b[0mtarget_policy\u001b[0m\u001b[0;34m)\u001b[0m \u001b[0;32min\u001b[0m \u001b[0mtqdm\u001b[0m\u001b[0;34m(\u001b[0m\u001b[0mbatch\u001b[0m\u001b[0;34m)\u001b[0m\u001b[0;34m:\u001b[0m\u001b[0;34m\u001b[0m\u001b[0;34m\u001b[0m\u001b[0m\n\u001b[0;32m--> 440\u001b[0;31m     \u001b[0mvalue\u001b[0m\u001b[0;34m,\u001b[0m \u001b[0mpolicy_logits\u001b[0m \u001b[0;34m=\u001b[0m \u001b[0mnetwork\u001b[0m\u001b[0;34m.\u001b[0m\u001b[0minference\u001b[0m\u001b[0;34m(\u001b[0m\u001b[0mimage\u001b[0m\u001b[0;34m)\u001b[0m\u001b[0;34m\u001b[0m\u001b[0;34m\u001b[0m\u001b[0m\n\u001b[0m\u001b[1;32m    441\u001b[0m     \u001b[0mlogits\u001b[0m \u001b[0;34m=\u001b[0m \u001b[0;34m[\u001b[0m\u001b[0mpolicy_logits\u001b[0m\u001b[0;34m[\u001b[0m\u001b[0mi\u001b[0m\u001b[0;34m]\u001b[0m \u001b[0;32mfor\u001b[0m \u001b[0mi\u001b[0m \u001b[0;32min\u001b[0m \u001b[0mrange\u001b[0m\u001b[0;34m(\u001b[0m\u001b[0;36m1968\u001b[0m\u001b[0;34m)\u001b[0m\u001b[0;34m]\u001b[0m\u001b[0;34m\u001b[0m\u001b[0;34m\u001b[0m\u001b[0m\n\u001b[1;32m    442\u001b[0m     \u001b[0mmse_loss\u001b[0m \u001b[0;34m=\u001b[0m \u001b[0mtf\u001b[0m\u001b[0;34m.\u001b[0m\u001b[0mlosses\u001b[0m\u001b[0;34m.\u001b[0m\u001b[0mmean_squared_error\u001b[0m\u001b[0;34m(\u001b[0m\u001b[0;34m[\u001b[0m\u001b[0mvalue\u001b[0m\u001b[0;34m]\u001b[0m\u001b[0;34m,\u001b[0m \u001b[0;34m[\u001b[0m\u001b[0mtarget_value\u001b[0m\u001b[0;34m]\u001b[0m\u001b[0;34m)\u001b[0m\u001b[0;34m\u001b[0m\u001b[0;34m\u001b[0m\u001b[0m\n",
            "\u001b[0;32m<ipython-input-89-3143d0549a4d>\u001b[0m in \u001b[0;36minference\u001b[0;34m(self, image)\u001b[0m\n\u001b[1;32m     70\u001b[0m \u001b[0;34m\u001b[0m\u001b[0m\n\u001b[1;32m     71\u001b[0m     \u001b[0;32mdef\u001b[0m \u001b[0minference\u001b[0m\u001b[0;34m(\u001b[0m\u001b[0mself\u001b[0m\u001b[0;34m,\u001b[0m \u001b[0mimage\u001b[0m\u001b[0;34m)\u001b[0m\u001b[0;34m:\u001b[0m\u001b[0;34m\u001b[0m\u001b[0;34m\u001b[0m\u001b[0m\n\u001b[0;32m---> 72\u001b[0;31m         \u001b[0mvalue_output\u001b[0m\u001b[0;34m,\u001b[0m \u001b[0mpolicy_output\u001b[0m \u001b[0;34m=\u001b[0m \u001b[0mself\u001b[0m\u001b[0;34m.\u001b[0m\u001b[0mmodel\u001b[0m\u001b[0;34m.\u001b[0m\u001b[0mpredict\u001b[0m\u001b[0;34m(\u001b[0m\u001b[0mtf\u001b[0m\u001b[0;34m.\u001b[0m\u001b[0mexpand_dims\u001b[0m\u001b[0;34m(\u001b[0m\u001b[0mimage\u001b[0m\u001b[0;34m,\u001b[0m\u001b[0maxis\u001b[0m\u001b[0;34m=\u001b[0m\u001b[0;36m0\u001b[0m\u001b[0;34m)\u001b[0m\u001b[0;34m,\u001b[0m\u001b[0mverbose\u001b[0m\u001b[0;34m=\u001b[0m\u001b[0;32mFalse\u001b[0m\u001b[0;34m)\u001b[0m\u001b[0;34m\u001b[0m\u001b[0;34m\u001b[0m\u001b[0m\n\u001b[0m\u001b[1;32m     73\u001b[0m         \u001b[0mvalue\u001b[0m \u001b[0;34m=\u001b[0m \u001b[0mvalue_output\u001b[0m\u001b[0;34m[\u001b[0m\u001b[0;36m0\u001b[0m\u001b[0;34m]\u001b[0m\u001b[0;34m[\u001b[0m\u001b[0;36m0\u001b[0m\u001b[0;34m]\u001b[0m\u001b[0;34m\u001b[0m\u001b[0;34m\u001b[0m\u001b[0m\n\u001b[1;32m     74\u001b[0m         \u001b[0mpolicy\u001b[0m \u001b[0;34m=\u001b[0m \u001b[0;34m{\u001b[0m\u001b[0mi\u001b[0m\u001b[0;34m:\u001b[0m\u001b[0mval\u001b[0m \u001b[0;32mfor\u001b[0m \u001b[0mi\u001b[0m\u001b[0;34m,\u001b[0m\u001b[0mval\u001b[0m \u001b[0;32min\u001b[0m \u001b[0menumerate\u001b[0m\u001b[0;34m(\u001b[0m\u001b[0mpolicy_output\u001b[0m\u001b[0;34m[\u001b[0m\u001b[0;36m0\u001b[0m\u001b[0;34m]\u001b[0m\u001b[0;34m)\u001b[0m\u001b[0;34m}\u001b[0m\u001b[0;34m\u001b[0m\u001b[0;34m\u001b[0m\u001b[0m\n",
            "\u001b[0;32m/usr/local/lib/python3.10/dist-packages/keras/utils/traceback_utils.py\u001b[0m in \u001b[0;36merror_handler\u001b[0;34m(*args, **kwargs)\u001b[0m\n\u001b[1;32m     63\u001b[0m         \u001b[0mfiltered_tb\u001b[0m \u001b[0;34m=\u001b[0m \u001b[0;32mNone\u001b[0m\u001b[0;34m\u001b[0m\u001b[0;34m\u001b[0m\u001b[0m\n\u001b[1;32m     64\u001b[0m         \u001b[0;32mtry\u001b[0m\u001b[0;34m:\u001b[0m\u001b[0;34m\u001b[0m\u001b[0;34m\u001b[0m\u001b[0m\n\u001b[0;32m---> 65\u001b[0;31m             \u001b[0;32mreturn\u001b[0m \u001b[0mfn\u001b[0m\u001b[0;34m(\u001b[0m\u001b[0;34m*\u001b[0m\u001b[0margs\u001b[0m\u001b[0;34m,\u001b[0m \u001b[0;34m**\u001b[0m\u001b[0mkwargs\u001b[0m\u001b[0;34m)\u001b[0m\u001b[0;34m\u001b[0m\u001b[0;34m\u001b[0m\u001b[0m\n\u001b[0m\u001b[1;32m     66\u001b[0m         \u001b[0;32mexcept\u001b[0m \u001b[0mException\u001b[0m \u001b[0;32mas\u001b[0m \u001b[0me\u001b[0m\u001b[0;34m:\u001b[0m\u001b[0;34m\u001b[0m\u001b[0;34m\u001b[0m\u001b[0m\n\u001b[1;32m     67\u001b[0m             \u001b[0mfiltered_tb\u001b[0m \u001b[0;34m=\u001b[0m \u001b[0m_process_traceback_frames\u001b[0m\u001b[0;34m(\u001b[0m\u001b[0me\u001b[0m\u001b[0;34m.\u001b[0m\u001b[0m__traceback__\u001b[0m\u001b[0;34m)\u001b[0m\u001b[0;34m\u001b[0m\u001b[0;34m\u001b[0m\u001b[0m\n",
            "\u001b[0;32m/usr/local/lib/python3.10/dist-packages/keras/engine/training.py\u001b[0m in \u001b[0;36mpredict\u001b[0;34m(self, x, batch_size, verbose, steps, callbacks, max_queue_size, workers, use_multiprocessing)\u001b[0m\n\u001b[1;32m   2376\u001b[0m             \u001b[0mcallbacks\u001b[0m\u001b[0;34m.\u001b[0m\u001b[0mon_predict_begin\u001b[0m\u001b[0;34m(\u001b[0m\u001b[0;34m)\u001b[0m\u001b[0;34m\u001b[0m\u001b[0;34m\u001b[0m\u001b[0m\n\u001b[1;32m   2377\u001b[0m             \u001b[0mbatch_outputs\u001b[0m \u001b[0;34m=\u001b[0m \u001b[0;32mNone\u001b[0m\u001b[0;34m\u001b[0m\u001b[0;34m\u001b[0m\u001b[0m\n\u001b[0;32m-> 2378\u001b[0;31m             \u001b[0;32mfor\u001b[0m \u001b[0m_\u001b[0m\u001b[0;34m,\u001b[0m \u001b[0miterator\u001b[0m \u001b[0;32min\u001b[0m \u001b[0mdata_handler\u001b[0m\u001b[0;34m.\u001b[0m\u001b[0menumerate_epochs\u001b[0m\u001b[0;34m(\u001b[0m\u001b[0;34m)\u001b[0m\u001b[0;34m:\u001b[0m  \u001b[0;31m# Single epoch.\u001b[0m\u001b[0;34m\u001b[0m\u001b[0;34m\u001b[0m\u001b[0m\n\u001b[0m\u001b[1;32m   2379\u001b[0m                 \u001b[0;32mwith\u001b[0m \u001b[0mdata_handler\u001b[0m\u001b[0;34m.\u001b[0m\u001b[0mcatch_stop_iteration\u001b[0m\u001b[0;34m(\u001b[0m\u001b[0;34m)\u001b[0m\u001b[0;34m:\u001b[0m\u001b[0;34m\u001b[0m\u001b[0;34m\u001b[0m\u001b[0m\n\u001b[1;32m   2380\u001b[0m                     \u001b[0;32mfor\u001b[0m \u001b[0mstep\u001b[0m \u001b[0;32min\u001b[0m \u001b[0mdata_handler\u001b[0m\u001b[0;34m.\u001b[0m\u001b[0msteps\u001b[0m\u001b[0;34m(\u001b[0m\u001b[0;34m)\u001b[0m\u001b[0;34m:\u001b[0m\u001b[0;34m\u001b[0m\u001b[0;34m\u001b[0m\u001b[0m\n",
            "\u001b[0;32m/usr/local/lib/python3.10/dist-packages/keras/engine/data_adapter.py\u001b[0m in \u001b[0;36menumerate_epochs\u001b[0;34m(self)\u001b[0m\n\u001b[1;32m   1303\u001b[0m         \u001b[0;34m\"\"\"Yields `(epoch, tf.data.Iterator)`.\"\"\"\u001b[0m\u001b[0;34m\u001b[0m\u001b[0;34m\u001b[0m\u001b[0m\n\u001b[1;32m   1304\u001b[0m         \u001b[0;32mwith\u001b[0m \u001b[0mself\u001b[0m\u001b[0;34m.\u001b[0m\u001b[0m_truncate_execution_to_epoch\u001b[0m\u001b[0;34m(\u001b[0m\u001b[0;34m)\u001b[0m\u001b[0;34m:\u001b[0m\u001b[0;34m\u001b[0m\u001b[0;34m\u001b[0m\u001b[0m\n\u001b[0;32m-> 1305\u001b[0;31m             \u001b[0mdata_iterator\u001b[0m \u001b[0;34m=\u001b[0m \u001b[0miter\u001b[0m\u001b[0;34m(\u001b[0m\u001b[0mself\u001b[0m\u001b[0;34m.\u001b[0m\u001b[0m_dataset\u001b[0m\u001b[0;34m)\u001b[0m\u001b[0;34m\u001b[0m\u001b[0;34m\u001b[0m\u001b[0m\n\u001b[0m\u001b[1;32m   1306\u001b[0m             \u001b[0;32mfor\u001b[0m \u001b[0mepoch\u001b[0m \u001b[0;32min\u001b[0m \u001b[0mrange\u001b[0m\u001b[0;34m(\u001b[0m\u001b[0mself\u001b[0m\u001b[0;34m.\u001b[0m\u001b[0m_initial_epoch\u001b[0m\u001b[0;34m,\u001b[0m \u001b[0mself\u001b[0m\u001b[0;34m.\u001b[0m\u001b[0m_epochs\u001b[0m\u001b[0;34m)\u001b[0m\u001b[0;34m:\u001b[0m\u001b[0;34m\u001b[0m\u001b[0;34m\u001b[0m\u001b[0m\n\u001b[1;32m   1307\u001b[0m                 \u001b[0;32mif\u001b[0m \u001b[0mself\u001b[0m\u001b[0;34m.\u001b[0m\u001b[0m_insufficient_data\u001b[0m\u001b[0;34m:\u001b[0m  \u001b[0;31m# Set by `catch_stop_iteration`.\u001b[0m\u001b[0;34m\u001b[0m\u001b[0;34m\u001b[0m\u001b[0m\n",
            "\u001b[0;32m/usr/local/lib/python3.10/dist-packages/tensorflow/python/data/ops/dataset_ops.py\u001b[0m in \u001b[0;36m__iter__\u001b[0;34m(self)\u001b[0m\n\u001b[1;32m    503\u001b[0m     \u001b[0;32mif\u001b[0m \u001b[0mcontext\u001b[0m\u001b[0;34m.\u001b[0m\u001b[0mexecuting_eagerly\u001b[0m\u001b[0;34m(\u001b[0m\u001b[0;34m)\u001b[0m \u001b[0;32mor\u001b[0m \u001b[0mops\u001b[0m\u001b[0;34m.\u001b[0m\u001b[0minside_function\u001b[0m\u001b[0;34m(\u001b[0m\u001b[0;34m)\u001b[0m\u001b[0;34m:\u001b[0m\u001b[0;34m\u001b[0m\u001b[0;34m\u001b[0m\u001b[0m\n\u001b[1;32m    504\u001b[0m       \u001b[0;32mwith\u001b[0m \u001b[0mops\u001b[0m\u001b[0;34m.\u001b[0m\u001b[0mcolocate_with\u001b[0m\u001b[0;34m(\u001b[0m\u001b[0mself\u001b[0m\u001b[0;34m.\u001b[0m\u001b[0m_variant_tensor\u001b[0m\u001b[0;34m)\u001b[0m\u001b[0;34m:\u001b[0m\u001b[0;34m\u001b[0m\u001b[0;34m\u001b[0m\u001b[0m\n\u001b[0;32m--> 505\u001b[0;31m         \u001b[0;32mreturn\u001b[0m \u001b[0miterator_ops\u001b[0m\u001b[0;34m.\u001b[0m\u001b[0mOwnedIterator\u001b[0m\u001b[0;34m(\u001b[0m\u001b[0mself\u001b[0m\u001b[0;34m)\u001b[0m\u001b[0;34m\u001b[0m\u001b[0;34m\u001b[0m\u001b[0m\n\u001b[0m\u001b[1;32m    506\u001b[0m     \u001b[0;32melse\u001b[0m\u001b[0;34m:\u001b[0m\u001b[0;34m\u001b[0m\u001b[0;34m\u001b[0m\u001b[0m\n\u001b[1;32m    507\u001b[0m       raise RuntimeError(\"`tf.data.Dataset` only supports Python-style \"\n",
            "\u001b[0;32m/usr/local/lib/python3.10/dist-packages/tensorflow/python/data/ops/iterator_ops.py\u001b[0m in \u001b[0;36m__init__\u001b[0;34m(self, dataset, components, element_spec)\u001b[0m\n\u001b[1;32m    711\u001b[0m             \u001b[0;34m\"When `dataset` is provided, `element_spec` and `components` must \"\u001b[0m\u001b[0;34m\u001b[0m\u001b[0;34m\u001b[0m\u001b[0m\n\u001b[1;32m    712\u001b[0m             \"not be specified.\")\n\u001b[0;32m--> 713\u001b[0;31m       \u001b[0mself\u001b[0m\u001b[0;34m.\u001b[0m\u001b[0m_create_iterator\u001b[0m\u001b[0;34m(\u001b[0m\u001b[0mdataset\u001b[0m\u001b[0;34m)\u001b[0m\u001b[0;34m\u001b[0m\u001b[0;34m\u001b[0m\u001b[0m\n\u001b[0m\u001b[1;32m    714\u001b[0m \u001b[0;34m\u001b[0m\u001b[0m\n\u001b[1;32m    715\u001b[0m     \u001b[0mself\u001b[0m\u001b[0;34m.\u001b[0m\u001b[0m_get_next_call_count\u001b[0m \u001b[0;34m=\u001b[0m \u001b[0;36m0\u001b[0m\u001b[0;34m\u001b[0m\u001b[0;34m\u001b[0m\u001b[0m\n",
            "\u001b[0;32m/usr/local/lib/python3.10/dist-packages/tensorflow/python/data/ops/iterator_ops.py\u001b[0m in \u001b[0;36m_create_iterator\u001b[0;34m(self, dataset)\u001b[0m\n\u001b[1;32m    750\u001b[0m             self._flat_output_types)\n\u001b[1;32m    751\u001b[0m         \u001b[0mself\u001b[0m\u001b[0;34m.\u001b[0m\u001b[0m_iterator_resource\u001b[0m\u001b[0;34m.\u001b[0m\u001b[0mop\u001b[0m\u001b[0;34m.\u001b[0m\u001b[0mexperimental_set_type\u001b[0m\u001b[0;34m(\u001b[0m\u001b[0mfulltype\u001b[0m\u001b[0;34m)\u001b[0m\u001b[0;34m\u001b[0m\u001b[0;34m\u001b[0m\u001b[0m\n\u001b[0;32m--> 752\u001b[0;31m       \u001b[0mgen_dataset_ops\u001b[0m\u001b[0;34m.\u001b[0m\u001b[0mmake_iterator\u001b[0m\u001b[0;34m(\u001b[0m\u001b[0mds_variant\u001b[0m\u001b[0;34m,\u001b[0m \u001b[0mself\u001b[0m\u001b[0;34m.\u001b[0m\u001b[0m_iterator_resource\u001b[0m\u001b[0;34m)\u001b[0m\u001b[0;34m\u001b[0m\u001b[0;34m\u001b[0m\u001b[0m\n\u001b[0m\u001b[1;32m    753\u001b[0m \u001b[0;34m\u001b[0m\u001b[0m\n\u001b[1;32m    754\u001b[0m   \u001b[0;32mdef\u001b[0m \u001b[0m__iter__\u001b[0m\u001b[0;34m(\u001b[0m\u001b[0mself\u001b[0m\u001b[0;34m)\u001b[0m\u001b[0;34m:\u001b[0m\u001b[0;34m\u001b[0m\u001b[0;34m\u001b[0m\u001b[0m\n",
            "\u001b[0;32m/usr/local/lib/python3.10/dist-packages/tensorflow/python/ops/gen_dataset_ops.py\u001b[0m in \u001b[0;36mmake_iterator\u001b[0;34m(dataset, iterator, name)\u001b[0m\n\u001b[1;32m   3406\u001b[0m   \u001b[0;32mif\u001b[0m \u001b[0mtld\u001b[0m\u001b[0;34m.\u001b[0m\u001b[0mis_eager\u001b[0m\u001b[0;34m:\u001b[0m\u001b[0;34m\u001b[0m\u001b[0;34m\u001b[0m\u001b[0m\n\u001b[1;32m   3407\u001b[0m     \u001b[0;32mtry\u001b[0m\u001b[0;34m:\u001b[0m\u001b[0;34m\u001b[0m\u001b[0;34m\u001b[0m\u001b[0m\n\u001b[0;32m-> 3408\u001b[0;31m       _result = pywrap_tfe.TFE_Py_FastPathExecute(\n\u001b[0m\u001b[1;32m   3409\u001b[0m         _ctx, \"MakeIterator\", name, dataset, iterator)\n\u001b[1;32m   3410\u001b[0m       \u001b[0;32mreturn\u001b[0m \u001b[0m_result\u001b[0m\u001b[0;34m\u001b[0m\u001b[0;34m\u001b[0m\u001b[0m\n",
            "\u001b[0;31mKeyboardInterrupt\u001b[0m: "
          ]
        }
      ]
    },
    {
      "cell_type": "code",
      "source": [
        "thingy = print(tf.losses.mean_squared_error(0, 0.0))"
      ],
      "metadata": {
        "colab": {
          "base_uri": "https://localhost:8080/",
          "height": 336
        },
        "id": "lAfcSjzK8zIP",
        "outputId": "935628d5-a3dd-4a64-c874-e3cc90de964f"
      },
      "execution_count": 66,
      "outputs": [
        {
          "output_type": "error",
          "ename": "InvalidArgumentError",
          "evalue": "ignored",
          "traceback": [
            "\u001b[0;31m---------------------------------------------------------------------------\u001b[0m",
            "\u001b[0;31mInvalidArgumentError\u001b[0m                      Traceback (most recent call last)",
            "\u001b[0;32m<ipython-input-66-c829f1f46026>\u001b[0m in \u001b[0;36m<cell line: 1>\u001b[0;34m()\u001b[0m\n\u001b[0;32m----> 1\u001b[0;31m \u001b[0mthingy\u001b[0m \u001b[0;34m=\u001b[0m \u001b[0mprint\u001b[0m\u001b[0;34m(\u001b[0m\u001b[0mtf\u001b[0m\u001b[0;34m.\u001b[0m\u001b[0mlosses\u001b[0m\u001b[0;34m.\u001b[0m\u001b[0mmean_squared_error\u001b[0m\u001b[0;34m(\u001b[0m\u001b[0;36m0\u001b[0m\u001b[0;34m,\u001b[0m \u001b[0;36m0.0\u001b[0m\u001b[0;34m)\u001b[0m\u001b[0;34m)\u001b[0m\u001b[0;34m\u001b[0m\u001b[0;34m\u001b[0m\u001b[0m\n\u001b[0m",
            "\u001b[0;32m/usr/local/lib/python3.10/dist-packages/tensorflow/python/util/traceback_utils.py\u001b[0m in \u001b[0;36merror_handler\u001b[0;34m(*args, **kwargs)\u001b[0m\n\u001b[1;32m    151\u001b[0m     \u001b[0;32mexcept\u001b[0m \u001b[0mException\u001b[0m \u001b[0;32mas\u001b[0m \u001b[0me\u001b[0m\u001b[0;34m:\u001b[0m\u001b[0;34m\u001b[0m\u001b[0;34m\u001b[0m\u001b[0m\n\u001b[1;32m    152\u001b[0m       \u001b[0mfiltered_tb\u001b[0m \u001b[0;34m=\u001b[0m \u001b[0m_process_traceback_frames\u001b[0m\u001b[0;34m(\u001b[0m\u001b[0me\u001b[0m\u001b[0;34m.\u001b[0m\u001b[0m__traceback__\u001b[0m\u001b[0;34m)\u001b[0m\u001b[0;34m\u001b[0m\u001b[0;34m\u001b[0m\u001b[0m\n\u001b[0;32m--> 153\u001b[0;31m       \u001b[0;32mraise\u001b[0m \u001b[0me\u001b[0m\u001b[0;34m.\u001b[0m\u001b[0mwith_traceback\u001b[0m\u001b[0;34m(\u001b[0m\u001b[0mfiltered_tb\u001b[0m\u001b[0;34m)\u001b[0m \u001b[0;32mfrom\u001b[0m \u001b[0;32mNone\u001b[0m\u001b[0;34m\u001b[0m\u001b[0;34m\u001b[0m\u001b[0m\n\u001b[0m\u001b[1;32m    154\u001b[0m     \u001b[0;32mfinally\u001b[0m\u001b[0;34m:\u001b[0m\u001b[0;34m\u001b[0m\u001b[0;34m\u001b[0m\u001b[0m\n\u001b[1;32m    155\u001b[0m       \u001b[0;32mdel\u001b[0m \u001b[0mfiltered_tb\u001b[0m\u001b[0;34m\u001b[0m\u001b[0;34m\u001b[0m\u001b[0m\n",
            "\u001b[0;32m/usr/local/lib/python3.10/dist-packages/keras/losses.py\u001b[0m in \u001b[0;36mmean_squared_error\u001b[0;34m(y_true, y_pred)\u001b[0m\n\u001b[1;32m   1468\u001b[0m     \u001b[0my_pred\u001b[0m \u001b[0;34m=\u001b[0m \u001b[0mtf\u001b[0m\u001b[0;34m.\u001b[0m\u001b[0mconvert_to_tensor\u001b[0m\u001b[0;34m(\u001b[0m\u001b[0my_pred\u001b[0m\u001b[0;34m)\u001b[0m\u001b[0;34m\u001b[0m\u001b[0;34m\u001b[0m\u001b[0m\n\u001b[1;32m   1469\u001b[0m     \u001b[0my_true\u001b[0m \u001b[0;34m=\u001b[0m \u001b[0mtf\u001b[0m\u001b[0;34m.\u001b[0m\u001b[0mcast\u001b[0m\u001b[0;34m(\u001b[0m\u001b[0my_true\u001b[0m\u001b[0;34m,\u001b[0m \u001b[0my_pred\u001b[0m\u001b[0;34m.\u001b[0m\u001b[0mdtype\u001b[0m\u001b[0;34m)\u001b[0m\u001b[0;34m\u001b[0m\u001b[0;34m\u001b[0m\u001b[0m\n\u001b[0;32m-> 1470\u001b[0;31m     \u001b[0;32mreturn\u001b[0m \u001b[0mbackend\u001b[0m\u001b[0;34m.\u001b[0m\u001b[0mmean\u001b[0m\u001b[0;34m(\u001b[0m\u001b[0mtf\u001b[0m\u001b[0;34m.\u001b[0m\u001b[0mmath\u001b[0m\u001b[0;34m.\u001b[0m\u001b[0msquared_difference\u001b[0m\u001b[0;34m(\u001b[0m\u001b[0my_pred\u001b[0m\u001b[0;34m,\u001b[0m \u001b[0my_true\u001b[0m\u001b[0;34m)\u001b[0m\u001b[0;34m,\u001b[0m \u001b[0maxis\u001b[0m\u001b[0;34m=\u001b[0m\u001b[0;34m-\u001b[0m\u001b[0;36m1\u001b[0m\u001b[0;34m)\u001b[0m\u001b[0;34m\u001b[0m\u001b[0;34m\u001b[0m\u001b[0m\n\u001b[0m\u001b[1;32m   1471\u001b[0m \u001b[0;34m\u001b[0m\u001b[0m\n\u001b[1;32m   1472\u001b[0m \u001b[0;34m\u001b[0m\u001b[0m\n",
            "\u001b[0;32m/usr/local/lib/python3.10/dist-packages/keras/backend.py\u001b[0m in \u001b[0;36mmean\u001b[0;34m(x, axis, keepdims)\u001b[0m\n\u001b[1;32m   2922\u001b[0m     \u001b[0;32mif\u001b[0m \u001b[0mx\u001b[0m\u001b[0;34m.\u001b[0m\u001b[0mdtype\u001b[0m\u001b[0;34m.\u001b[0m\u001b[0mbase_dtype\u001b[0m \u001b[0;34m==\u001b[0m \u001b[0mtf\u001b[0m\u001b[0;34m.\u001b[0m\u001b[0mbool\u001b[0m\u001b[0;34m:\u001b[0m\u001b[0;34m\u001b[0m\u001b[0;34m\u001b[0m\u001b[0m\n\u001b[1;32m   2923\u001b[0m         \u001b[0mx\u001b[0m \u001b[0;34m=\u001b[0m \u001b[0mtf\u001b[0m\u001b[0;34m.\u001b[0m\u001b[0mcast\u001b[0m\u001b[0;34m(\u001b[0m\u001b[0mx\u001b[0m\u001b[0;34m,\u001b[0m \u001b[0mfloatx\u001b[0m\u001b[0;34m(\u001b[0m\u001b[0;34m)\u001b[0m\u001b[0;34m)\u001b[0m\u001b[0;34m\u001b[0m\u001b[0;34m\u001b[0m\u001b[0m\n\u001b[0;32m-> 2924\u001b[0;31m     \u001b[0;32mreturn\u001b[0m \u001b[0mtf\u001b[0m\u001b[0;34m.\u001b[0m\u001b[0mreduce_mean\u001b[0m\u001b[0;34m(\u001b[0m\u001b[0mx\u001b[0m\u001b[0;34m,\u001b[0m \u001b[0maxis\u001b[0m\u001b[0;34m,\u001b[0m \u001b[0mkeepdims\u001b[0m\u001b[0;34m)\u001b[0m\u001b[0;34m\u001b[0m\u001b[0;34m\u001b[0m\u001b[0m\n\u001b[0m\u001b[1;32m   2925\u001b[0m \u001b[0;34m\u001b[0m\u001b[0m\n\u001b[1;32m   2926\u001b[0m \u001b[0;34m\u001b[0m\u001b[0m\n",
            "\u001b[0;31mInvalidArgumentError\u001b[0m: {{function_node __wrapped__Mean_device_/job:localhost/replica:0/task:0/device:CPU:0}} Invalid reduction dimension (-1 for input with 0 dimension(s) [Op:Mean]"
          ]
        }
      ]
    },
    {
      "cell_type": "code",
      "source": [
        "buffer = ReplayBuffer(config)\n",
        "print(len(buffer.buffer[-1].child_visits))"
      ],
      "metadata": {
        "colab": {
          "base_uri": "https://localhost:8080/"
        },
        "id": "Havm6ReplmaB",
        "outputId": "95f0d0e6-627d-40a6-c2a4-0026cf111f5d"
      },
      "execution_count": null,
      "outputs": [
        {
          "output_type": "stream",
          "name": "stdout",
          "text": [
            "55\n"
          ]
        }
      ]
    },
    {
      "cell_type": "code",
      "source": [],
      "metadata": {
        "id": "N1y0KfIDT2aq"
      },
      "execution_count": null,
      "outputs": []
    },
    {
      "cell_type": "code",
      "source": [
        "storage = SharedStorage()\n",
        "buffer = ReplayBuffer(config)\n",
        "network = ChessNet()\n",
        "config = AlphaZeroConfig()\n",
        "optimizer = tf.compat.v1.train.MomentumOptimizer(config.learning_rate_schedule,\n",
        "                                         config.momentum)"
      ],
      "metadata": {
        "id": "2qPoDavvL2tI"
      },
      "execution_count": null,
      "outputs": []
    },
    {
      "cell_type": "code",
      "source": [
        "move_sum = float(sum(len(g.history) for g in buffer.buffer))\n",
        "print(move_sum)\n",
        "games = numpy.random.choice(buffer.buffer, size=buffer.batch_size, p=[len(g.history)/move_sum for g in buffer.buffer])\n",
        "game_pos = [(g, numpy.random.randint(len(g.history))) for g in games]\n",
        "sampled_batch = [(g.make_image(i), g.make_target(i)) for (g, i) in game_pos]\n",
        "print(len(sampled_batch))"
      ],
      "metadata": {
        "id": "-Mo4IgrpJtOO",
        "colab": {
          "base_uri": "https://localhost:8080/"
        },
        "outputId": "53cdbd66-5c15-4876-d2f1-17b4e721a232"
      },
      "execution_count": null,
      "outputs": [
        {
          "output_type": "stream",
          "name": "stdout",
          "text": [
            "194.0\n",
            "4096\n"
          ]
        }
      ]
    },
    {
      "cell_type": "code",
      "source": [
        "from google.colab import drive\n",
        "drive.mount('/content/drive')"
      ],
      "metadata": {
        "id": "3Kgnfzl3GyaU"
      },
      "execution_count": null,
      "outputs": []
    },
    {
      "cell_type": "code",
      "source": [],
      "metadata": {
        "id": "4rQtwhKXRJL1"
      },
      "execution_count": null,
      "outputs": []
    },
    {
      "cell_type": "markdown",
      "source": [
        "\n",
        "\n",
        "# Testing"
      ],
      "metadata": {
        "id": "3u1p6FBO-Dso"
      }
    },
    {
      "cell_type": "code",
      "source": [
        "with open('replay_buffer.pkl', 'rb') as f:\n",
        "    loaded_replay_buffer = pickle.load(f)\n",
        "result_list = [game.state_history[-1].is_checkmate() for game in loaded_replay_buffer]\n",
        "print(str(sum(result_list)) + \" out of \" + str(len(result_list)))\n",
        "print(result_list)"
      ],
      "metadata": {
        "colab": {
          "base_uri": "https://localhost:8080/"
        },
        "id": "9xKB76nyeoL1",
        "outputId": "bdb83137-a580-4986-f2d8-3718a1118157"
      },
      "execution_count": null,
      "outputs": [
        {
          "output_type": "stream",
          "name": "stdout",
          "text": [
            "0 out of 71\n",
            "[False, False, False, False, False, False, False, False, False, False, False, False, False, False, False, False, False, False, False, False, False, False, False, False, False, False, False, False, False, False, False, False, False, False, False, False, False, False, False, False, False, False, False, False, False, False, False, False, False, False, False, False, False, False, False, False, False, False, False, False, False, False, False, False, False, False, False, False, False, False, False]\n"
          ]
        }
      ]
    },
    {
      "cell_type": "code",
      "source": [
        "def count_checkmates(buffer):\n",
        "  checkmates = sum([game.state_history[-1].is_checkmate() for game in buffer])\n",
        "  return (checkmates, len(buffer))\n"
      ],
      "metadata": {
        "id": "J2WThWvyRtFJ"
      },
      "execution_count": null,
      "outputs": []
    },
    {
      "cell_type": "code",
      "source": [
        "\n",
        "with open('replay_buffer1.pkl', 'rb') as f:\n",
        "  mybuffer2 = pickle.load(f)\n",
        "print(len(mybuffer2))"
      ],
      "metadata": {
        "colab": {
          "base_uri": "https://localhost:8080/"
        },
        "id": "6ouIMWrcHA1u",
        "outputId": "61e181c9-781b-4a40-d5f2-f584f902382d"
      },
      "execution_count": null,
      "outputs": [
        {
          "output_type": "stream",
          "name": "stdout",
          "text": [
            "16\n"
          ]
        }
      ]
    },
    {
      "cell_type": "markdown",
      "source": [
        "1 sim: 0/71\n"
      ],
      "metadata": {
        "id": "5lPb2MN1evFF"
      }
    },
    {
      "cell_type": "code",
      "source": [
        "mynet = ChessNet((8,8,119))\n",
        "game = ChessGame()\n",
        "image = game.make_image(-1)\n",
        "value, policy = mynet.inference(image)\n",
        "print(value)\n",
        "print(policy)"
      ],
      "metadata": {
        "colab": {
          "base_uri": "https://localhost:8080/"
        },
        "id": "hP4CNLIv-H6r",
        "outputId": "9193d1d5-5b8d-4f2f-93d0-40facf71cc01"
      },
      "execution_count": null,
      "outputs": [
        {
          "output_type": "stream",
          "name": "stdout",
          "text": [
            "1/1 [==============================] - 0s 138ms/step\n",
            "-0.007788439\n",
            "{Move.from_uci('a1a2'): 0.00020531238, Move.from_uci('a1a3'): 0.00020669139, Move.from_uci('a1a4'): 0.00020523192, Move.from_uci('a1a5'): 0.00020492547, Move.from_uci('a1a6'): 0.00020508259, Move.from_uci('a1a7'): 0.00020624777, Move.from_uci('a1a8'): 0.00020491815, Move.from_uci('a1b2'): 0.00020628759, Move.from_uci('a1c3'): 0.00020627695, Move.from_uci('a1d4'): 0.00020436449, Move.from_uci('a1e5'): 0.00020482976, Move.from_uci('a1f6'): 0.000205873, Move.from_uci('a1g7'): 0.00020819552, Move.from_uci('a1h8'): 0.00020549871, Move.from_uci('a1b1'): 0.00020490591, Move.from_uci('a1c1'): 0.00020586586, Move.from_uci('a1d1'): 0.00020589615, Move.from_uci('a1e1'): 0.00020422699, Move.from_uci('a1f1'): 0.00020507236, Move.from_uci('a1g1'): 0.00020623955, Move.from_uci('a1h1'): 0.00020422137, Move.from_uci('a1b3'): 0.00020725619, Move.from_uci('a1c2'): 0.00020659593, Move.from_uci('b1b2'): 0.00020783478, Move.from_uci('b1b3'): 0.00020612139, Move.from_uci('b1b4'): 0.00020606146, Move.from_uci('b1b5'): 0.00020575496, Move.from_uci('b1b6'): 0.00020671797, Move.from_uci('b1b7'): 0.00020482887, Move.from_uci('b1b8'): 0.00020681173, Move.from_uci('b1c2'): 0.0002055056, Move.from_uci('b1d3'): 0.00020593777, Move.from_uci('b1e4'): 0.00020666873, Move.from_uci('b1f5'): 0.0002051752, Move.from_uci('b1g6'): 0.00020427081, Move.from_uci('b1h7'): 0.00020369365, Move.from_uci('b1c1'): 0.00020370929, Move.from_uci('b1d1'): 0.00020516528, Move.from_uci('b1e1'): 0.00020676752, Move.from_uci('b1f1'): 0.00020693171, Move.from_uci('b1g1'): 0.0002051083, Move.from_uci('b1h1'): 0.000206288, Move.from_uci('b1a1'): 0.00020588859, Move.from_uci('b1a2'): 0.00020524733, Move.from_uci('b1c3'): 0.00020711978, Move.from_uci('b1d2'): 0.00020724778, Move.from_uci('b1a3'): 0.00020636781, Move.from_uci('c1c2'): 0.00020362236, Move.from_uci('c1c3'): 0.00020467496, Move.from_uci('c1c4'): 0.00020577673, Move.from_uci('c1c5'): 0.00020532604, Move.from_uci('c1c6'): 0.00020501816, Move.from_uci('c1c7'): 0.0002052902, Move.from_uci('c1c8'): 0.00020228677, Move.from_uci('c1d2'): 0.00020637759, Move.from_uci('c1e3'): 0.00020667358, Move.from_uci('c1f4'): 0.00020545284, Move.from_uci('c1g5'): 0.00020552227, Move.from_uci('c1h6'): 0.00020561408, Move.from_uci('c1d1'): 0.00020723118, Move.from_uci('c1e1'): 0.00020509955, Move.from_uci('c1f1'): 0.00020289856, Move.from_uci('c1g1'): 0.00020538819, Move.from_uci('c1h1'): 0.00020597571, Move.from_uci('c1b1'): 0.00020355453, Move.from_uci('c1a1'): 0.00020585391, Move.from_uci('c1b2'): 0.00020601701, Move.from_uci('c1a3'): 0.00020674382, Move.from_uci('c1d3'): 0.00020652963, Move.from_uci('c1e2'): 0.00020538348, Move.from_uci('c1a2'): 0.0002068505, Move.from_uci('c1b3'): 0.00020322096, Move.from_uci('d1d2'): 0.00020478861, Move.from_uci('d1d3'): 0.00020575894, Move.from_uci('d1d4'): 0.00020559637, Move.from_uci('d1d5'): 0.00020449166, Move.from_uci('d1d6'): 0.00020591704, Move.from_uci('d1d7'): 0.00020585628, Move.from_uci('d1d8'): 0.00020618479, Move.from_uci('d1e2'): 0.00020523547, Move.from_uci('d1f3'): 0.00020436857, Move.from_uci('d1g4'): 0.00020631801, Move.from_uci('d1h5'): 0.00020711377, Move.from_uci('d1e1'): 0.0002071225, Move.from_uci('d1f1'): 0.0002036028, Move.from_uci('d1g1'): 0.00020769845, Move.from_uci('d1h1'): 0.00020589434, Move.from_uci('d1c1'): 0.00020761053, Move.from_uci('d1b1'): 0.00020638354, Move.from_uci('d1a1'): 0.00020761728, Move.from_uci('d1c2'): 0.00020674834, Move.from_uci('d1b3'): 0.00020716948, Move.from_uci('d1a4'): 0.0002076813, Move.from_uci('d1e3'): 0.00020453725, Move.from_uci('d1f2'): 0.0002033992, Move.from_uci('d1b2'): 0.00020656835, Move.from_uci('d1c3'): 0.00020679642, Move.from_uci('e1e2'): 0.00020449168, Move.from_uci('e1e3'): 0.00020704806, Move.from_uci('e1e4'): 0.00020728473, Move.from_uci('e1e5'): 0.00020398025, Move.from_uci('e1e6'): 0.00020522549, Move.from_uci('e1e7'): 0.00020370944, Move.from_uci('e1e8'): 0.00020534669, Move.from_uci('e1f2'): 0.00020314517, Move.from_uci('e1g3'): 0.00020476397, Move.from_uci('e1h4'): 0.00020323176, Move.from_uci('e1f1'): 0.00020535846, Move.from_uci('e1g1'): 0.00020503427, Move.from_uci('e1h1'): 0.00020534934, Move.from_uci('e1d1'): 0.00020744851, Move.from_uci('e1c1'): 0.00020499607, Move.from_uci('e1b1'): 0.00020458495, Move.from_uci('e1a1'): 0.00020718007, Move.from_uci('e1d2'): 0.00020818984, Move.from_uci('e1c3'): 0.0002059707, Move.from_uci('e1b4'): 0.00020862863, Move.from_uci('e1a5'): 0.00020499002, Move.from_uci('e1f3'): 0.00020621651, Move.from_uci('e1g2'): 0.00020415007, Move.from_uci('e1c2'): 0.00020486714, Move.from_uci('e1d3'): 0.00020681435, Move.from_uci('f1f2'): 0.00020661553, Move.from_uci('f1f3'): 0.00020609182, Move.from_uci('f1f4'): 0.00020374182, Move.from_uci('f1f5'): 0.00020609808, Move.from_uci('f1f6'): 0.0002049732, Move.from_uci('f1f7'): 0.0002047244, Move.from_uci('f1f8'): 0.00020558231, Move.from_uci('f1g2'): 0.00020649853, Move.from_uci('f1h3'): 0.000207418, Move.from_uci('f1g1'): 0.00020708467, Move.from_uci('f1h1'): 0.00020357006, Move.from_uci('f1e1'): 0.00020488877, Move.from_uci('f1d1'): 0.00020425433, Move.from_uci('f1c1'): 0.00020760558, Move.from_uci('f1b1'): 0.00020664524, Move.from_uci('f1a1'): 0.00020612896, Move.from_uci('f1e2'): 0.00020528912, Move.from_uci('f1d3'): 0.00020522121, Move.from_uci('f1c4'): 0.00020487375, Move.from_uci('f1b5'): 0.00020807651, Move.from_uci('f1a6'): 0.0002059112, Move.from_uci('f1g3'): 0.0002063995, Move.from_uci('f1h2'): 0.00020524501, Move.from_uci('f1d2'): 0.00020441976, Move.from_uci('f1e3'): 0.00020550609, Move.from_uci('g1g2'): 0.00020701358, Move.from_uci('g1g3'): 0.00020471968, Move.from_uci('g1g4'): 0.00020404963, Move.from_uci('g1g5'): 0.00020517303, Move.from_uci('g1g6'): 0.00020572648, Move.from_uci('g1g7'): 0.00020731095, Move.from_uci('g1g8'): 0.00020621854, Move.from_uci('g1h2'): 0.00020456308, Move.from_uci('g1h1'): 0.00020569422, Move.from_uci('g1f1'): 0.00020598655, Move.from_uci('g1e1'): 0.0002049225, Move.from_uci('g1d1'): 0.00020577127, Move.from_uci('g1c1'): 0.00020521959, Move.from_uci('g1b1'): 0.00020814453, Move.from_uci('g1a1'): 0.00020813363, Move.from_uci('g1f2'): 0.00020334111, Move.from_uci('g1e3'): 0.00020683176, Move.from_uci('g1d4'): 0.00020342002, Move.from_uci('g1c5'): 0.00020282358, Move.from_uci('g1b6'): 0.00020561865, Move.from_uci('g1a7'): 0.00020300433, Move.from_uci('g1h3'): 0.00020572056, Move.from_uci('g1e2'): 0.00020638277, Move.from_uci('g1f3'): 0.00020370632, Move.from_uci('h1h2'): 0.00020686408, Move.from_uci('h1h3'): 0.00020615158, Move.from_uci('h1h4'): 0.00020533643, Move.from_uci('h1h5'): 0.0002039037, Move.from_uci('h1h6'): 0.00020419016, Move.from_uci('h1h7'): 0.00020532557, Move.from_uci('h1h8'): 0.00020499846, Move.from_uci('h1g1'): 0.00020469783, Move.from_uci('h1f1'): 0.00020424103, Move.from_uci('h1e1'): 0.00020377494, Move.from_uci('h1d1'): 0.00020425137, Move.from_uci('h1c1'): 0.00020559611, Move.from_uci('h1b1'): 0.00020592193, Move.from_uci('h1a1'): 0.00020602108, Move.from_uci('h1g2'): 0.00020321831, Move.from_uci('h1f3'): 0.0002039828, Move.from_uci('h1e4'): 0.00020535974, Move.from_uci('h1d5'): 0.00020727799, Move.from_uci('h1c6'): 0.00020600599, Move.from_uci('h1b7'): 0.00020614882, Move.from_uci('h1a8'): 0.00020590646, Move.from_uci('h1f2'): 0.00020579566, Move.from_uci('h1g3'): 0.0002043654, Move.from_uci('a2a3'): 0.0002014178, Move.from_uci('a2a4'): 0.00020545525, Move.from_uci('a2a5'): 0.00020330297, Move.from_uci('a2a6'): 0.00020620202, Move.from_uci('a2a7'): 0.00020357237, Move.from_uci('a2a8'): 0.00020783837, Move.from_uci('a2b3'): 0.00020619182, Move.from_uci('a2c4'): 0.00020487786, Move.from_uci('a2d5'): 0.00020582524, Move.from_uci('a2e6'): 0.00020518176, Move.from_uci('a2f7'): 0.00020616493, Move.from_uci('a2g8'): 0.00020470463, Move.from_uci('a2b2'): 0.00020443083, Move.from_uci('a2c2'): 0.00020363161, Move.from_uci('a2d2'): 0.00020653392, Move.from_uci('a2e2'): 0.00020699271, Move.from_uci('a2f2'): 0.00020511904, Move.from_uci('a2g2'): 0.00020571519, Move.from_uci('a2h2'): 0.0002061915, Move.from_uci('a2b1'): 0.0002027646, Move.from_uci('a2a1'): 0.0002071198, Move.from_uci('a2b4'): 0.00020559345, Move.from_uci('a2c3'): 0.00020666544, Move.from_uci('a2c1'): 0.00020917607, Move.from_uci('a2a1q'): 0.00020764618, Move.from_uci('a2b1q'): 0.00020482764, Move.from_uci('a2a1r'): 0.00020631272, Move.from_uci('a2b1r'): 0.00020691536, Move.from_uci('a2a1b'): 0.00020599076, Move.from_uci('a2b1b'): 0.00020683944, Move.from_uci('a2a1n'): 0.00020509031, Move.from_uci('a2b1n'): 0.00020746408, Move.from_uci('b2b3'): 0.00020451543, Move.from_uci('b2b4'): 0.00020633462, Move.from_uci('b2b5'): 0.00020575018, Move.from_uci('b2b6'): 0.00020548562, Move.from_uci('b2b7'): 0.00020402526, Move.from_uci('b2b8'): 0.00020411189, Move.from_uci('b2c3'): 0.00020554394, Move.from_uci('b2d4'): 0.00020834386, Move.from_uci('b2e5'): 0.00020618836, Move.from_uci('b2f6'): 0.00020499353, Move.from_uci('b2g7'): 0.00020524704, Move.from_uci('b2h8'): 0.00020940362, Move.from_uci('b2c2'): 0.00020640808, Move.from_uci('b2d2'): 0.00020609079, Move.from_uci('b2e2'): 0.00020531556, Move.from_uci('b2f2'): 0.00020562278, Move.from_uci('b2g2'): 0.00020391501, Move.from_uci('b2h2'): 0.00020457862, Move.from_uci('b2c1'): 0.00020636633, Move.from_uci('b2b1'): 0.00020508208, Move.from_uci('b2a1'): 0.00020470783, Move.from_uci('b2a2'): 0.00020653736, Move.from_uci('b2a3'): 0.00020497976, Move.from_uci('b2c4'): 0.00020447769, Move.from_uci('b2d3'): 0.0002048302, Move.from_uci('b2d1'): 0.0002057229, Move.from_uci('b2a4'): 0.00020568803, Move.from_uci('b2a1q'): 0.00020607229, Move.from_uci('b2b1q'): 0.00020763758, Move.from_uci('b2c1q'): 0.00020716315, Move.from_uci('b2a1r'): 0.0002057154, Move.from_uci('b2b1r'): 0.00020580858, Move.from_uci('b2c1r'): 0.00020652673, Move.from_uci('b2a1b'): 0.00020578857, Move.from_uci('b2b1b'): 0.0002050907, Move.from_uci('b2c1b'): 0.00020682992, Move.from_uci('b2a1n'): 0.00020719912, Move.from_uci('b2b1n'): 0.00020650926, Move.from_uci('b2c1n'): 0.00020517879, Move.from_uci('c2c3'): 0.0002061019, Move.from_uci('c2c4'): 0.00020546267, Move.from_uci('c2c5'): 0.0002074605, Move.from_uci('c2c6'): 0.00020445789, Move.from_uci('c2c7'): 0.00020590793, Move.from_uci('c2c8'): 0.00020558864, Move.from_uci('c2d3'): 0.00020726041, Move.from_uci('c2e4'): 0.00020668199, Move.from_uci('c2f5'): 0.00020636617, Move.from_uci('c2g6'): 0.00020498731, Move.from_uci('c2h7'): 0.00020446413, Move.from_uci('c2d2'): 0.00020525834, Move.from_uci('c2e2'): 0.00020697073, Move.from_uci('c2f2'): 0.00020570026, Move.from_uci('c2g2'): 0.00020589207, Move.from_uci('c2h2'): 0.0002032195, Move.from_uci('c2d1'): 0.00020480789, Move.from_uci('c2c1'): 0.000207826, Move.from_uci('c2b1'): 0.00020518142, Move.from_uci('c2b2'): 0.0002053071, Move.from_uci('c2a2'): 0.0002056287, Move.from_uci('c2b3'): 0.00020700743, Move.from_uci('c2a4'): 0.00020506587, Move.from_uci('c2d4'): 0.00020413726, Move.from_uci('c2e3'): 0.00020542643, Move.from_uci('c2e1'): 0.00020504982, Move.from_uci('c2a1'): 0.00020463245, Move.from_uci('c2a3'): 0.00020603478, Move.from_uci('c2b4'): 0.00020528957, Move.from_uci('c2b1q'): 0.00020773415, Move.from_uci('c2c1q'): 0.00020476365, Move.from_uci('c2d1q'): 0.00020624783, Move.from_uci('c2b1r'): 0.00020620339, Move.from_uci('c2c1r'): 0.00020577284, Move.from_uci('c2d1r'): 0.00020434336, Move.from_uci('c2b1b'): 0.0002059047, Move.from_uci('c2c1b'): 0.00020465648, Move.from_uci('c2d1b'): 0.00020559852, Move.from_uci('c2b1n'): 0.00020764284, Move.from_uci('c2c1n'): 0.00020381392, Move.from_uci('c2d1n'): 0.00020760427, Move.from_uci('d2d3'): 0.00020575825, Move.from_uci('d2d4'): 0.0002020625, Move.from_uci('d2d5'): 0.00020570634, Move.from_uci('d2d6'): 0.00020455735, Move.from_uci('d2d7'): 0.00020550325, Move.from_uci('d2d8'): 0.00020452187, Move.from_uci('d2e3'): 0.00020481137, Move.from_uci('d2f4'): 0.0002040471, Move.from_uci('d2g5'): 0.00020718802, Move.from_uci('d2h6'): 0.00020426603, Move.from_uci('d2e2'): 0.000203897, Move.from_uci('d2f2'): 0.00020467327, Move.from_uci('d2g2'): 0.00020712584, Move.from_uci('d2h2'): 0.00020380033, Move.from_uci('d2e1'): 0.0002054284, Move.from_uci('d2d1'): 0.00020287275, Move.from_uci('d2c1'): 0.00020617207, Move.from_uci('d2c2'): 0.00020541112, Move.from_uci('d2b2'): 0.00020424378, Move.from_uci('d2a2'): 0.00020481947, Move.from_uci('d2c3'): 0.0002079735, Move.from_uci('d2b4'): 0.00020564698, Move.from_uci('d2a5'): 0.00020568806, Move.from_uci('d2e4'): 0.00020447903, Move.from_uci('d2f3'): 0.00020649884, Move.from_uci('d2f1'): 0.0002023892, Move.from_uci('d2b1'): 0.00020693302, Move.from_uci('d2b3'): 0.00020537687, Move.from_uci('d2c4'): 0.00020574733, Move.from_uci('d2c1q'): 0.00020475709, Move.from_uci('d2d1q'): 0.00020457846, Move.from_uci('d2e1q'): 0.00020325236, Move.from_uci('d2c1r'): 0.00020714474, Move.from_uci('d2d1r'): 0.00020477347, Move.from_uci('d2e1r'): 0.00020544491, Move.from_uci('d2c1b'): 0.00020934966, Move.from_uci('d2d1b'): 0.00020287966, Move.from_uci('d2e1b'): 0.00020655557, Move.from_uci('d2c1n'): 0.00020407252, Move.from_uci('d2d1n'): 0.0002037659, Move.from_uci('d2e1n'): 0.00020593347, Move.from_uci('e2e3'): 0.00020415301, Move.from_uci('e2e4'): 0.00020287174, Move.from_uci('e2e5'): 0.00020599192, Move.from_uci('e2e6'): 0.00020507372, Move.from_uci('e2e7'): 0.00020565318, Move.from_uci('e2e8'): 0.00020485815, Move.from_uci('e2f3'): 0.00020291889, Move.from_uci('e2g4'): 0.00020647397, Move.from_uci('e2h5'): 0.00020670936, Move.from_uci('e2f2'): 0.0002064994, Move.from_uci('e2g2'): 0.00020646455, Move.from_uci('e2h2'): 0.00020671912, Move.from_uci('e2f1'): 0.00020738834, Move.from_uci('e2e1'): 0.00020449873, Move.from_uci('e2d1'): 0.00020617135, Move.from_uci('e2d2'): 0.00020875901, Move.from_uci('e2c2'): 0.00020715, Move.from_uci('e2b2'): 0.00020464689, Move.from_uci('e2a2'): 0.00020502548, Move.from_uci('e2d3'): 0.00020698449, Move.from_uci('e2c4'): 0.00020302206, Move.from_uci('e2b5'): 0.00020690139, Move.from_uci('e2a6'): 0.00020352224, Move.from_uci('e2f4'): 0.00020566382, Move.from_uci('e2g3'): 0.00020298448, Move.from_uci('e2g1'): 0.00020719533, Move.from_uci('e2c1'): 0.00020659828, Move.from_uci('e2c3'): 0.00020621666, Move.from_uci('e2d4'): 0.00020582533, Move.from_uci('e2d1q'): 0.00020583323, Move.from_uci('e2e1q'): 0.00020637618, Move.from_uci('e2f1q'): 0.00020361003, Move.from_uci('e2d1r'): 0.00020646412, Move.from_uci('e2e1r'): 0.00020559788, Move.from_uci('e2f1r'): 0.00020849543, Move.from_uci('e2d1b'): 0.00020528612, Move.from_uci('e2e1b'): 0.00020239921, Move.from_uci('e2f1b'): 0.00020603636, Move.from_uci('e2d1n'): 0.0002033756, Move.from_uci('e2e1n'): 0.00020650576, Move.from_uci('e2f1n'): 0.00020750056, Move.from_uci('f2f3'): 0.00020359221, Move.from_uci('f2f4'): 0.00020567507, Move.from_uci('f2f5'): 0.0002057371, Move.from_uci('f2f6'): 0.0002074169, Move.from_uci('f2f7'): 0.00020882953, Move.from_uci('f2f8'): 0.00020713868, Move.from_uci('f2g3'): 0.00020713954, Move.from_uci('f2h4'): 0.00020679426, Move.from_uci('f2g2'): 0.00020592063, Move.from_uci('f2h2'): 0.00020497883, Move.from_uci('f2g1'): 0.00020357347, Move.from_uci('f2f1'): 0.00020487049, Move.from_uci('f2e1'): 0.00020568196, Move.from_uci('f2e2'): 0.00020501467, Move.from_uci('f2d2'): 0.00020552066, Move.from_uci('f2c2'): 0.00020533324, Move.from_uci('f2b2'): 0.00020421925, Move.from_uci('f2a2'): 0.00020574732, Move.from_uci('f2e3'): 0.00020580375, Move.from_uci('f2d4'): 0.0002041421, Move.from_uci('f2c5'): 0.00020429095, Move.from_uci('f2b6'): 0.0002065486, Move.from_uci('f2a7'): 0.00020718643, Move.from_uci('f2g4'): 0.00020680756, Move.from_uci('f2h3'): 0.00020398971, Move.from_uci('f2h1'): 0.00020740178, Move.from_uci('f2d1'): 0.00020663184, Move.from_uci('f2d3'): 0.00020474129, Move.from_uci('f2e4'): 0.00020714743, Move.from_uci('f2e1q'): 0.0002053682, Move.from_uci('f2f1q'): 0.00020442286, Move.from_uci('f2g1q'): 0.00020371962, Move.from_uci('f2e1r'): 0.00020685776, Move.from_uci('f2f1r'): 0.00020670678, Move.from_uci('f2g1r'): 0.00020356663, Move.from_uci('f2e1b'): 0.00020217906, Move.from_uci('f2f1b'): 0.00020460301, Move.from_uci('f2g1b'): 0.00020593293, Move.from_uci('f2e1n'): 0.00020750749, Move.from_uci('f2f1n'): 0.0002043552, Move.from_uci('f2g1n'): 0.00020477407, Move.from_uci('g2g3'): 0.00020636305, Move.from_uci('g2g4'): 0.00020963067, Move.from_uci('g2g5'): 0.0002075124, Move.from_uci('g2g6'): 0.0002043466, Move.from_uci('g2g7'): 0.00020517391, Move.from_uci('g2g8'): 0.00020643073, Move.from_uci('g2h3'): 0.00020419025, Move.from_uci('g2h2'): 0.0002051405, Move.from_uci('g2h1'): 0.00020626804, Move.from_uci('g2g1'): 0.00020525226, Move.from_uci('g2f1'): 0.00020509523, Move.from_uci('g2f2'): 0.0002066649, Move.from_uci('g2e2'): 0.00020600928, Move.from_uci('g2d2'): 0.00020655744, Move.from_uci('g2c2'): 0.00020489216, Move.from_uci('g2b2'): 0.0002045253, Move.from_uci('g2a2'): 0.00020666163, Move.from_uci('g2f3'): 0.00020457813, Move.from_uci('g2e4'): 0.0002034621, Move.from_uci('g2d5'): 0.00020558872, Move.from_uci('g2c6'): 0.00020584585, Move.from_uci('g2b7'): 0.00020649313, Move.from_uci('g2a8'): 0.00020597225, Move.from_uci('g2h4'): 0.00020628885, Move.from_uci('g2e1'): 0.000205902, Move.from_uci('g2e3'): 0.00020447814, Move.from_uci('g2f4'): 0.00020357489, Move.from_uci('g2f1q'): 0.0002062545, Move.from_uci('g2g1q'): 0.00020684618, Move.from_uci('g2h1q'): 0.00020606026, Move.from_uci('g2f1r'): 0.00020347946, Move.from_uci('g2g1r'): 0.00020411142, Move.from_uci('g2h1r'): 0.00020722796, Move.from_uci('g2f1b'): 0.00020228288, Move.from_uci('g2g1b'): 0.00020902698, Move.from_uci('g2h1b'): 0.00020504482, Move.from_uci('g2f1n'): 0.00020556957, Move.from_uci('g2g1n'): 0.00020705456, Move.from_uci('g2h1n'): 0.0002070325, Move.from_uci('h2h3'): 0.00020435732, Move.from_uci('h2h4'): 0.00020508331, Move.from_uci('h2h5'): 0.00020661662, Move.from_uci('h2h6'): 0.00020761172, Move.from_uci('h2h7'): 0.00020467424, Move.from_uci('h2h8'): 0.000206726, Move.from_uci('h2h1'): 0.00020542604, Move.from_uci('h2g1'): 0.00020846262, Move.from_uci('h2g2'): 0.00020515687, Move.from_uci('h2f2'): 0.00020667164, Move.from_uci('h2e2'): 0.00020685236, Move.from_uci('h2d2'): 0.00020522342, Move.from_uci('h2c2'): 0.00020690706, Move.from_uci('h2b2'): 0.00020487388, Move.from_uci('h2a2'): 0.00020710286, Move.from_uci('h2g3'): 0.00020680072, Move.from_uci('h2f4'): 0.00020361334, Move.from_uci('h2e5'): 0.00020511859, Move.from_uci('h2d6'): 0.00020562882, Move.from_uci('h2c7'): 0.00020509209, Move.from_uci('h2b8'): 0.0002059594, Move.from_uci('h2f1'): 0.00020424087, Move.from_uci('h2f3'): 0.00020531098, Move.from_uci('h2g4'): 0.00020491681, Move.from_uci('h2g1q'): 0.00020802986, Move.from_uci('h2h1q'): 0.00020625381, Move.from_uci('h2g1r'): 0.00020564947, Move.from_uci('h2h1r'): 0.00020464681, Move.from_uci('h2g1b'): 0.00020634248, Move.from_uci('h2h1b'): 0.00020636685, Move.from_uci('h2g1n'): 0.00020551811, Move.from_uci('h2h1n'): 0.00020432367, Move.from_uci('a3a4'): 0.0002079684, Move.from_uci('a3a5'): 0.00020638337, Move.from_uci('a3a6'): 0.00020624953, Move.from_uci('a3a7'): 0.0002064407, Move.from_uci('a3a8'): 0.00020682627, Move.from_uci('a3b4'): 0.000204905, Move.from_uci('a3c5'): 0.00020356434, Move.from_uci('a3d6'): 0.00020800959, Move.from_uci('a3e7'): 0.00020396968, Move.from_uci('a3f8'): 0.00020307687, Move.from_uci('a3b3'): 0.00020699625, Move.from_uci('a3c3'): 0.00020440703, Move.from_uci('a3d3'): 0.00020753517, Move.from_uci('a3e3'): 0.00020727872, Move.from_uci('a3f3'): 0.00020493625, Move.from_uci('a3g3'): 0.00020631598, Move.from_uci('a3h3'): 0.00020707663, Move.from_uci('a3b2'): 0.00020684679, Move.from_uci('a3c1'): 0.00020360596, Move.from_uci('a3a2'): 0.0002077397, Move.from_uci('a3a1'): 0.00020439154, Move.from_uci('a3b5'): 0.0002029184, Move.from_uci('a3c4'): 0.00020294354, Move.from_uci('a3c2'): 0.00020494618, Move.from_uci('a3b1'): 0.0002076806, Move.from_uci('b3b4'): 0.000204476, Move.from_uci('b3b5'): 0.00020499555, Move.from_uci('b3b6'): 0.00020721556, Move.from_uci('b3b7'): 0.00020582501, Move.from_uci('b3b8'): 0.00020748687, Move.from_uci('b3c4'): 0.00020675373, Move.from_uci('b3d5'): 0.00020652598, Move.from_uci('b3e6'): 0.0002040967, Move.from_uci('b3f7'): 0.00020711645, Move.from_uci('b3g8'): 0.00020944489, Move.from_uci('b3c3'): 0.0002059305, Move.from_uci('b3d3'): 0.00020819818, Move.from_uci('b3e3'): 0.00020453363, Move.from_uci('b3f3'): 0.00020779032, Move.from_uci('b3g3'): 0.00020584327, Move.from_uci('b3h3'): 0.00020815716, Move.from_uci('b3c2'): 0.0002049044, Move.from_uci('b3d1'): 0.0002031876, Move.from_uci('b3b2'): 0.00020611561, Move.from_uci('b3b1'): 0.00020639118, Move.from_uci('b3a2'): 0.00020391424, Move.from_uci('b3a3'): 0.00020336105, Move.from_uci('b3a4'): 0.00020137591, Move.from_uci('b3c5'): 0.00020651413, Move.from_uci('b3d4'): 0.00020398397, Move.from_uci('b3d2'): 0.00020419642, Move.from_uci('b3c1'): 0.00020658222, Move.from_uci('b3a1'): 0.0002040265, Move.from_uci('b3a5'): 0.00020502703, Move.from_uci('c3c4'): 0.00020763474, Move.from_uci('c3c5'): 0.00020692546, Move.from_uci('c3c6'): 0.00020499769, Move.from_uci('c3c7'): 0.00020405967, Move.from_uci('c3c8'): 0.00020436829, Move.from_uci('c3d4'): 0.00020901885, Move.from_uci('c3e5'): 0.00020415026, Move.from_uci('c3f6'): 0.00020278353, Move.from_uci('c3g7'): 0.00020593476, Move.from_uci('c3h8'): 0.00020566289, Move.from_uci('c3d3'): 0.00020382077, Move.from_uci('c3e3'): 0.00020547418, Move.from_uci('c3f3'): 0.00020742213, Move.from_uci('c3g3'): 0.00020623281, Move.from_uci('c3h3'): 0.00020526157, Move.from_uci('c3d2'): 0.00020568946, Move.from_uci('c3e1'): 0.00020355095, Move.from_uci('c3c2'): 0.00020459622, Move.from_uci('c3c1'): 0.00020480907, Move.from_uci('c3b2'): 0.00020777325, Move.from_uci('c3a1'): 0.00020240483, Move.from_uci('c3b3'): 0.00020590532, Move.from_uci('c3a3'): 0.0002064721, Move.from_uci('c3b4'): 0.00020660297, Move.from_uci('c3a5'): 0.00020449939, Move.from_uci('c3d5'): 0.00020711284, Move.from_uci('c3e4'): 0.0002060973, Move.from_uci('c3e2'): 0.0002051949, Move.from_uci('c3d1'): 0.00020668405, Move.from_uci('c3b1'): 0.00020597498, Move.from_uci('c3a2'): 0.0002035525, Move.from_uci('c3a4'): 0.00020599461, Move.from_uci('c3b5'): 0.00020685453, Move.from_uci('d3d4'): 0.00020555795, Move.from_uci('d3d5'): 0.00020570682, Move.from_uci('d3d6'): 0.00020560481, Move.from_uci('d3d7'): 0.00020578442, Move.from_uci('d3d8'): 0.00020384934, Move.from_uci('d3e4'): 0.00020565712, Move.from_uci('d3f5'): 0.0002054539, Move.from_uci('d3g6'): 0.0002061845, Move.from_uci('d3h7'): 0.0002053128, Move.from_uci('d3e3'): 0.00020615396, Move.from_uci('d3f3'): 0.00020578412, Move.from_uci('d3g3'): 0.00020520951, Move.from_uci('d3h3'): 0.00020455617, Move.from_uci('d3e2'): 0.00020768616, Move.from_uci('d3f1'): 0.00020487171, Move.from_uci('d3d2'): 0.0002052574, Move.from_uci('d3d1'): 0.00020406587, Move.from_uci('d3c2'): 0.00020617018, Move.from_uci('d3b1'): 0.00020773447, Move.from_uci('d3c3'): 0.00020506668, Move.from_uci('d3b3'): 0.0002069125, Move.from_uci('d3a3'): 0.00020483891, Move.from_uci('d3c4'): 0.00020545284, Move.from_uci('d3b5'): 0.00020483443, Move.from_uci('d3a6'): 0.0002056491, Move.from_uci('d3e5'): 0.00020708985, Move.from_uci('d3f4'): 0.00020516521, Move.from_uci('d3f2'): 0.00020579038, Move.from_uci('d3e1'): 0.00020504677, Move.from_uci('d3c1'): 0.00020516488, Move.from_uci('d3b2'): 0.00020579062, Move.from_uci('d3b4'): 0.00020643152, Move.from_uci('d3c5'): 0.00020792049, Move.from_uci('e3e4'): 0.000206561, Move.from_uci('e3e5'): 0.00020485216, Move.from_uci('e3e6'): 0.00020570969, Move.from_uci('e3e7'): 0.00020410873, Move.from_uci('e3e8'): 0.0002055628, Move.from_uci('e3f4'): 0.00020562772, Move.from_uci('e3g5'): 0.00020424335, Move.from_uci('e3h6'): 0.0002071017, Move.from_uci('e3f3'): 0.00020415711, Move.from_uci('e3g3'): 0.00020899886, Move.from_uci('e3h3'): 0.0002039158, Move.from_uci('e3f2'): 0.00020426037, Move.from_uci('e3g1'): 0.00020221483, Move.from_uci('e3e2'): 0.00020500169, Move.from_uci('e3e1'): 0.00020445281, Move.from_uci('e3d2'): 0.00020474453, Move.from_uci('e3c1'): 0.00020554355, Move.from_uci('e3d3'): 0.00020516977, Move.from_uci('e3c3'): 0.00020454201, Move.from_uci('e3b3'): 0.00020514448, Move.from_uci('e3a3'): 0.00020446099, Move.from_uci('e3d4'): 0.00020517595, Move.from_uci('e3c5'): 0.00020723516, Move.from_uci('e3b6'): 0.00020407971, Move.from_uci('e3a7'): 0.00020850195, Move.from_uci('e3f5'): 0.00020651883, Move.from_uci('e3g4'): 0.00020447308, Move.from_uci('e3g2'): 0.00020512077, Move.from_uci('e3f1'): 0.00020431777, Move.from_uci('e3d1'): 0.00020542965, Move.from_uci('e3c2'): 0.0002061653, Move.from_uci('e3c4'): 0.0002057201, Move.from_uci('e3d5'): 0.00020489501, Move.from_uci('f3f4'): 0.00020551666, Move.from_uci('f3f5'): 0.00020555315, Move.from_uci('f3f6'): 0.00020685884, Move.from_uci('f3f7'): 0.00020647769, Move.from_uci('f3f8'): 0.00020486706, Move.from_uci('f3g4'): 0.0002069169, Move.from_uci('f3h5'): 0.00020255349, Move.from_uci('f3g3'): 0.00020573541, Move.from_uci('f3h3'): 0.00020769189, Move.from_uci('f3g2'): 0.0002067945, Move.from_uci('f3h1'): 0.00020549921, Move.from_uci('f3f2'): 0.00020451278, Move.from_uci('f3f1'): 0.00020604838, Move.from_uci('f3e2'): 0.00020381708, Move.from_uci('f3d1'): 0.00020523118, Move.from_uci('f3e3'): 0.0002051531, Move.from_uci('f3d3'): 0.00020497266, Move.from_uci('f3c3'): 0.00020586055, Move.from_uci('f3b3'): 0.00020567454, Move.from_uci('f3a3'): 0.00020411907, Move.from_uci('f3e4'): 0.00020634518, Move.from_uci('f3d5'): 0.00020300626, Move.from_uci('f3c6'): 0.00020499433, Move.from_uci('f3b7'): 0.00020703788, Move.from_uci('f3a8'): 0.00020662376, Move.from_uci('f3g5'): 0.00020429795, Move.from_uci('f3h4'): 0.00020716609, Move.from_uci('f3h2'): 0.00020342201, Move.from_uci('f3g1'): 0.00020508895, Move.from_uci('f3e1'): 0.00020577462, Move.from_uci('f3d2'): 0.00020574426, Move.from_uci('f3d4'): 0.0002066833, Move.from_uci('f3e5'): 0.00020577785, Move.from_uci('g3g4'): 0.00020523812, Move.from_uci('g3g5'): 0.00020654069, Move.from_uci('g3g6'): 0.00020324161, Move.from_uci('g3g7'): 0.00020411069, Move.from_uci('g3g8'): 0.00020444738, Move.from_uci('g3h4'): 0.00020723166, Move.from_uci('g3h3'): 0.00020968626, Move.from_uci('g3h2'): 0.00020694284, Move.from_uci('g3g2'): 0.00020779643, Move.from_uci('g3g1'): 0.00020679919, Move.from_uci('g3f2'): 0.00020608246, Move.from_uci('g3e1'): 0.00020617043, Move.from_uci('g3f3'): 0.00020403364, Move.from_uci('g3e3'): 0.00020697941, Move.from_uci('g3d3'): 0.00020543268, Move.from_uci('g3c3'): 0.00020372504, Move.from_uci('g3b3'): 0.00020461761, Move.from_uci('g3a3'): 0.00020551388, Move.from_uci('g3f4'): 0.00020668266, Move.from_uci('g3e5'): 0.00020451703, Move.from_uci('g3d6'): 0.00020565283, Move.from_uci('g3c7'): 0.00020391069, Move.from_uci('g3b8'): 0.00020607896, Move.from_uci('g3h5'): 0.00020691013, Move.from_uci('g3h1'): 0.00020282653, Move.from_uci('g3f1'): 0.00020384074, Move.from_uci('g3e2'): 0.00020649299, Move.from_uci('g3e4'): 0.0002056308, Move.from_uci('g3f5'): 0.00020603956, Move.from_uci('h3h4'): 0.00020594262, Move.from_uci('h3h5'): 0.00020237415, Move.from_uci('h3h6'): 0.0002032239, Move.from_uci('h3h7'): 0.0002047161, Move.from_uci('h3h8'): 0.0002042303, Move.from_uci('h3h2'): 0.00020458833, Move.from_uci('h3h1'): 0.00020347476, Move.from_uci('h3g2'): 0.00020550372, Move.from_uci('h3f1'): 0.00020832557, Move.from_uci('h3g3'): 0.00020834539, Move.from_uci('h3f3'): 0.00020895158, Move.from_uci('h3e3'): 0.00020631765, Move.from_uci('h3d3'): 0.00020577246, Move.from_uci('h3c3'): 0.00020660026, Move.from_uci('h3b3'): 0.00020599477, Move.from_uci('h3a3'): 0.00020664297, Move.from_uci('h3g4'): 0.00020737518, Move.from_uci('h3f5'): 0.00020540351, Move.from_uci('h3e6'): 0.00020596804, Move.from_uci('h3d7'): 0.00020474287, Move.from_uci('h3c8'): 0.00020747895, Move.from_uci('h3g1'): 0.00020590826, Move.from_uci('h3f2'): 0.00020566219, Move.from_uci('h3f4'): 0.00020625067, Move.from_uci('h3g5'): 0.00020552888, Move.from_uci('a4a5'): 0.00020623388, Move.from_uci('a4a6'): 0.00020280773, Move.from_uci('a4a7'): 0.00020850284, Move.from_uci('a4a8'): 0.00020572437, Move.from_uci('a4b5'): 0.00020537672, Move.from_uci('a4c6'): 0.00020489344, Move.from_uci('a4d7'): 0.00020542469, Move.from_uci('a4e8'): 0.00020777503, Move.from_uci('a4b4'): 0.00020689235, Move.from_uci('a4c4'): 0.00020689565, Move.from_uci('a4d4'): 0.00020402893, Move.from_uci('a4e4'): 0.00020527178, Move.from_uci('a4f4'): 0.0002030804, Move.from_uci('a4g4'): 0.0002059949, Move.from_uci('a4h4'): 0.00020740757, Move.from_uci('a4b3'): 0.0002050199, Move.from_uci('a4c2'): 0.00020171147, Move.from_uci('a4d1'): 0.00020626356, Move.from_uci('a4a3'): 0.00020620154, Move.from_uci('a4a2'): 0.0002043394, Move.from_uci('a4a1'): 0.0002051742, Move.from_uci('a4b6'): 0.00020423882, Move.from_uci('a4c5'): 0.00020644798, Move.from_uci('a4c3'): 0.0002068559, Move.from_uci('a4b2'): 0.00020369582, Move.from_uci('b4b5'): 0.00020606544, Move.from_uci('b4b6'): 0.00020549505, Move.from_uci('b4b7'): 0.00020518304, Move.from_uci('b4b8'): 0.00020515829, Move.from_uci('b4c5'): 0.00020569541, Move.from_uci('b4d6'): 0.00020348332, Move.from_uci('b4e7'): 0.00020613664, Move.from_uci('b4f8'): 0.00020452352, Move.from_uci('b4c4'): 0.00020464785, Move.from_uci('b4d4'): 0.00020526149, Move.from_uci('b4e4'): 0.00020662899, Move.from_uci('b4f4'): 0.0002034355, Move.from_uci('b4g4'): 0.0002045949, Move.from_uci('b4h4'): 0.00020417187, Move.from_uci('b4c3'): 0.0002081111, Move.from_uci('b4d2'): 0.00020543976, Move.from_uci('b4e1'): 0.00020513087, Move.from_uci('b4b3'): 0.0002059329, Move.from_uci('b4b2'): 0.00020485496, Move.from_uci('b4b1'): 0.00020519455, Move.from_uci('b4a3'): 0.00020614186, Move.from_uci('b4a4'): 0.00020348708, Move.from_uci('b4a5'): 0.00020515948, Move.from_uci('b4c6'): 0.00020558844, Move.from_uci('b4d5'): 0.00020435776, Move.from_uci('b4d3'): 0.00020630308, Move.from_uci('b4c2'): 0.00020666525, Move.from_uci('b4a2'): 0.00020591347, Move.from_uci('b4a6'): 0.00020388895, Move.from_uci('c4c5'): 0.00020742061, Move.from_uci('c4c6'): 0.00020720591, Move.from_uci('c4c7'): 0.00020695558, Move.from_uci('c4c8'): 0.00020399554, Move.from_uci('c4d5'): 0.00020567195, Move.from_uci('c4e6'): 0.00020708393, Move.from_uci('c4f7'): 0.00020366423, Move.from_uci('c4g8'): 0.0002053428, Move.from_uci('c4d4'): 0.00020589991, Move.from_uci('c4e4'): 0.00020601795, Move.from_uci('c4f4'): 0.00020780716, Move.from_uci('c4g4'): 0.00020512225, Move.from_uci('c4h4'): 0.00020670064, Move.from_uci('c4d3'): 0.00020542809, Move.from_uci('c4e2'): 0.00020492105, Move.from_uci('c4f1'): 0.00020499753, Move.from_uci('c4c3'): 0.0002063277, Move.from_uci('c4c2'): 0.00020460115, Move.from_uci('c4c1'): 0.00020375395, Move.from_uci('c4b3'): 0.00020465413, Move.from_uci('c4a2'): 0.00020604966, Move.from_uci('c4b4'): 0.00020539139, Move.from_uci('c4a4'): 0.00020818718, Move.from_uci('c4b5'): 0.00020421675, Move.from_uci('c4a6'): 0.00020476365, Move.from_uci('c4d6'): 0.00020816483, Move.from_uci('c4e5'): 0.00020338534, Move.from_uci('c4e3'): 0.00020593223, Move.from_uci('c4d2'): 0.00020297791, Move.from_uci('c4b2'): 0.00020663816, Move.from_uci('c4a3'): 0.00020383032, Move.from_uci('c4a5'): 0.00020616183, Move.from_uci('c4b6'): 0.00020491263, Move.from_uci('d4d5'): 0.00020376284, Move.from_uci('d4d6'): 0.00020735782, Move.from_uci('d4d7'): 0.00020382318, Move.from_uci('d4d8'): 0.00020394893, Move.from_uci('d4e5'): 0.00020691018, Move.from_uci('d4f6'): 0.00020609751, Move.from_uci('d4g7'): 0.00020340084, Move.from_uci('d4h8'): 0.00020458968, Move.from_uci('d4e4'): 0.00020447334, Move.from_uci('d4f4'): 0.00020455408, Move.from_uci('d4g4'): 0.00020730594, Move.from_uci('d4h4'): 0.00020541454, Move.from_uci('d4e3'): 0.000206645, Move.from_uci('d4f2'): 0.00020616432, Move.from_uci('d4g1'): 0.00020724566, Move.from_uci('d4d3'): 0.00020476214, Move.from_uci('d4d2'): 0.00020619966, Move.from_uci('d4d1'): 0.00020566113, Move.from_uci('d4c3'): 0.00020529462, Move.from_uci('d4b2'): 0.00020641291, Move.from_uci('d4a1'): 0.00020756492, Move.from_uci('d4c4'): 0.00020609837, Move.from_uci('d4b4'): 0.00020492963, Move.from_uci('d4a4'): 0.00020670515, Move.from_uci('d4c5'): 0.00020636788, Move.from_uci('d4b6'): 0.0002055651, Move.from_uci('d4a7'): 0.0002040943, Move.from_uci('d4e6'): 0.00020513388, Move.from_uci('d4f5'): 0.00020617036, Move.from_uci('d4f3'): 0.00020571244, Move.from_uci('d4e2'): 0.00020418515, Move.from_uci('d4c2'): 0.0002101759, Move.from_uci('d4b3'): 0.0002039448, Move.from_uci('d4b5'): 0.00020415986, Move.from_uci('d4c6'): 0.00020441468, Move.from_uci('e4e5'): 0.00020656163, Move.from_uci('e4e6'): 0.0002043275, Move.from_uci('e4e7'): 0.00020426235, Move.from_uci('e4e8'): 0.00020599693, Move.from_uci('e4f5'): 0.00020436595, Move.from_uci('e4g6'): 0.00020564737, Move.from_uci('e4h7'): 0.00020557179, Move.from_uci('e4f4'): 0.00020660965, Move.from_uci('e4g4'): 0.00020592181, Move.from_uci('e4h4'): 0.00020540305, Move.from_uci('e4f3'): 0.00020643487, Move.from_uci('e4g2'): 0.00020577601, Move.from_uci('e4h1'): 0.00020466784, Move.from_uci('e4e3'): 0.00020648824, Move.from_uci('e4e2'): 0.00020534958, Move.from_uci('e4e1'): 0.00020494552, Move.from_uci('e4d3'): 0.0002052712, Move.from_uci('e4c2'): 0.00020745637, Move.from_uci('e4b1'): 0.00020535175, Move.from_uci('e4d4'): 0.00020215115, Move.from_uci('e4c4'): 0.00020475488, Move.from_uci('e4b4'): 0.000205248, Move.from_uci('e4a4'): 0.00020388562, Move.from_uci('e4d5'): 0.00020355941, Move.from_uci('e4c6'): 0.0002037895, Move.from_uci('e4b7'): 0.00020876301, Move.from_uci('e4a8'): 0.00020766103, Move.from_uci('e4f6'): 0.00020519504, Move.from_uci('e4g5'): 0.00020646345, Move.from_uci('e4g3'): 0.00020383456, Move.from_uci('e4f2'): 0.00020764788, Move.from_uci('e4d2'): 0.00020616592, Move.from_uci('e4c3'): 0.00020531348, Move.from_uci('e4c5'): 0.00020538266, Move.from_uci('e4d6'): 0.00020296265, Move.from_uci('f4f5'): 0.00020333788, Move.from_uci('f4f6'): 0.00020462625, Move.from_uci('f4f7'): 0.00020571517, Move.from_uci('f4f8'): 0.0002036281, Move.from_uci('f4g5'): 0.00020716565, Move.from_uci('f4h6'): 0.00020826713, Move.from_uci('f4g4'): 0.00020680152, Move.from_uci('f4h4'): 0.0002052968, Move.from_uci('f4g3'): 0.00020499213, Move.from_uci('f4h2'): 0.000204879, Move.from_uci('f4f3'): 0.00020442772, Move.from_uci('f4f2'): 0.00020482714, Move.from_uci('f4f1'): 0.0002059476, Move.from_uci('f4e3'): 0.00020465966, Move.from_uci('f4d2'): 0.00020393515, Move.from_uci('f4c1'): 0.00020645688, Move.from_uci('f4e4'): 0.00020603651, Move.from_uci('f4d4'): 0.00020664053, Move.from_uci('f4c4'): 0.00020717285, Move.from_uci('f4b4'): 0.00020463977, Move.from_uci('f4a4'): 0.00020578004, Move.from_uci('f4e5'): 0.00020504581, Move.from_uci('f4d6'): 0.00020635819, Move.from_uci('f4c7'): 0.00020492775, Move.from_uci('f4b8'): 0.00020695811, Move.from_uci('f4g6'): 0.0002049524, Move.from_uci('f4h5'): 0.00020529075, Move.from_uci('f4h3'): 0.00020421717, Move.from_uci('f4g2'): 0.00020440399, Move.from_uci('f4e2'): 0.00020254901, Move.from_uci('f4d3'): 0.00020647803, Move.from_uci('f4d5'): 0.00020581335, Move.from_uci('f4e6'): 0.00020548004, Move.from_uci('g4g5'): 0.00020377804, Move.from_uci('g4g6'): 0.00020490382, Move.from_uci('g4g7'): 0.00020403453, Move.from_uci('g4g8'): 0.00020611065, Move.from_uci('g4h5'): 0.00020528871, Move.from_uci('g4h4'): 0.000204959, Move.from_uci('g4h3'): 0.00020401797, Move.from_uci('g4g3'): 0.00020492917, Move.from_uci('g4g2'): 0.00020493534, Move.from_uci('g4g1'): 0.00020551246, Move.from_uci('g4f3'): 0.00020612233, Move.from_uci('g4e2'): 0.00020585125, Move.from_uci('g4d1'): 0.00020588683, Move.from_uci('g4f4'): 0.0002023821, Move.from_uci('g4e4'): 0.00020686655, Move.from_uci('g4d4'): 0.00020547152, Move.from_uci('g4c4'): 0.000204237, Move.from_uci('g4b4'): 0.00020326166, Move.from_uci('g4a4'): 0.00020674303, Move.from_uci('g4f5'): 0.00020614977, Move.from_uci('g4e6'): 0.0002049491, Move.from_uci('g4d7'): 0.00020878435, Move.from_uci('g4c8'): 0.00020485805, Move.from_uci('g4h6'): 0.0002054074, Move.from_uci('g4h2'): 0.00020702102, Move.from_uci('g4f2'): 0.00020702647, Move.from_uci('g4e3'): 0.00020253171, Move.from_uci('g4e5'): 0.00020408175, Move.from_uci('g4f6'): 0.00020500999, Move.from_uci('h4h5'): 0.00020679607, Move.from_uci('h4h6'): 0.00020773221, Move.from_uci('h4h7'): 0.00020297409, Move.from_uci('h4h8'): 0.00020691588, Move.from_uci('h4h3'): 0.00020637119, Move.from_uci('h4h2'): 0.00020641572, Move.from_uci('h4h1'): 0.00020729251, Move.from_uci('h4g3'): 0.00020570538, Move.from_uci('h4f2'): 0.00020591661, Move.from_uci('h4e1'): 0.00020504874, Move.from_uci('h4g4'): 0.00020529685, Move.from_uci('h4f4'): 0.0002072141, Move.from_uci('h4e4'): 0.00020446154, Move.from_uci('h4d4'): 0.00020564809, Move.from_uci('h4c4'): 0.00020762491, Move.from_uci('h4b4'): 0.0002060014, Move.from_uci('h4a4'): 0.00020650198, Move.from_uci('h4g5'): 0.00020679268, Move.from_uci('h4f6'): 0.00020506883, Move.from_uci('h4e7'): 0.00020419652, Move.from_uci('h4d8'): 0.00020514481, Move.from_uci('h4g2'): 0.00020472036, Move.from_uci('h4f3'): 0.0002052046, Move.from_uci('h4f5'): 0.00020253618, Move.from_uci('h4g6'): 0.00020593204, Move.from_uci('a5a6'): 0.00020441368, Move.from_uci('a5a7'): 0.0002044546, Move.from_uci('a5a8'): 0.00020316306, Move.from_uci('a5b6'): 0.00020747166, Move.from_uci('a5c7'): 0.0002053117, Move.from_uci('a5d8'): 0.00020888567, Move.from_uci('a5b5'): 0.00020571273, Move.from_uci('a5c5'): 0.0002061347, Move.from_uci('a5d5'): 0.00020465656, Move.from_uci('a5e5'): 0.00020324759, Move.from_uci('a5f5'): 0.00020622181, Move.from_uci('a5g5'): 0.00020532662, Move.from_uci('a5h5'): 0.00020508385, Move.from_uci('a5b4'): 0.00020631714, Move.from_uci('a5c3'): 0.00020400826, Move.from_uci('a5d2'): 0.00020383322, Move.from_uci('a5e1'): 0.00020721238, Move.from_uci('a5a4'): 0.00020637883, Move.from_uci('a5a3'): 0.00020555737, Move.from_uci('a5a2'): 0.00020490469, Move.from_uci('a5a1'): 0.0002067651, Move.from_uci('a5b7'): 0.00020664692, Move.from_uci('a5c6'): 0.00020430889, Move.from_uci('a5c4'): 0.00020593512, Move.from_uci('a5b3'): 0.00020523749, Move.from_uci('b5b6'): 0.00020465658, Move.from_uci('b5b7'): 0.00020470854, Move.from_uci('b5b8'): 0.0002046984, Move.from_uci('b5c6'): 0.00020517033, Move.from_uci('b5d7'): 0.00020134501, Move.from_uci('b5e8'): 0.00020556919, Move.from_uci('b5c5'): 0.00020611889, Move.from_uci('b5d5'): 0.00020639513, Move.from_uci('b5e5'): 0.00020658082, Move.from_uci('b5f5'): 0.00020583837, Move.from_uci('b5g5'): 0.00020594514, Move.from_uci('b5h5'): 0.00020829898, Move.from_uci('b5c4'): 0.00020502663, Move.from_uci('b5d3'): 0.00020619488, Move.from_uci('b5e2'): 0.00020499238, Move.from_uci('b5f1'): 0.0002042103, Move.from_uci('b5b4'): 0.00020423761, Move.from_uci('b5b3'): 0.00020555718, Move.from_uci('b5b2'): 0.00020680904, Move.from_uci('b5b1'): 0.00020592584, Move.from_uci('b5a4'): 0.00020719582, Move.from_uci('b5a5'): 0.00020563578, Move.from_uci('b5a6'): 0.00020704966, Move.from_uci('b5c7'): 0.00020550261, Move.from_uci('b5d6'): 0.00020669795, Move.from_uci('b5d4'): 0.0002056842, Move.from_uci('b5c3'): 0.00020434223, Move.from_uci('b5a3'): 0.00020548089, Move.from_uci('b5a7'): 0.00020440544, Move.from_uci('c5c6'): 0.00020494005, Move.from_uci('c5c7'): 0.00020752488, Move.from_uci('c5c8'): 0.00020441119, Move.from_uci('c5d6'): 0.00020533528, Move.from_uci('c5e7'): 0.00020517818, Move.from_uci('c5f8'): 0.00020715894, Move.from_uci('c5d5'): 0.00020497701, Move.from_uci('c5e5'): 0.00020509554, Move.from_uci('c5f5'): 0.00020656857, Move.from_uci('c5g5'): 0.0002059797, Move.from_uci('c5h5'): 0.00020365042, Move.from_uci('c5d4'): 0.0002035221, Move.from_uci('c5e3'): 0.00020604167, Move.from_uci('c5f2'): 0.00020292797, Move.from_uci('c5g1'): 0.00020453116, Move.from_uci('c5c4'): 0.00020550992, Move.from_uci('c5c3'): 0.00020733169, Move.from_uci('c5c2'): 0.0002072926, Move.from_uci('c5c1'): 0.00020701173, Move.from_uci('c5b4'): 0.00020696499, Move.from_uci('c5a3'): 0.00020523847, Move.from_uci('c5b5'): 0.00020258156, Move.from_uci('c5a5'): 0.00020655467, Move.from_uci('c5b6'): 0.00020343286, Move.from_uci('c5a7'): 0.00020624498, Move.from_uci('c5d7'): 0.00020740087, Move.from_uci('c5e6'): 0.00020681738, Move.from_uci('c5e4'): 0.00020525792, Move.from_uci('c5d3'): 0.00020602925, Move.from_uci('c5b3'): 0.0002057396, Move.from_uci('c5a4'): 0.00020781682, Move.from_uci('c5a6'): 0.00020702292, Move.from_uci('c5b7'): 0.00020529103, Move.from_uci('d5d6'): 0.00020512185, Move.from_uci('d5d7'): 0.00020561843, Move.from_uci('d5d8'): 0.00020467718, Move.from_uci('d5e6'): 0.000206481, Move.from_uci('d5f7'): 0.00020832512, Move.from_uci('d5g8'): 0.00020642004, Move.from_uci('d5e5'): 0.00020525767, Move.from_uci('d5f5'): 0.00020462893, Move.from_uci('d5g5'): 0.00020838802, Move.from_uci('d5h5'): 0.00020556108, Move.from_uci('d5e4'): 0.00020641963, Move.from_uci('d5f3'): 0.00020613585, Move.from_uci('d5g2'): 0.00020576235, Move.from_uci('d5h1'): 0.00020754567, Move.from_uci('d5d4'): 0.00020752751, Move.from_uci('d5d3'): 0.00020576714, Move.from_uci('d5d2'): 0.0002047277, Move.from_uci('d5d1'): 0.00020567732, Move.from_uci('d5c4'): 0.00020521549, Move.from_uci('d5b3'): 0.00020413217, Move.from_uci('d5a2'): 0.0002041545, Move.from_uci('d5c5'): 0.00020663296, Move.from_uci('d5b5'): 0.0002049135, Move.from_uci('d5a5'): 0.00020185663, Move.from_uci('d5c6'): 0.00020578165, Move.from_uci('d5b7'): 0.00020598214, Move.from_uci('d5a8'): 0.0002045897, Move.from_uci('d5e7'): 0.00020602097, Move.from_uci('d5f6'): 0.00020432314, Move.from_uci('d5f4'): 0.00020618389, Move.from_uci('d5e3'): 0.000205915, Move.from_uci('d5c3'): 0.00020351209, Move.from_uci('d5b4'): 0.00020575724, Move.from_uci('d5b6'): 0.00020332616, Move.from_uci('d5c7'): 0.0002054408, Move.from_uci('e5e6'): 0.00020611286, Move.from_uci('e5e7'): 0.0002080025, Move.from_uci('e5e8'): 0.00020300578, Move.from_uci('e5f6'): 0.00020369294, Move.from_uci('e5g7'): 0.0002054658, Move.from_uci('e5h8'): 0.00020594923, Move.from_uci('e5f5'): 0.00020477506, Move.from_uci('e5g5'): 0.00020307105, Move.from_uci('e5h5'): 0.00020547128, Move.from_uci('e5f4'): 0.00020426638, Move.from_uci('e5g3'): 0.00020480884, Move.from_uci('e5h2'): 0.00020346773, Move.from_uci('e5e4'): 0.00020833545, Move.from_uci('e5e3'): 0.00020718938, Move.from_uci('e5e2'): 0.00020593248, Move.from_uci('e5e1'): 0.00020677152, Move.from_uci('e5d4'): 0.00020514737, Move.from_uci('e5c3'): 0.00020353375, Move.from_uci('e5b2'): 0.00020549676, Move.from_uci('e5a1'): 0.00020575858, Move.from_uci('e5d5'): 0.00020512077, Move.from_uci('e5c5'): 0.00020678459, Move.from_uci('e5b5'): 0.00020408668, Move.from_uci('e5a5'): 0.0002030694, Move.from_uci('e5d6'): 0.00020674654, Move.from_uci('e5c7'): 0.00020585021, Move.from_uci('e5b8'): 0.00020425853, Move.from_uci('e5f7'): 0.00020375966, Move.from_uci('e5g6'): 0.00020513778, Move.from_uci('e5g4'): 0.00020482446, Move.from_uci('e5f3'): 0.00020552374, Move.from_uci('e5d3'): 0.0002045261, Move.from_uci('e5c4'): 0.00020570884, Move.from_uci('e5c6'): 0.00020399172, Move.from_uci('e5d7'): 0.00020624493, Move.from_uci('f5f6'): 0.00020289203, Move.from_uci('f5f7'): 0.00020772743, Move.from_uci('f5f8'): 0.00020753234, Move.from_uci('f5g6'): 0.0002068321, Move.from_uci('f5h7'): 0.00020647343, Move.from_uci('f5g5'): 0.00020482937, Move.from_uci('f5h5'): 0.00020434617, Move.from_uci('f5g4'): 0.00020696998, Move.from_uci('f5h3'): 0.00020539413, Move.from_uci('f5f4'): 0.00020472312, Move.from_uci('f5f3'): 0.00020677186, Move.from_uci('f5f2'): 0.00020515795, Move.from_uci('f5f1'): 0.00020455856, Move.from_uci('f5e4'): 0.00020586702, Move.from_uci('f5d3'): 0.00020638217, Move.from_uci('f5c2'): 0.00020539081, Move.from_uci('f5b1'): 0.00020396398, Move.from_uci('f5e5'): 0.00020780589, Move.from_uci('f5d5'): 0.00020708321, Move.from_uci('f5c5'): 0.00020653622, Move.from_uci('f5b5'): 0.00020690856, Move.from_uci('f5a5'): 0.00020316198, Move.from_uci('f5e6'): 0.00020398454, Move.from_uci('f5d7'): 0.00020500047, Move.from_uci('f5c8'): 0.00020675352, Move.from_uci('f5g7'): 0.00020529283, Move.from_uci('f5h6'): 0.00020833351, Move.from_uci('f5h4'): 0.00020415375, Move.from_uci('f5g3'): 0.0002069451, Move.from_uci('f5e3'): 0.0002066092, Move.from_uci('f5d4'): 0.00020559096, Move.from_uci('f5d6'): 0.00020598908, Move.from_uci('f5e7'): 0.00020645936, Move.from_uci('g5g6'): 0.00020518222, Move.from_uci('g5g7'): 0.00020637104, Move.from_uci('g5g8'): 0.0002039656, Move.from_uci('g5h6'): 0.0002068048, Move.from_uci('g5h5'): 0.00020480715, Move.from_uci('g5h4'): 0.00020491076, Move.from_uci('g5g4'): 0.00020505286, Move.from_uci('g5g3'): 0.00020443992, Move.from_uci('g5g2'): 0.0002047803, Move.from_uci('g5g1'): 0.00020455825, Move.from_uci('g5f4'): 0.00020518377, Move.from_uci('g5e3'): 0.00020627737, Move.from_uci('g5d2'): 0.0002061982, Move.from_uci('g5c1'): 0.00020586478, Move.from_uci('g5f5'): 0.00020567479, Move.from_uci('g5e5'): 0.00020433271, Move.from_uci('g5d5'): 0.00020518525, Move.from_uci('g5c5'): 0.00020641858, Move.from_uci('g5b5'): 0.0002059904, Move.from_uci('g5a5'): 0.00020627056, Move.from_uci('g5f6'): 0.00020467144, Move.from_uci('g5e7'): 0.00020328857, Move.from_uci('g5d8'): 0.00021038667, Move.from_uci('g5h7'): 0.00020570123, Move.from_uci('g5h3'): 0.0002053964, Move.from_uci('g5f3'): 0.0002039669, Move.from_uci('g5e4'): 0.00020316229, Move.from_uci('g5e6'): 0.00020575353, Move.from_uci('g5f7'): 0.00020409476, Move.from_uci('h5h6'): 0.00020459123, Move.from_uci('h5h7'): 0.00020790976, Move.from_uci('h5h8'): 0.00020697863, Move.from_uci('h5h4'): 0.00020550616, Move.from_uci('h5h3'): 0.00020440674, Move.from_uci('h5h2'): 0.00020725925, Move.from_uci('h5h1'): 0.00020401322, Move.from_uci('h5g4'): 0.00020598178, Move.from_uci('h5f3'): 0.00020488226, Move.from_uci('h5e2'): 0.00020541786, Move.from_uci('h5d1'): 0.00020407306, Move.from_uci('h5g5'): 0.00020762307, Move.from_uci('h5f5'): 0.00020522847, Move.from_uci('h5e5'): 0.00020352552, Move.from_uci('h5d5'): 0.00020217348, Move.from_uci('h5c5'): 0.00020563982, Move.from_uci('h5b5'): 0.00020482803, Move.from_uci('h5a5'): 0.0002081215, Move.from_uci('h5g6'): 0.00020463936, Move.from_uci('h5f7'): 0.00020642833, Move.from_uci('h5e8'): 0.00020557138, Move.from_uci('h5g3'): 0.00020690309, Move.from_uci('h5f4'): 0.00020534714, Move.from_uci('h5f6'): 0.00020823537, Move.from_uci('h5g7'): 0.00020601007, Move.from_uci('a6a7'): 0.00020408239, Move.from_uci('a6a8'): 0.00020672458, Move.from_uci('a6b7'): 0.00020481, Move.from_uci('a6c8'): 0.00020346572, Move.from_uci('a6b6'): 0.00020819918, Move.from_uci('a6c6'): 0.00020762117, Move.from_uci('a6d6'): 0.0002051477, Move.from_uci('a6e6'): 0.00020523975, Move.from_uci('a6f6'): 0.00020635735, Move.from_uci('a6g6'): 0.00020495798, Move.from_uci('a6h6'): 0.00020550402, Move.from_uci('a6b5'): 0.00020570622, Move.from_uci('a6c4'): 0.0002031849, Move.from_uci('a6d3'): 0.0002059919, Move.from_uci('a6e2'): 0.00020604645, Move.from_uci('a6f1'): 0.00020665787, Move.from_uci('a6a5'): 0.00020469232, Move.from_uci('a6a4'): 0.00020418066, Move.from_uci('a6a3'): 0.00020510255, Move.from_uci('a6a2'): 0.00020693027, Move.from_uci('a6a1'): 0.00020692215, Move.from_uci('a6b8'): 0.00020658933, Move.from_uci('a6c7'): 0.0002057202, Move.from_uci('a6c5'): 0.00020542044, Move.from_uci('a6b4'): 0.00020470549, Move.from_uci('b6b7'): 0.00020572684, Move.from_uci('b6b8'): 0.00020554772, Move.from_uci('b6c7'): 0.00020673535, Move.from_uci('b6d8'): 0.00020649971, Move.from_uci('b6c6'): 0.00020961485, Move.from_uci('b6d6'): 0.00020515136, Move.from_uci('b6e6'): 0.00020624479, Move.from_uci('b6f6'): 0.00020655952, Move.from_uci('b6g6'): 0.00020519644, Move.from_uci('b6h6'): 0.00020622884, Move.from_uci('b6c5'): 0.00020446112, Move.from_uci('b6d4'): 0.00020600152, Move.from_uci('b6e3'): 0.00020542816, Move.from_uci('b6f2'): 0.000206324, Move.from_uci('b6g1'): 0.00020382265, Move.from_uci('b6b5'): 0.00020844208, Move.from_uci('b6b4'): 0.00020458316, Move.from_uci('b6b3'): 0.00020623441, Move.from_uci('b6b2'): 0.00020216985, Move.from_uci('b6b1'): 0.00020600343, Move.from_uci('b6a5'): 0.00020487157, Move.from_uci('b6a6'): 0.00020603396, Move.from_uci('b6a7'): 0.00020441475, Move.from_uci('b6c8'): 0.00020653672, Move.from_uci('b6d7'): 0.00020580013, Move.from_uci('b6d5'): 0.00020894619, Move.from_uci('b6c4'): 0.0002084047, Move.from_uci('b6a4'): 0.00020599921, Move.from_uci('b6a8'): 0.00020397946, Move.from_uci('c6c7'): 0.00020570427, Move.from_uci('c6c8'): 0.00020582294, Move.from_uci('c6d7'): 0.00020485943, Move.from_uci('c6e8'): 0.0002069866, Move.from_uci('c6d6'): 0.00020325229, Move.from_uci('c6e6'): 0.00020569848, Move.from_uci('c6f6'): 0.00020443875, Move.from_uci('c6g6'): 0.00020463413, Move.from_uci('c6h6'): 0.00020713967, Move.from_uci('c6d5'): 0.00020524472, Move.from_uci('c6e4'): 0.00020718145, Move.from_uci('c6f3'): 0.00020639115, Move.from_uci('c6g2'): 0.0002069836, Move.from_uci('c6h1'): 0.00020561535, Move.from_uci('c6c5'): 0.0002070984, Move.from_uci('c6c4'): 0.00020540443, Move.from_uci('c6c3'): 0.0002060304, Move.from_uci('c6c2'): 0.00020641126, Move.from_uci('c6c1'): 0.00020364107, Move.from_uci('c6b5'): 0.00020444013, Move.from_uci('c6a4'): 0.00020557235, Move.from_uci('c6b6'): 0.00020658105, Move.from_uci('c6a6'): 0.0002048771, Move.from_uci('c6b7'): 0.0002061639, Move.from_uci('c6a8'): 0.00020536775, Move.from_uci('c6d8'): 0.00020521725, Move.from_uci('c6e7'): 0.00020253648, Move.from_uci('c6e5'): 0.00020851503, Move.from_uci('c6d4'): 0.00020591816, Move.from_uci('c6b4'): 0.00020326921, Move.from_uci('c6a5'): 0.00020503707, Move.from_uci('c6a7'): 0.0002078124, Move.from_uci('c6b8'): 0.00020658724, Move.from_uci('d6d7'): 0.00020596727, Move.from_uci('d6d8'): 0.00020605956, Move.from_uci('d6e7'): 0.00020541015, Move.from_uci('d6f8'): 0.00020736949, Move.from_uci('d6e6'): 0.00020524356, Move.from_uci('d6f6'): 0.00020528516, Move.from_uci('d6g6'): 0.00020731916, Move.from_uci('d6h6'): 0.0002046722, Move.from_uci('d6e5'): 0.00020346098, Move.from_uci('d6f4'): 0.00020507413, Move.from_uci('d6g3'): 0.00020328687, Move.from_uci('d6h2'): 0.00020250201, Move.from_uci('d6d5'): 0.00020402369, Move.from_uci('d6d4'): 0.00020350055, Move.from_uci('d6d3'): 0.00020701761, Move.from_uci('d6d2'): 0.00020809984, Move.from_uci('d6d1'): 0.00020550315, Move.from_uci('d6c5'): 0.00020575545, Move.from_uci('d6b4'): 0.0002035417, Move.from_uci('d6a3'): 0.00020642582, Move.from_uci('d6c6'): 0.00020565289, Move.from_uci('d6b6'): 0.00020597094, Move.from_uci('d6a6'): 0.0002056875, Move.from_uci('d6c7'): 0.00020542143, Move.from_uci('d6b8'): 0.00020423841, Move.from_uci('d6e8'): 0.00020740932, Move.from_uci('d6f7'): 0.00020606151, Move.from_uci('d6f5'): 0.00020542838, Move.from_uci('d6e4'): 0.00020443731, Move.from_uci('d6c4'): 0.00020659315, Move.from_uci('d6b5'): 0.00020278554, Move.from_uci('d6b7'): 0.00020878034, Move.from_uci('d6c8'): 0.00020670734, Move.from_uci('e6e7'): 0.00020597002, Move.from_uci('e6e8'): 0.00020334558, Move.from_uci('e6f7'): 0.00020209674, Move.from_uci('e6g8'): 0.00020472545, Move.from_uci('e6f6'): 0.0002049478, Move.from_uci('e6g6'): 0.00020637615, Move.from_uci('e6h6'): 0.0002051007, Move.from_uci('e6f5'): 0.00020478042, Move.from_uci('e6g4'): 0.00020446259, Move.from_uci('e6h3'): 0.00020742309, Move.from_uci('e6e5'): 0.00020822775, Move.from_uci('e6e4'): 0.00020491172, Move.from_uci('e6e3'): 0.0002037923, Move.from_uci('e6e2'): 0.000206999, Move.from_uci('e6e1'): 0.00020442774, Move.from_uci('e6d5'): 0.00020510219, Move.from_uci('e6c4'): 0.00020584857, Move.from_uci('e6b3'): 0.00020793099, Move.from_uci('e6a2'): 0.00020460955, Move.from_uci('e6d6'): 0.00020798601, Move.from_uci('e6c6'): 0.00020726354, Move.from_uci('e6b6'): 0.00020789076, Move.from_uci('e6a6'): 0.00020376341, Move.from_uci('e6d7'): 0.00020487161, Move.from_uci('e6c8'): 0.0002073859, Move.from_uci('e6f8'): 0.00020601468, Move.from_uci('e6g7'): 0.00020602332, Move.from_uci('e6g5'): 0.0002040934, Move.from_uci('e6f4'): 0.00020319127, Move.from_uci('e6d4'): 0.00020526187, Move.from_uci('e6c5'): 0.00020516345, Move.from_uci('e6c7'): 0.0002047496, Move.from_uci('e6d8'): 0.00020389054, Move.from_uci('f6f7'): 0.00020517176, Move.from_uci('f6f8'): 0.00020403971, Move.from_uci('f6g7'): 0.00020589949, Move.from_uci('f6h8'): 0.00020376347, Move.from_uci('f6g6'): 0.00020768009, Move.from_uci('f6h6'): 0.00020574362, Move.from_uci('f6g5'): 0.0002082694, Move.from_uci('f6h4'): 0.000206068, Move.from_uci('f6f5'): 0.00020399425, Move.from_uci('f6f4'): 0.00020649344, Move.from_uci('f6f3'): 0.00020815007, Move.from_uci('f6f2'): 0.00020492138, Move.from_uci('f6f1'): 0.0002069391, Move.from_uci('f6e5'): 0.0002037266, Move.from_uci('f6d4'): 0.00020426615, Move.from_uci('f6c3'): 0.00020393667, Move.from_uci('f6b2'): 0.00020590061, Move.from_uci('f6a1'): 0.0002048361, Move.from_uci('f6e6'): 0.00020597901, Move.from_uci('f6d6'): 0.00020682106, Move.from_uci('f6c6'): 0.00020726952, Move.from_uci('f6b6'): 0.00020585502, Move.from_uci('f6a6'): 0.00020475205, Move.from_uci('f6e7'): 0.00020675658, Move.from_uci('f6d8'): 0.00020484072, Move.from_uci('f6g8'): 0.00020201216, Move.from_uci('f6h7'): 0.00020624095, Move.from_uci('f6h5'): 0.00020491662, Move.from_uci('f6g4'): 0.00020540095, Move.from_uci('f6e4'): 0.00020741449, Move.from_uci('f6d5'): 0.0002040835, Move.from_uci('f6d7'): 0.0002069585, Move.from_uci('f6e8'): 0.00020551516, Move.from_uci('g6g7'): 0.0002075344, Move.from_uci('g6g8'): 0.00020497604, Move.from_uci('g6h7'): 0.00020565907, Move.from_uci('g6h6'): 0.00020300344, Move.from_uci('g6h5'): 0.00020594067, Move.from_uci('g6g5'): 0.00020481648, Move.from_uci('g6g4'): 0.00020373917, Move.from_uci('g6g3'): 0.00020627584, Move.from_uci('g6g2'): 0.00020236894, Move.from_uci('g6g1'): 0.00020528572, Move.from_uci('g6f5'): 0.00020543163, Move.from_uci('g6e4'): 0.00020530167, Move.from_uci('g6d3'): 0.00020461169, Move.from_uci('g6c2'): 0.00020619328, Move.from_uci('g6b1'): 0.00020357186, Move.from_uci('g6f6'): 0.00020240371, Move.from_uci('g6e6'): 0.00020441628, Move.from_uci('g6d6'): 0.00020623961, Move.from_uci('g6c6'): 0.00020651634, Move.from_uci('g6b6'): 0.00020798438, Move.from_uci('g6a6'): 0.0002054037, Move.from_uci('g6f7'): 0.00020621541, Move.from_uci('g6e8'): 0.00020550648, Move.from_uci('g6h8'): 0.0002057292, Move.from_uci('g6h4'): 0.00020542854, Move.from_uci('g6f4'): 0.00020508587, Move.from_uci('g6e5'): 0.00020616873, Move.from_uci('g6e7'): 0.00020603996, Move.from_uci('g6f8'): 0.00020662346, Move.from_uci('h6h7'): 0.00020746261, Move.from_uci('h6h8'): 0.00020716687, Move.from_uci('h6h5'): 0.0002066258, Move.from_uci('h6h4'): 0.00020579844, Move.from_uci('h6h3'): 0.00020623545, Move.from_uci('h6h2'): 0.00020465376, Move.from_uci('h6h1'): 0.0002055141, Move.from_uci('h6g5'): 0.00020657718, Move.from_uci('h6f4'): 0.00020518657, Move.from_uci('h6e3'): 0.00020359631, Move.from_uci('h6d2'): 0.00020540062, Move.from_uci('h6c1'): 0.00020635659, Move.from_uci('h6g6'): 0.00020486198, Move.from_uci('h6f6'): 0.00020624344, Move.from_uci('h6e6'): 0.00020659075, Move.from_uci('h6d6'): 0.00020552453, Move.from_uci('h6c6'): 0.00020514333, Move.from_uci('h6b6'): 0.00020545677, Move.from_uci('h6a6'): 0.00020538516, Move.from_uci('h6g7'): 0.00020433884, Move.from_uci('h6f8'): 0.0002062485, Move.from_uci('h6g4'): 0.0002038318, Move.from_uci('h6f5'): 0.00020544592, Move.from_uci('h6f7'): 0.00020639956, Move.from_uci('h6g8'): 0.00020464926, Move.from_uci('a7a8'): 0.00020473686, Move.from_uci('a7b8'): 0.00020681892, Move.from_uci('a7b7'): 0.00020652609, Move.from_uci('a7c7'): 0.00020729782, Move.from_uci('a7d7'): 0.00020726997, Move.from_uci('a7e7'): 0.00020625183, Move.from_uci('a7f7'): 0.00020747322, Move.from_uci('a7g7'): 0.00020831196, Move.from_uci('a7h7'): 0.00020503494, Move.from_uci('a7b6'): 0.00020288661, Move.from_uci('a7c5'): 0.00020530267, Move.from_uci('a7d4'): 0.00020476928, Move.from_uci('a7e3'): 0.0002055826, Move.from_uci('a7f2'): 0.00020627277, Move.from_uci('a7g1'): 0.00020610061, Move.from_uci('a7a6'): 0.00020537701, Move.from_uci('a7a5'): 0.00020282627, Move.from_uci('a7a4'): 0.00020318621, Move.from_uci('a7a3'): 0.00020647647, Move.from_uci('a7a2'): 0.00020639687, Move.from_uci('a7a1'): 0.00020875277, Move.from_uci('a7c8'): 0.00020330197, Move.from_uci('a7c6'): 0.00020442893, Move.from_uci('a7b5'): 0.0002063815, Move.from_uci('a7a8q'): 0.00020260431, Move.from_uci('a7b8q'): 0.00020582834, Move.from_uci('a7a8r'): 0.00020546492, Move.from_uci('a7b8r'): 0.00020567457, Move.from_uci('a7a8b'): 0.00020535865, Move.from_uci('a7b8b'): 0.00020458933, Move.from_uci('a7a8n'): 0.0002068181, Move.from_uci('a7b8n'): 0.0002057248, Move.from_uci('b7b8'): 0.00020692225, Move.from_uci('b7c8'): 0.00020552412, Move.from_uci('b7c7'): 0.00020466611, Move.from_uci('b7d7'): 0.00020383424, Move.from_uci('b7e7'): 0.00020500983, Move.from_uci('b7f7'): 0.00020303275, Move.from_uci('b7g7'): 0.00020610333, Move.from_uci('b7h7'): 0.00020540811, Move.from_uci('b7c6'): 0.00020890096, Move.from_uci('b7d5'): 0.0002059648, Move.from_uci('b7e4'): 0.00020374566, Move.from_uci('b7f3'): 0.00020735647, Move.from_uci('b7g2'): 0.00020683988, Move.from_uci('b7h1'): 0.00020757405, Move.from_uci('b7b6'): 0.00020550692, Move.from_uci('b7b5'): 0.00020579653, Move.from_uci('b7b4'): 0.00020801433, Move.from_uci('b7b3'): 0.00020598192, Move.from_uci('b7b2'): 0.0002051568, Move.from_uci('b7b1'): 0.00020560641, Move.from_uci('b7a6'): 0.00020349232, Move.from_uci('b7a7'): 0.00020537527, Move.from_uci('b7a8'): 0.00020248046, Move.from_uci('b7d8'): 0.0002049375, Move.from_uci('b7d6'): 0.00020666429, Move.from_uci('b7c5'): 0.00020512796, Move.from_uci('b7a5'): 0.00020382763, Move.from_uci('b7a8q'): 0.00020599063, Move.from_uci('b7b8q'): 0.00020666239, Move.from_uci('b7c8q'): 0.00020372309, Move.from_uci('b7a8r'): 0.00020288443, Move.from_uci('b7b8r'): 0.00020630275, Move.from_uci('b7c8r'): 0.00020642231, Move.from_uci('b7a8b'): 0.00020809878, Move.from_uci('b7b8b'): 0.00020337047, Move.from_uci('b7c8b'): 0.00020666565, Move.from_uci('b7a8n'): 0.00020659594, Move.from_uci('b7b8n'): 0.00020472518, Move.from_uci('b7c8n'): 0.0002041257, Move.from_uci('c7c8'): 0.00020567633, Move.from_uci('c7d8'): 0.00020653632, Move.from_uci('c7d7'): 0.00020753128, Move.from_uci('c7e7'): 0.00020520897, Move.from_uci('c7f7'): 0.00020605858, Move.from_uci('c7g7'): 0.00020336644, Move.from_uci('c7h7'): 0.00020431801, Move.from_uci('c7d6'): 0.00020579547, Move.from_uci('c7e5'): 0.00020766947, Move.from_uci('c7f4'): 0.0002045405, Move.from_uci('c7g3'): 0.00020544624, Move.from_uci('c7h2'): 0.00020703877, Move.from_uci('c7c6'): 0.00020398753, Move.from_uci('c7c5'): 0.00020724142, Move.from_uci('c7c4'): 0.00020362758, Move.from_uci('c7c3'): 0.00020437557, Move.from_uci('c7c2'): 0.00020569336, Move.from_uci('c7c1'): 0.00020480317, Move.from_uci('c7b6'): 0.0002047085, Move.from_uci('c7a5'): 0.00020421471, Move.from_uci('c7b7'): 0.00020768735, Move.from_uci('c7a7'): 0.00020608032, Move.from_uci('c7b8'): 0.0002057629, Move.from_uci('c7e8'): 0.00020243341, Move.from_uci('c7e6'): 0.0002064661, Move.from_uci('c7d5'): 0.00020444441, Move.from_uci('c7b5'): 0.00020754548, Move.from_uci('c7a6'): 0.00020489453, Move.from_uci('c7a8'): 0.00020680245, Move.from_uci('c7b8q'): 0.00020461464, Move.from_uci('c7c8q'): 0.00020571142, Move.from_uci('c7d8q'): 0.00020625436, Move.from_uci('c7b8r'): 0.00020538695, Move.from_uci('c7c8r'): 0.0002045509, Move.from_uci('c7d8r'): 0.00020691546, Move.from_uci('c7b8b'): 0.00020476001, Move.from_uci('c7c8b'): 0.00020663536, Move.from_uci('c7d8b'): 0.00020594364, Move.from_uci('c7b8n'): 0.0002051577, Move.from_uci('c7c8n'): 0.0002057019, Move.from_uci('c7d8n'): 0.00020326693, Move.from_uci('d7d8'): 0.00020478104, Move.from_uci('d7e8'): 0.00020387208, Move.from_uci('d7e7'): 0.00020524794, Move.from_uci('d7f7'): 0.0002046962, Move.from_uci('d7g7'): 0.00020361485, Move.from_uci('d7h7'): 0.00020576763, Move.from_uci('d7e6'): 0.00020585814, Move.from_uci('d7f5'): 0.00020844917, Move.from_uci('d7g4'): 0.00020814614, Move.from_uci('d7h3'): 0.00020681928, Move.from_uci('d7d6'): 0.00020659973, Move.from_uci('d7d5'): 0.00020784001, Move.from_uci('d7d4'): 0.00020554633, Move.from_uci('d7d3'): 0.00020441666, Move.from_uci('d7d2'): 0.00020357041, Move.from_uci('d7d1'): 0.00020659853, Move.from_uci('d7c6'): 0.00020616972, Move.from_uci('d7b5'): 0.00020579658, Move.from_uci('d7a4'): 0.0002049745, Move.from_uci('d7c7'): 0.0002050947, Move.from_uci('d7b7'): 0.00020497752, Move.from_uci('d7a7'): 0.00020296418, Move.from_uci('d7c8'): 0.00020458443, Move.from_uci('d7f8'): 0.0002075592, Move.from_uci('d7f6'): 0.00020501441, Move.from_uci('d7e5'): 0.00020538295, Move.from_uci('d7c5'): 0.00020773383, Move.from_uci('d7b6'): 0.00020629542, Move.from_uci('d7b8'): 0.00020755878, Move.from_uci('d7c8q'): 0.00020473768, Move.from_uci('d7d8q'): 0.0002051934, Move.from_uci('d7e8q'): 0.00020672659, Move.from_uci('d7c8r'): 0.00020522214, Move.from_uci('d7d8r'): 0.00020375157, Move.from_uci('d7e8r'): 0.00020586012, Move.from_uci('d7c8b'): 0.00020490575, Move.from_uci('d7d8b'): 0.00020544465, Move.from_uci('d7e8b'): 0.00020599355, Move.from_uci('d7c8n'): 0.00020673148, Move.from_uci('d7d8n'): 0.00020438331, Move.from_uci('d7e8n'): 0.00020462656, Move.from_uci('e7e8'): 0.000206326, Move.from_uci('e7f8'): 0.00020619662, Move.from_uci('e7f7'): 0.00020271701, Move.from_uci('e7g7'): 0.00020633885, Move.from_uci('e7h7'): 0.00020552786, Move.from_uci('e7f6'): 0.00020678132, Move.from_uci('e7g5'): 0.0002065119, Move.from_uci('e7h4'): 0.00020737048, Move.from_uci('e7e6'): 0.00020444409, Move.from_uci('e7e5'): 0.00020654759, Move.from_uci('e7e4'): 0.00020454852, Move.from_uci('e7e3'): 0.00020479152, Move.from_uci('e7e2'): 0.00020626561, Move.from_uci('e7e1'): 0.00020607466, Move.from_uci('e7d6'): 0.00020752643, Move.from_uci('e7c5'): 0.00020556017, Move.from_uci('e7b4'): 0.000204863, Move.from_uci('e7a3'): 0.00020738569, Move.from_uci('e7d7'): 0.00020605134, Move.from_uci('e7c7'): 0.00020456268, Move.from_uci('e7b7'): 0.00020870904, Move.from_uci('e7a7'): 0.00020363022, Move.from_uci('e7d8'): 0.00020420279, Move.from_uci('e7g8'): 0.00020607036, Move.from_uci('e7g6'): 0.00020699577, Move.from_uci('e7f5'): 0.00020701831, Move.from_uci('e7d5'): 0.00020789725, Move.from_uci('e7c6'): 0.00020380275, Move.from_uci('e7c8'): 0.00020556057, Move.from_uci('e7d8q'): 0.00020326448, Move.from_uci('e7e8q'): 0.00020581933, Move.from_uci('e7f8q'): 0.00020557658, Move.from_uci('e7d8r'): 0.00020623452, Move.from_uci('e7e8r'): 0.00020303426, Move.from_uci('e7f8r'): 0.00020746856, Move.from_uci('e7d8b'): 0.00020718278, Move.from_uci('e7e8b'): 0.00020321282, Move.from_uci('e7f8b'): 0.00020779959, Move.from_uci('e7d8n'): 0.00020759607, Move.from_uci('e7e8n'): 0.00020459881, Move.from_uci('e7f8n'): 0.00020555808, Move.from_uci('f7f8'): 0.00020541022, Move.from_uci('f7g8'): 0.00020379187, Move.from_uci('f7g7'): 0.00020553826, Move.from_uci('f7h7'): 0.00020541697, Move.from_uci('f7g6'): 0.00020595946, Move.from_uci('f7h5'): 0.00020499418, Move.from_uci('f7f6'): 0.0002057559, Move.from_uci('f7f5'): 0.00020621321, Move.from_uci('f7f4'): 0.00020606513, Move.from_uci('f7f3'): 0.00020684524, Move.from_uci('f7f2'): 0.00020238427, Move.from_uci('f7f1'): 0.0002057357, Move.from_uci('f7e6'): 0.00020422637, Move.from_uci('f7d5'): 0.00020333908, Move.from_uci('f7c4'): 0.00020598664, Move.from_uci('f7b3'): 0.0002053355, Move.from_uci('f7a2'): 0.00020645921, Move.from_uci('f7e7'): 0.00020435084, Move.from_uci('f7d7'): 0.00020395091, Move.from_uci('f7c7'): 0.000205195, Move.from_uci('f7b7'): 0.00020580486, Move.from_uci('f7a7'): 0.00020517867, Move.from_uci('f7e8'): 0.00020449808, Move.from_uci('f7h8'): 0.00020692793, Move.from_uci('f7h6'): 0.00020561872, Move.from_uci('f7g5'): 0.0002056341, Move.from_uci('f7e5'): 0.00020692336, Move.from_uci('f7d6'): 0.00020559538, Move.from_uci('f7d8'): 0.00020455266, Move.from_uci('f7e8q'): 0.00020533304, Move.from_uci('f7f8q'): 0.00020494076, Move.from_uci('f7g8q'): 0.00020774602, Move.from_uci('f7e8r'): 0.00020612417, Move.from_uci('f7f8r'): 0.00020736229, Move.from_uci('f7g8r'): 0.00020780718, Move.from_uci('f7e8b'): 0.00020680254, Move.from_uci('f7f8b'): 0.00020605963, Move.from_uci('f7g8b'): 0.00020684181, Move.from_uci('f7e8n'): 0.00020488887, Move.from_uci('f7f8n'): 0.00020535043, Move.from_uci('f7g8n'): 0.00020558007, Move.from_uci('g7g8'): 0.00020422664, Move.from_uci('g7h8'): 0.00020600429, Move.from_uci('g7h7'): 0.00020623415, Move.from_uci('g7h6'): 0.0002065219, Move.from_uci('g7g6'): 0.00020679682, Move.from_uci('g7g5'): 0.00020804723, Move.from_uci('g7g4'): 0.00020616088, Move.from_uci('g7g3'): 0.00020572366, Move.from_uci('g7g2'): 0.00020837785, Move.from_uci('g7g1'): 0.00020492189, Move.from_uci('g7f6'): 0.00020380739, Move.from_uci('g7e5'): 0.0002033979, Move.from_uci('g7d4'): 0.00020610813, Move.from_uci('g7c3'): 0.00020712754, Move.from_uci('g7b2'): 0.00020468558, Move.from_uci('g7a1'): 0.00020425068, Move.from_uci('g7f7'): 0.00020354104, Move.from_uci('g7e7'): 0.00020632848, Move.from_uci('g7d7'): 0.00020642321, Move.from_uci('g7c7'): 0.00020662541, Move.from_uci('g7b7'): 0.00020882969, Move.from_uci('g7a7'): 0.00020729555, Move.from_uci('g7f8'): 0.00020467368, Move.from_uci('g7h5'): 0.00020304849, Move.from_uci('g7f5'): 0.00020388882, Move.from_uci('g7e6'): 0.00020438724, Move.from_uci('g7e8'): 0.0002058846, Move.from_uci('g7f8q'): 0.00020373591, Move.from_uci('g7g8q'): 0.000205582, Move.from_uci('g7h8q'): 0.00020364807, Move.from_uci('g7f8r'): 0.00020748837, Move.from_uci('g7g8r'): 0.00020731137, Move.from_uci('g7h8r'): 0.00020543064, Move.from_uci('g7f8b'): 0.00020599259, Move.from_uci('g7g8b'): 0.0002045206, Move.from_uci('g7h8b'): 0.00020576033, Move.from_uci('g7f8n'): 0.00020683958, Move.from_uci('g7g8n'): 0.00020320677, Move.from_uci('g7h8n'): 0.00020511655, Move.from_uci('h7h8'): 0.00020448395, Move.from_uci('h7h6'): 0.00020358892, Move.from_uci('h7h5'): 0.00020733714, Move.from_uci('h7h4'): 0.00020523419, Move.from_uci('h7h3'): 0.00020700772, Move.from_uci('h7h2'): 0.0002059643, Move.from_uci('h7h1'): 0.00020684698, Move.from_uci('h7g6'): 0.00020478164, Move.from_uci('h7f5'): 0.00020701483, Move.from_uci('h7e4'): 0.00020572732, Move.from_uci('h7d3'): 0.0002083737, Move.from_uci('h7c2'): 0.0002052933, Move.from_uci('h7b1'): 0.00020492396, Move.from_uci('h7g7'): 0.00020695038, Move.from_uci('h7f7'): 0.00020790455, Move.from_uci('h7e7'): 0.00020341636, Move.from_uci('h7d7'): 0.0002060744, Move.from_uci('h7c7'): 0.00020543975, Move.from_uci('h7b7'): 0.00020470818, Move.from_uci('h7a7'): 0.00020481845, Move.from_uci('h7g8'): 0.00020522886, Move.from_uci('h7g5'): 0.00020714254, Move.from_uci('h7f6'): 0.00020307586, Move.from_uci('h7f8'): 0.00020660424, Move.from_uci('h7g8q'): 0.00020462972, Move.from_uci('h7h8q'): 0.00020650681, Move.from_uci('h7g8r'): 0.00020663746, Move.from_uci('h7h8r'): 0.00020416464, Move.from_uci('h7g8b'): 0.00020459353, Move.from_uci('h7h8b'): 0.00020650064, Move.from_uci('h7g8n'): 0.00020588569, Move.from_uci('h7h8n'): 0.00020597418, Move.from_uci('a8b8'): 0.00020516131, Move.from_uci('a8c8'): 0.0002076066, Move.from_uci('a8d8'): 0.00020662975, Move.from_uci('a8e8'): 0.00020522137, Move.from_uci('a8f8'): 0.0002047648, Move.from_uci('a8g8'): 0.00020660841, Move.from_uci('a8h8'): 0.00020517805, Move.from_uci('a8b7'): 0.00020441374, Move.from_uci('a8c6'): 0.000205401, Move.from_uci('a8d5'): 0.00020500524, Move.from_uci('a8e4'): 0.00020479075, Move.from_uci('a8f3'): 0.0002059392, Move.from_uci('a8g2'): 0.00020427274, Move.from_uci('a8h1'): 0.00020603476, Move.from_uci('a8a7'): 0.0002059294, Move.from_uci('a8a6'): 0.00020466743, Move.from_uci('a8a5'): 0.00020360848, Move.from_uci('a8a4'): 0.0002039511, Move.from_uci('a8a3'): 0.00020570538, Move.from_uci('a8a2'): 0.00020671166, Move.from_uci('a8a1'): 0.00020361101, Move.from_uci('a8c7'): 0.00020480751, Move.from_uci('a8b6'): 0.00020618088, Move.from_uci('b8c8'): 0.00020704044, Move.from_uci('b8d8'): 0.00020655051, Move.from_uci('b8e8'): 0.00020690935, Move.from_uci('b8f8'): 0.0002057047, Move.from_uci('b8g8'): 0.00020449603, Move.from_uci('b8h8'): 0.0002064619, Move.from_uci('b8c7'): 0.00020624405, Move.from_uci('b8d6'): 0.00020703675, Move.from_uci('b8e5'): 0.00020717719, Move.from_uci('b8f4'): 0.00020770801, Move.from_uci('b8g3'): 0.00020456211, Move.from_uci('b8h2'): 0.00020451896, Move.from_uci('b8b7'): 0.00020598473, Move.from_uci('b8b6'): 0.00020212952, Move.from_uci('b8b5'): 0.00020426518, Move.from_uci('b8b4'): 0.00020679702, Move.from_uci('b8b3'): 0.00020627197, Move.from_uci('b8b2'): 0.00020679382, Move.from_uci('b8b1'): 0.00020413639, Move.from_uci('b8a7'): 0.00020775678, Move.from_uci('b8a8'): 0.00020388576, Move.from_uci('b8d7'): 0.00020455355, Move.from_uci('b8c6'): 0.00020497835, Move.from_uci('b8a6'): 0.00020419311, Move.from_uci('c8d8'): 0.00020665054, Move.from_uci('c8e8'): 0.00020629018, Move.from_uci('c8f8'): 0.0002069668, Move.from_uci('c8g8'): 0.00020523596, Move.from_uci('c8h8'): 0.0002068245, Move.from_uci('c8d7'): 0.00020572549, Move.from_uci('c8e6'): 0.00020583389, Move.from_uci('c8f5'): 0.00020514989, Move.from_uci('c8g4'): 0.00020526232, Move.from_uci('c8h3'): 0.00020822334, Move.from_uci('c8c7'): 0.00020568144, Move.from_uci('c8c6'): 0.00020392628, Move.from_uci('c8c5'): 0.00020277774, Move.from_uci('c8c4'): 0.00020346999, Move.from_uci('c8c3'): 0.00020243102, Move.from_uci('c8c2'): 0.00020795816, Move.from_uci('c8c1'): 0.00020460875, Move.from_uci('c8b7'): 0.00020459009, Move.from_uci('c8a6'): 0.0002055242, Move.from_uci('c8b8'): 0.00020667548, Move.from_uci('c8a8'): 0.000206527, Move.from_uci('c8e7'): 0.00020462279, Move.from_uci('c8d6'): 0.00020507298, Move.from_uci('c8b6'): 0.00020560392, Move.from_uci('c8a7'): 0.00020751473, Move.from_uci('d8e8'): 0.00020571605, Move.from_uci('d8f8'): 0.00020544163, Move.from_uci('d8g8'): 0.00020701194, Move.from_uci('d8h8'): 0.00020634796, Move.from_uci('d8e7'): 0.00020514523, Move.from_uci('d8f6'): 0.0002075502, Move.from_uci('d8g5'): 0.00020428197, Move.from_uci('d8h4'): 0.00020494168, Move.from_uci('d8d7'): 0.00020403498, Move.from_uci('d8d6'): 0.0002049727, Move.from_uci('d8d5'): 0.00020472043, Move.from_uci('d8d4'): 0.00020624767, Move.from_uci('d8d3'): 0.00020392297, Move.from_uci('d8d2'): 0.00020538953, Move.from_uci('d8d1'): 0.00020631216, Move.from_uci('d8c7'): 0.00020651684, Move.from_uci('d8b6'): 0.00020732342, Move.from_uci('d8a5'): 0.00020371717, Move.from_uci('d8c8'): 0.00020421002, Move.from_uci('d8b8'): 0.00020506777, Move.from_uci('d8a8'): 0.00020425864, Move.from_uci('d8f7'): 0.00020608377, Move.from_uci('d8e6'): 0.00020539227, Move.from_uci('d8c6'): 0.0002059317, Move.from_uci('d8b7'): 0.0002039096, Move.from_uci('e8f8'): 0.00020713429, Move.from_uci('e8g8'): 0.00020650116, Move.from_uci('e8h8'): 0.00020602634, Move.from_uci('e8f7'): 0.00020586935, Move.from_uci('e8g6'): 0.00020448094, Move.from_uci('e8h5'): 0.0002059083, Move.from_uci('e8e7'): 0.00020487087, Move.from_uci('e8e6'): 0.00020684158, Move.from_uci('e8e5'): 0.00020339001, Move.from_uci('e8e4'): 0.00020511544, Move.from_uci('e8e3'): 0.00020496776, Move.from_uci('e8e2'): 0.00020480347, Move.from_uci('e8e1'): 0.00020692541, Move.from_uci('e8d7'): 0.00020620343, Move.from_uci('e8c6'): 0.0002066085, Move.from_uci('e8b5'): 0.00020533479, Move.from_uci('e8a4'): 0.00020742942, Move.from_uci('e8d8'): 0.00020595957, Move.from_uci('e8c8'): 0.00020422148, Move.from_uci('e8b8'): 0.00020549374, Move.from_uci('e8a8'): 0.0002046647, Move.from_uci('e8g7'): 0.00020609875, Move.from_uci('e8f6'): 0.00020852446, Move.from_uci('e8d6'): 0.00020590932, Move.from_uci('e8c7'): 0.00020576967, Move.from_uci('f8g8'): 0.00020725108, Move.from_uci('f8h8'): 0.00020545826, Move.from_uci('f8g7'): 0.00020758601, Move.from_uci('f8h6'): 0.00020494356, Move.from_uci('f8f7'): 0.00020559476, Move.from_uci('f8f6'): 0.00020288491, Move.from_uci('f8f5'): 0.00020710312, Move.from_uci('f8f4'): 0.00020636084, Move.from_uci('f8f3'): 0.00020633, Move.from_uci('f8f2'): 0.00020726118, Move.from_uci('f8f1'): 0.00020591199, Move.from_uci('f8e7'): 0.00020594397, Move.from_uci('f8d6'): 0.00020675834, Move.from_uci('f8c5'): 0.00020338947, Move.from_uci('f8b4'): 0.00020584087, Move.from_uci('f8a3'): 0.0002068593, Move.from_uci('f8e8'): 0.00020666077, Move.from_uci('f8d8'): 0.00020459971, Move.from_uci('f8c8'): 0.00020658718, Move.from_uci('f8b8'): 0.00020652248, Move.from_uci('f8a8'): 0.00020909941, Move.from_uci('f8h7'): 0.0002034095, Move.from_uci('f8g6'): 0.0002057461, Move.from_uci('f8e6'): 0.00020655426, Move.from_uci('f8d7'): 0.00020340856, Move.from_uci('g8h8'): 0.00020622888, Move.from_uci('g8h7'): 0.00020616144, Move.from_uci('g8g7'): 0.0002044335, Move.from_uci('g8g6'): 0.00020541922, Move.from_uci('g8g5'): 0.0002068628, Move.from_uci('g8g4'): 0.00020130188, Move.from_uci('g8g3'): 0.00020545593, Move.from_uci('g8g2'): 0.0002045882, Move.from_uci('g8g1'): 0.00020533585, Move.from_uci('g8f7'): 0.00020686479, Move.from_uci('g8e6'): 0.00020254447, Move.from_uci('g8d5'): 0.00020667544, Move.from_uci('g8c4'): 0.00020577894, Move.from_uci('g8b3'): 0.00020563956, Move.from_uci('g8a2'): 0.00020577823, Move.from_uci('g8f8'): 0.00020573178, Move.from_uci('g8e8'): 0.00020749177, Move.from_uci('g8d8'): 0.00020617503, Move.from_uci('g8c8'): 0.00020467288, Move.from_uci('g8b8'): 0.00020506777, Move.from_uci('g8a8'): 0.00020797545, Move.from_uci('g8h6'): 0.00020561909, Move.from_uci('g8f6'): 0.00020900142, Move.from_uci('g8e7'): 0.00020714045, Move.from_uci('h8h7'): 0.00020717183, Move.from_uci('h8h6'): 0.00020704504, Move.from_uci('h8h5'): 0.00020476483, Move.from_uci('h8h4'): 0.00020830895, Move.from_uci('h8h3'): 0.00020680562, Move.from_uci('h8h2'): 0.00020126955, Move.from_uci('h8h1'): 0.00020655162, Move.from_uci('h8g7'): 0.00020504424, Move.from_uci('h8f6'): 0.00020513615, Move.from_uci('h8e5'): 0.00020482564, Move.from_uci('h8d4'): 0.00020628149, Move.from_uci('h8c3'): 0.00020668069, Move.from_uci('h8b2'): 0.00020557041, Move.from_uci('h8a1'): 0.0002062437, Move.from_uci('h8g8'): 0.00020257769, Move.from_uci('h8f8'): 0.00020388505, Move.from_uci('h8e8'): 0.00020446346, Move.from_uci('h8d8'): 0.00020367255, Move.from_uci('h8c8'): 0.00020769516, Move.from_uci('h8b8'): 0.00020848773, Move.from_uci('h8a8'): 0.00020444095, Move.from_uci('h8g6'): 0.0002044986, Move.from_uci('h8f7'): 0.0002045062}\n"
          ]
        }
      ]
    },
    {
      "cell_type": "code",
      "source": [
        "with open('replay_buffer1.pkl', 'rb') as f:\n",
        "    buff = pickle.load(f)\n",
        "print(len(buff))"
      ],
      "metadata": {
        "colab": {
          "base_uri": "https://localhost:8080/"
        },
        "id": "pZ4YirTvRLV3",
        "outputId": "1405d89a-5001-4dae-fe45-0fb794116e85"
      },
      "execution_count": null,
      "outputs": [
        {
          "output_type": "stream",
          "name": "stdout",
          "text": [
            "124\n"
          ]
        }
      ]
    },
    {
      "cell_type": "code",
      "source": [
        "count_checkmates(buff1)"
      ],
      "metadata": {
        "colab": {
          "base_uri": "https://localhost:8080/"
        },
        "id": "iFwfDq3ER_0L",
        "outputId": "cc96c601-b841-4231-d998-35a3ee5d3262"
      },
      "execution_count": null,
      "outputs": [
        {
          "output_type": "execute_result",
          "data": {
            "text/plain": [
              "(0, 12)"
            ]
          },
          "metadata": {},
          "execution_count": 20
        }
      ]
    },
    {
      "cell_type": "markdown",
      "source": [
        "Note: OK so the second method actually does run substantially faster.\n",
        "\n",
        "What lessons can I learn from this weird episode of debugging?\n",
        "- Just fucking use the GPT, you're going to waste a lot of time otherwise.\n",
        "- If you don't, please consider looking harder by reading and thinking than coding."
      ],
      "metadata": {
        "id": "nDkRKDpliW8V"
      }
    },
    {
      "cell_type": "code",
      "source": [
        "#Old Model\n",
        "#ChessNet Model 2\n",
        "#Seems 33% faster for some reason?\n",
        "import tensorflow as tf\n",
        "from tensorflow.keras import layers\n",
        "\n",
        "class ResidualBlock(tf.keras.Model):\n",
        "    def __init__(self, num_filters):\n",
        "        super(ResidualBlock, self).__init__()\n",
        "        self.conv1 = layers.Conv2D(num_filters, kernel_size=(3,3),strides=1, padding='same')\n",
        "        self.bn1 = layers.BatchNormalization()\n",
        "        self.conv2 = layers.Conv2D(num_filters, kernel_size=(3,3),strides=1, padding='same')\n",
        "        self.bn2 = layers.BatchNormalization()\n",
        "\n",
        "    def call(self, input_tensor, training=False):\n",
        "        x = self.conv1(input_tensor)\n",
        "        x = self.bn1(x, training=training)\n",
        "        x = tf.nn.relu(x)\n",
        "\n",
        "        x = self.conv2(x)\n",
        "        x = self.bn2(x, training=training)\n",
        "\n",
        "        x += input_tensor\n",
        "        return tf.nn.relu(x)\n",
        "\n",
        "class ChessNet(tf.keras.Model):\n",
        "    def __init__(self, num_residual_blocks=1, num_filters=1):\n",
        "        super(ChessNet, self).__init__()\n",
        "        self.conv = layers.Conv2D(num_filters, kernel_size=(3,3),strides=1, padding='same')\n",
        "        self.bn = layers.BatchNormalization()\n",
        "        self.res_blocks = [ResidualBlock(num_filters) for _ in range(num_residual_blocks)]\n",
        "\n",
        "        self.policy_head = layers.Conv2D(2, kernel_size=1)\n",
        "        self.policy_bn = layers.BatchNormalization()\n",
        "        self.policy_flatten = layers.Flatten()\n",
        "        self.policy_dense = layers.Dense(1968, activation='softmax')  # 4672 is the number of possible chess moves\n",
        "\n",
        "        self.value_head = layers.Conv2D(1, kernel_size=1)\n",
        "        self.value_bn = layers.BatchNormalization()\n",
        "        self.value_flatten = layers.Flatten()\n",
        "        self.value_dense1 = layers.Dense(256)\n",
        "        self.value_dense2 = layers.Dense(1, activation='tanh')\n",
        "\n",
        "\n",
        "    def call(self, input_tensor, training=False):\n",
        "        x = self.conv(tf.expand_dims(input_tensor,axis=0))\n",
        "        x = self.bn(x, training=training)\n",
        "        x = tf.nn.relu(x)\n",
        "\n",
        "        for block in self.res_blocks:\n",
        "            x = block(x, training=training)\n",
        "\n",
        "        policy = self.policy_head(x)\n",
        "        policy = self.policy_bn(policy, training=training)\n",
        "        policy = tf.nn.relu(policy)\n",
        "        policy = self.policy_flatten(policy)\n",
        "        policy = self.policy_dense(policy)\n",
        "\n",
        "        value = self.value_head(x)\n",
        "        value = self.value_bn(value, training=training)\n",
        "        value = tf.nn.relu(value)\n",
        "        value = self.value_flatten(value)\n",
        "        value = self.value_dense1(value)\n",
        "        value = self.value_dense2(value)\n",
        "\n",
        "        return value.numpy()[0][0], policy.numpy()[0]\n",
        "\n",
        "    def inference(self, image):\n",
        "      value, policy = self.call(image)\n",
        "      policy_logits = {i:val for i,val in enumerate(policy)}\n",
        "      return value, policy_logits\n",
        "\n",
        "    def get_weights(self):\n",
        "      weights = []\n",
        "      for layer in self.layers:\n",
        "        weights.extend(layer.get_weights())\n",
        "      return weights\n"
      ],
      "metadata": {
        "id": "lVZikwu-ifum"
      },
      "execution_count": null,
      "outputs": []
    }
  ]
}